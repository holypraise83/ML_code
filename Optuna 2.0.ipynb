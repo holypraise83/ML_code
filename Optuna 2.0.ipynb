{
 "cells": [
  {
   "cell_type": "code",
   "execution_count": 2,
   "metadata": {
    "ExecuteTime": {
     "end_time": "2021-04-19T07:35:07.169126Z",
     "start_time": "2021-04-19T07:35:07.166767Z"
    }
   },
   "outputs": [],
   "source": [
    "# !pip install optuna"
   ]
  },
  {
   "cell_type": "code",
   "execution_count": 3,
   "metadata": {
    "ExecuteTime": {
     "end_time": "2021-04-19T07:35:19.783698Z",
     "start_time": "2021-04-19T07:35:16.675542Z"
    }
   },
   "outputs": [],
   "source": [
    "import optuna"
   ]
  },
  {
   "cell_type": "markdown",
   "metadata": {},
   "source": [
    "## Quadratic function example"
   ]
  },
  {
   "cell_type": "markdown",
   "metadata": {},
   "source": [
    "### we want to find the value of x that mimizes the outfut of the objective function"
   ]
  },
  {
   "cell_type": "code",
   "execution_count": 4,
   "metadata": {
    "ExecuteTime": {
     "end_time": "2021-04-19T07:36:34.920879Z",
     "start_time": "2021-04-19T07:36:34.917998Z"
    }
   },
   "outputs": [],
   "source": [
    "def objective(trial):\n",
    "    x = trial.suggest_float('x', -10, 10)\n",
    "    return (x-2)**2"
   ]
  },
  {
   "cell_type": "code",
   "execution_count": 5,
   "metadata": {
    "ExecuteTime": {
     "end_time": "2021-04-19T07:38:20.378035Z",
     "start_time": "2021-04-19T07:38:19.785026Z"
    }
   },
   "outputs": [
    {
     "name": "stderr",
     "output_type": "stream",
     "text": [
      "\u001b[32m[I 2021-04-19 16:38:19,786]\u001b[0m A new study created in memory with name: no-name-831434f1-fc45-46f8-ac68-52eff8896ead\u001b[0m\n",
      "\u001b[32m[I 2021-04-19 16:38:19,789]\u001b[0m Trial 0 finished with value: 0.1246427134986879 and parameters: {'x': 2.3530477496015063}. Best is trial 0 with value: 0.1246427134986879.\u001b[0m\n",
      "\u001b[32m[I 2021-04-19 16:38:19,790]\u001b[0m Trial 1 finished with value: 0.18870984916116315 and parameters: {'x': 2.4344074690439417}. Best is trial 0 with value: 0.1246427134986879.\u001b[0m\n",
      "\u001b[32m[I 2021-04-19 16:38:19,791]\u001b[0m Trial 2 finished with value: 0.06588490231922592 and parameters: {'x': 2.2566805452682885}. Best is trial 2 with value: 0.06588490231922592.\u001b[0m\n",
      "\u001b[32m[I 2021-04-19 16:38:19,792]\u001b[0m Trial 3 finished with value: 2.497911804404235 and parameters: {'x': 0.41952165329472635}. Best is trial 2 with value: 0.06588490231922592.\u001b[0m\n",
      "\u001b[32m[I 2021-04-19 16:38:19,794]\u001b[0m Trial 4 finished with value: 0.07771271749843017 and parameters: {'x': 1.7212299917522866}. Best is trial 2 with value: 0.06588490231922592.\u001b[0m\n",
      "\u001b[32m[I 2021-04-19 16:38:19,795]\u001b[0m Trial 5 finished with value: 22.364350188150095 and parameters: {'x': -2.7290961280301858}. Best is trial 2 with value: 0.06588490231922592.\u001b[0m\n",
      "\u001b[32m[I 2021-04-19 16:38:19,796]\u001b[0m Trial 6 finished with value: 123.54326701054785 and parameters: {'x': -9.115001889813058}. Best is trial 2 with value: 0.06588490231922592.\u001b[0m\n",
      "\u001b[32m[I 2021-04-19 16:38:19,798]\u001b[0m Trial 7 finished with value: 24.534374911668557 and parameters: {'x': -2.953218641617646}. Best is trial 2 with value: 0.06588490231922592.\u001b[0m\n",
      "\u001b[32m[I 2021-04-19 16:38:19,799]\u001b[0m Trial 8 finished with value: 23.181749429707285 and parameters: {'x': -2.814742924571081}. Best is trial 2 with value: 0.06588490231922592.\u001b[0m\n",
      "\u001b[32m[I 2021-04-19 16:38:19,800]\u001b[0m Trial 9 finished with value: 53.61529925490749 and parameters: {'x': 9.322246872026884}. Best is trial 2 with value: 0.06588490231922592.\u001b[0m\n",
      "\u001b[32m[I 2021-04-19 16:38:19,805]\u001b[0m Trial 10 finished with value: 35.19847031043201 and parameters: {'x': 7.932829873713893}. Best is trial 2 with value: 0.06588490231922592.\u001b[0m\n",
      "\u001b[32m[I 2021-04-19 16:38:19,810]\u001b[0m Trial 11 finished with value: 3.604899956478635 and parameters: {'x': 3.8986574089283814}. Best is trial 2 with value: 0.06588490231922592.\u001b[0m\n",
      "\u001b[32m[I 2021-04-19 16:38:19,814]\u001b[0m Trial 12 finished with value: 13.507983145215 and parameters: {'x': 5.675320822080026}. Best is trial 2 with value: 0.06588490231922592.\u001b[0m\n",
      "\u001b[32m[I 2021-04-19 16:38:19,819]\u001b[0m Trial 13 finished with value: 5.731017548949712 and parameters: {'x': -0.39395437486801566}. Best is trial 2 with value: 0.06588490231922592.\u001b[0m\n",
      "\u001b[32m[I 2021-04-19 16:38:19,823]\u001b[0m Trial 14 finished with value: 83.90629432606057 and parameters: {'x': -7.16003789981573}. Best is trial 2 with value: 0.06588490231922592.\u001b[0m\n",
      "\u001b[32m[I 2021-04-19 16:38:19,829]\u001b[0m Trial 15 finished with value: 17.60981072701688 and parameters: {'x': 6.196404499928109}. Best is trial 2 with value: 0.06588490231922592.\u001b[0m\n",
      "\u001b[32m[I 2021-04-19 16:38:19,834]\u001b[0m Trial 16 finished with value: 3.1793987461750626 and parameters: {'x': 0.21691314115799099}. Best is trial 2 with value: 0.06588490231922592.\u001b[0m\n",
      "\u001b[32m[I 2021-04-19 16:38:19,840]\u001b[0m Trial 17 finished with value: 49.76219257604767 and parameters: {'x': -5.054232245683981}. Best is trial 2 with value: 0.06588490231922592.\u001b[0m\n",
      "\u001b[32m[I 2021-04-19 16:38:19,845]\u001b[0m Trial 18 finished with value: 2.295725354143715 and parameters: {'x': 3.515165124382064}. Best is trial 2 with value: 0.06588490231922592.\u001b[0m\n",
      "\u001b[32m[I 2021-04-19 16:38:19,851]\u001b[0m Trial 19 finished with value: 13.227438839027432 and parameters: {'x': 5.636954610526152}. Best is trial 2 with value: 0.06588490231922592.\u001b[0m\n",
      "\u001b[32m[I 2021-04-19 16:38:19,856]\u001b[0m Trial 20 finished with value: 10.802843597208664 and parameters: {'x': -1.286767956094355}. Best is trial 2 with value: 0.06588490231922592.\u001b[0m\n",
      "\u001b[32m[I 2021-04-19 16:38:19,861]\u001b[0m Trial 21 finished with value: 0.003678720810065332 and parameters: {'x': 1.9393475407747935}. Best is trial 21 with value: 0.003678720810065332.\u001b[0m\n",
      "\u001b[32m[I 2021-04-19 16:38:19,867]\u001b[0m Trial 22 finished with value: 0.21080885474160277 and parameters: {'x': 1.5408607458062393}. Best is trial 21 with value: 0.003678720810065332.\u001b[0m\n",
      "\u001b[32m[I 2021-04-19 16:38:19,874]\u001b[0m Trial 23 finished with value: 7.916656299948334 and parameters: {'x': 4.813655327140895}. Best is trial 21 with value: 0.003678720810065332.\u001b[0m\n",
      "\u001b[32m[I 2021-04-19 16:38:19,880]\u001b[0m Trial 24 finished with value: 0.1025950508297597 and parameters: {'x': 1.6796953780699384}. Best is trial 21 with value: 0.003678720810065332.\u001b[0m\n",
      "\u001b[32m[I 2021-04-19 16:38:19,887]\u001b[0m Trial 25 finished with value: 28.843886082314402 and parameters: {'x': 7.370650433822183}. Best is trial 21 with value: 0.003678720810065332.\u001b[0m\n",
      "\u001b[32m[I 2021-04-19 16:38:19,895]\u001b[0m Trial 26 finished with value: 1.071745322864248 and parameters: {'x': 3.035251333186414}. Best is trial 21 with value: 0.003678720810065332.\u001b[0m\n",
      "\u001b[32m[I 2021-04-19 16:38:19,901]\u001b[0m Trial 27 finished with value: 9.925907649233245 and parameters: {'x': -1.1505408502720997}. Best is trial 21 with value: 0.003678720810065332.\u001b[0m\n",
      "\u001b[32m[I 2021-04-19 16:38:19,907]\u001b[0m Trial 28 finished with value: 0.5174787865608277 and parameters: {'x': 1.2806400160136597}. Best is trial 21 with value: 0.003678720810065332.\u001b[0m\n",
      "\u001b[32m[I 2021-04-19 16:38:19,913]\u001b[0m Trial 29 finished with value: 4.889813696418653 and parameters: {'x': 4.211292313652506}. Best is trial 21 with value: 0.003678720810065332.\u001b[0m\n",
      "\u001b[32m[I 2021-04-19 16:38:19,922]\u001b[0m Trial 30 finished with value: 0.2970464922903414 and parameters: {'x': 2.545019717340888}. Best is trial 21 with value: 0.003678720810065332.\u001b[0m\n",
      "\u001b[32m[I 2021-04-19 16:38:19,928]\u001b[0m Trial 31 finished with value: 0.053651061113121276 and parameters: {'x': 1.7683730129861348}. Best is trial 21 with value: 0.003678720810065332.\u001b[0m\n",
      "\u001b[32m[I 2021-04-19 16:38:19,937]\u001b[0m Trial 32 finished with value: 1.1632982317308957 and parameters: {'x': 0.92143695977894}. Best is trial 21 with value: 0.003678720810065332.\u001b[0m\n",
      "\u001b[32m[I 2021-04-19 16:38:19,943]\u001b[0m Trial 33 finished with value: 0.28031587166743716 and parameters: {'x': 2.5294486487540007}. Best is trial 21 with value: 0.003678720810065332.\u001b[0m\n",
      "\u001b[32m[I 2021-04-19 16:38:19,949]\u001b[0m Trial 34 finished with value: 9.193485084628959 and parameters: {'x': -1.0320760354300087}. Best is trial 21 with value: 0.003678720810065332.\u001b[0m\n",
      "\u001b[32m[I 2021-04-19 16:38:19,954]\u001b[0m Trial 35 finished with value: 3.4919567454316365 and parameters: {'x': 0.13132219325223526}. Best is trial 21 with value: 0.003678720810065332.\u001b[0m\n",
      "\u001b[32m[I 2021-04-19 16:38:19,962]\u001b[0m Trial 36 finished with value: 0.009826316724347887 and parameters: {'x': 1.900872220218811}. Best is trial 21 with value: 0.003678720810065332.\u001b[0m\n",
      "\u001b[32m[I 2021-04-19 16:38:19,981]\u001b[0m Trial 37 finished with value: 7.305525880078551 and parameters: {'x': 4.702873633760659}. Best is trial 21 with value: 0.003678720810065332.\u001b[0m\n",
      "\u001b[32m[I 2021-04-19 16:38:19,989]\u001b[0m Trial 38 finished with value: 37.86079382966084 and parameters: {'x': -4.153112531854171}. Best is trial 21 with value: 0.003678720810065332.\u001b[0m\n",
      "\u001b[32m[I 2021-04-19 16:38:19,996]\u001b[0m Trial 39 finished with value: 0.11212152414404511 and parameters: {'x': 2.334845522807227}. Best is trial 21 with value: 0.003678720810065332.\u001b[0m\n",
      "\u001b[32m[I 2021-04-19 16:38:20,004]\u001b[0m Trial 40 finished with value: 2.01984266728057 and parameters: {'x': 3.4212116898198417}. Best is trial 21 with value: 0.003678720810065332.\u001b[0m\n",
      "\u001b[32m[I 2021-04-19 16:38:20,010]\u001b[0m Trial 41 finished with value: 16.11549933161448 and parameters: {'x': -2.0144114551966985}. Best is trial 21 with value: 0.003678720810065332.\u001b[0m\n",
      "\u001b[32m[I 2021-04-19 16:38:20,018]\u001b[0m Trial 42 finished with value: 1.447023614931448 and parameters: {'x': 0.7970770536183758}. Best is trial 21 with value: 0.003678720810065332.\u001b[0m\n",
      "\u001b[32m[I 2021-04-19 16:38:20,024]\u001b[0m Trial 43 finished with value: 0.0020428601142012124 and parameters: {'x': 1.954801989930958}. Best is trial 43 with value: 0.0020428601142012124.\u001b[0m\n",
      "\u001b[32m[I 2021-04-19 16:38:20,029]\u001b[0m Trial 44 finished with value: 0.026008418988350684 and parameters: {'x': 2.1612712590276106}. Best is trial 43 with value: 0.0020428601142012124.\u001b[0m\n"
     ]
    },
    {
     "name": "stderr",
     "output_type": "stream",
     "text": [
      "\u001b[32m[I 2021-04-19 16:38:20,034]\u001b[0m Trial 45 finished with value: 5.142742188548241 and parameters: {'x': -0.26776149287094153}. Best is trial 43 with value: 0.0020428601142012124.\u001b[0m\n",
      "\u001b[32m[I 2021-04-19 16:38:20,039]\u001b[0m Trial 46 finished with value: 0.00034255296769829436 and parameters: {'x': 1.9814918134951505}. Best is trial 46 with value: 0.00034255296769829436.\u001b[0m\n",
      "\u001b[32m[I 2021-04-19 16:38:20,049]\u001b[0m Trial 47 finished with value: 0.7071658428922242 and parameters: {'x': 2.840931532820731}. Best is trial 46 with value: 0.00034255296769829436.\u001b[0m\n",
      "\u001b[32m[I 2021-04-19 16:38:20,062]\u001b[0m Trial 48 finished with value: 4.921784380284651 and parameters: {'x': 4.218509495198218}. Best is trial 46 with value: 0.00034255296769829436.\u001b[0m\n",
      "\u001b[32m[I 2021-04-19 16:38:20,072]\u001b[0m Trial 49 finished with value: 24.237308267156944 and parameters: {'x': 6.923140082016451}. Best is trial 46 with value: 0.00034255296769829436.\u001b[0m\n",
      "\u001b[32m[I 2021-04-19 16:38:20,079]\u001b[0m Trial 50 finished with value: 1.8371836235737948 and parameters: {'x': 0.6445725310538395}. Best is trial 46 with value: 0.00034255296769829436.\u001b[0m\n",
      "\u001b[32m[I 2021-04-19 16:38:20,087]\u001b[0m Trial 51 finished with value: 0.03896776907106988 and parameters: {'x': 1.8025974441121142}. Best is trial 46 with value: 0.00034255296769829436.\u001b[0m\n",
      "\u001b[32m[I 2021-04-19 16:38:20,092]\u001b[0m Trial 52 finished with value: 0.03320803147998468 and parameters: {'x': 1.8177692905134135}. Best is trial 46 with value: 0.00034255296769829436.\u001b[0m\n",
      "\u001b[32m[I 2021-04-19 16:38:20,103]\u001b[0m Trial 53 finished with value: 2.0210879484185944 and parameters: {'x': 3.4216497277524427}. Best is trial 46 with value: 0.00034255296769829436.\u001b[0m\n",
      "\u001b[32m[I 2021-04-19 16:38:20,108]\u001b[0m Trial 54 finished with value: 6.2344532240096715 and parameters: {'x': -0.4968887087753173}. Best is trial 46 with value: 0.00034255296769829436.\u001b[0m\n",
      "\u001b[32m[I 2021-04-19 16:38:20,116]\u001b[0m Trial 55 finished with value: 9.261215479350685 and parameters: {'x': 5.043224520036385}. Best is trial 46 with value: 0.00034255296769829436.\u001b[0m\n",
      "\u001b[32m[I 2021-04-19 16:38:20,123]\u001b[0m Trial 56 finished with value: 15.661773164268592 and parameters: {'x': -1.9574958198674817}. Best is trial 46 with value: 0.00034255296769829436.\u001b[0m\n",
      "\u001b[32m[I 2021-04-19 16:38:20,129]\u001b[0m Trial 57 finished with value: 0.990882273026429 and parameters: {'x': 1.0045693027505989}. Best is trial 46 with value: 0.00034255296769829436.\u001b[0m\n",
      "\u001b[32m[I 2021-04-19 16:38:20,136]\u001b[0m Trial 58 finished with value: 0.2571664985151323 and parameters: {'x': 2.5071158630087726}. Best is trial 46 with value: 0.00034255296769829436.\u001b[0m\n",
      "\u001b[32m[I 2021-04-19 16:38:20,141]\u001b[0m Trial 59 finished with value: 3.6556452778365003 and parameters: {'x': 3.911974183360356}. Best is trial 46 with value: 0.00034255296769829436.\u001b[0m\n",
      "\u001b[32m[I 2021-04-19 16:38:20,147]\u001b[0m Trial 60 finished with value: 0.0003740962925826705 and parameters: {'x': 1.9806584309689552}. Best is trial 46 with value: 0.00034255296769829436.\u001b[0m\n",
      "\u001b[32m[I 2021-04-19 16:38:20,152]\u001b[0m Trial 61 finished with value: 0.0025958465026976493 and parameters: {'x': 1.9490505495348807}. Best is trial 46 with value: 0.00034255296769829436.\u001b[0m\n",
      "\u001b[32m[I 2021-04-19 16:38:20,157]\u001b[0m Trial 62 finished with value: 2.9359888634146274 and parameters: {'x': 0.28652725046044947}. Best is trial 46 with value: 0.00034255296769829436.\u001b[0m\n",
      "\u001b[32m[I 2021-04-19 16:38:20,162]\u001b[0m Trial 63 finished with value: 1.3057375543523337 and parameters: {'x': 3.1426887390502865}. Best is trial 46 with value: 0.00034255296769829436.\u001b[0m\n",
      "\u001b[32m[I 2021-04-19 16:38:20,168]\u001b[0m Trial 64 finished with value: 0.0002285392304697288 and parameters: {'x': 1.9848824859692564}. Best is trial 64 with value: 0.0002285392304697288.\u001b[0m\n",
      "\u001b[32m[I 2021-04-19 16:38:20,173]\u001b[0m Trial 65 finished with value: 0.6516798031106743 and parameters: {'x': 1.1927331277014557}. Best is trial 64 with value: 0.0002285392304697288.\u001b[0m\n",
      "\u001b[32m[I 2021-04-19 16:38:20,180]\u001b[0m Trial 66 finished with value: 13.670315687133314 and parameters: {'x': 5.697339000840106}. Best is trial 64 with value: 0.0002285392304697288.\u001b[0m\n",
      "\u001b[32m[I 2021-04-19 16:38:20,189]\u001b[0m Trial 67 finished with value: 7.132489722082328 and parameters: {'x': -0.6706721479961422}. Best is trial 64 with value: 0.0002285392304697288.\u001b[0m\n",
      "\u001b[32m[I 2021-04-19 16:38:20,194]\u001b[0m Trial 68 finished with value: 2.5038636869862594 and parameters: {'x': 0.4176398365143732}. Best is trial 64 with value: 0.0002285392304697288.\u001b[0m\n",
      "\u001b[32m[I 2021-04-19 16:38:20,200]\u001b[0m Trial 69 finished with value: 3.8837321164870806 and parameters: {'x': 3.9707186801994547}. Best is trial 64 with value: 0.0002285392304697288.\u001b[0m\n",
      "\u001b[32m[I 2021-04-19 16:38:20,205]\u001b[0m Trial 70 finished with value: 0.00040371534889830637 and parameters: {'x': 2.0200926690337124}. Best is trial 64 with value: 0.0002285392304697288.\u001b[0m\n",
      "\u001b[32m[I 2021-04-19 16:38:20,210]\u001b[0m Trial 71 finished with value: 0.4585642510765101 and parameters: {'x': 1.3228262770333523}. Best is trial 64 with value: 0.0002285392304697288.\u001b[0m\n",
      "\u001b[32m[I 2021-04-19 16:38:20,217]\u001b[0m Trial 72 finished with value: 0.004058383590870888 and parameters: {'x': 2.063705443965731}. Best is trial 64 with value: 0.0002285392304697288.\u001b[0m\n",
      "\u001b[32m[I 2021-04-19 16:38:20,222]\u001b[0m Trial 73 finished with value: 0.9793034060073992 and parameters: {'x': 2.989597598020225}. Best is trial 64 with value: 0.0002285392304697288.\u001b[0m\n",
      "\u001b[32m[I 2021-04-19 16:38:20,227]\u001b[0m Trial 74 finished with value: 0.2854991180755115 and parameters: {'x': 2.5343211750207093}. Best is trial 64 with value: 0.0002285392304697288.\u001b[0m\n",
      "\u001b[32m[I 2021-04-19 16:38:20,234]\u001b[0m Trial 75 finished with value: 6.659416821499828 and parameters: {'x': 4.580584589099886}. Best is trial 64 with value: 0.0002285392304697288.\u001b[0m\n",
      "\u001b[32m[I 2021-04-19 16:38:20,239]\u001b[0m Trial 76 finished with value: 2.6430042370620206 and parameters: {'x': 3.6257319081146253}. Best is trial 64 with value: 0.0002285392304697288.\u001b[0m\n",
      "\u001b[32m[I 2021-04-19 16:38:20,244]\u001b[0m Trial 77 finished with value: 4.074369359292689 and parameters: {'x': -0.018506715196332957}. Best is trial 64 with value: 0.0002285392304697288.\u001b[0m\n",
      "\u001b[32m[I 2021-04-19 16:38:20,250]\u001b[0m Trial 78 finished with value: 0.4553263310625848 and parameters: {'x': 1.325221272517735}. Best is trial 64 with value: 0.0002285392304697288.\u001b[0m\n",
      "\u001b[32m[I 2021-04-19 16:38:20,256]\u001b[0m Trial 79 finished with value: 0.07570492075649066 and parameters: {'x': 2.275145272095471}. Best is trial 64 with value: 0.0002285392304697288.\u001b[0m\n",
      "\u001b[32m[I 2021-04-19 16:38:20,261]\u001b[0m Trial 80 finished with value: 0.9270820000410294 and parameters: {'x': 2.9628509749909533}. Best is trial 64 with value: 0.0002285392304697288.\u001b[0m\n",
      "\u001b[32m[I 2021-04-19 16:38:20,269]\u001b[0m Trial 81 finished with value: 0.006012597953450616 and parameters: {'x': 1.9224590562770183}. Best is trial 64 with value: 0.0002285392304697288.\u001b[0m\n",
      "\u001b[32m[I 2021-04-19 16:38:20,274]\u001b[0m Trial 82 finished with value: 1.5534903622121374 and parameters: {'x': 0.7536090652559537}. Best is trial 64 with value: 0.0002285392304697288.\u001b[0m\n",
      "\u001b[32m[I 2021-04-19 16:38:20,279]\u001b[0m Trial 83 finished with value: 0.0012124647531441795 and parameters: {'x': 2.034820464573928}. Best is trial 64 with value: 0.0002285392304697288.\u001b[0m\n",
      "\u001b[32m[I 2021-04-19 16:38:20,286]\u001b[0m Trial 84 finished with value: 0.3084935071729165 and parameters: {'x': 1.4445780818396554}. Best is trial 64 with value: 0.0002285392304697288.\u001b[0m\n",
      "\u001b[32m[I 2021-04-19 16:38:20,291]\u001b[0m Trial 85 finished with value: 0.019907593516641963 and parameters: {'x': 2.141094271735751}. Best is trial 64 with value: 0.0002285392304697288.\u001b[0m\n",
      "\u001b[32m[I 2021-04-19 16:38:20,297]\u001b[0m Trial 86 finished with value: 0.5933661583050462 and parameters: {'x': 2.770302640723142}. Best is trial 64 with value: 0.0002285392304697288.\u001b[0m\n",
      "\u001b[32m[I 2021-04-19 16:38:20,303]\u001b[0m Trial 87 finished with value: 1.8935751301960855 and parameters: {'x': 3.376072356453717}. Best is trial 64 with value: 0.0002285392304697288.\u001b[0m\n",
      "\u001b[32m[I 2021-04-19 16:38:20,308]\u001b[0m Trial 88 finished with value: 1.9214823384278785 and parameters: {'x': 0.613824564339752}. Best is trial 64 with value: 0.0002285392304697288.\u001b[0m\n",
      "\u001b[32m[I 2021-04-19 16:38:20,315]\u001b[0m Trial 89 finished with value: 10.286597059837808 and parameters: {'x': 5.207272526592932}. Best is trial 64 with value: 0.0002285392304697288.\u001b[0m\n"
     ]
    },
    {
     "name": "stderr",
     "output_type": "stream",
     "text": [
      "\u001b[32m[I 2021-04-19 16:38:20,321]\u001b[0m Trial 90 finished with value: 125.24833921960283 and parameters: {'x': -9.19144044435759}. Best is trial 64 with value: 0.0002285392304697288.\u001b[0m\n",
      "\u001b[32m[I 2021-04-19 16:38:20,327]\u001b[0m Trial 91 finished with value: 0.015534590658609149 and parameters: {'x': 1.8753621620108518}. Best is trial 64 with value: 0.0002285392304697288.\u001b[0m\n",
      "\u001b[32m[I 2021-04-19 16:38:20,333]\u001b[0m Trial 92 finished with value: 0.14689133337156063 and parameters: {'x': 1.6167359482399104}. Best is trial 64 with value: 0.0002285392304697288.\u001b[0m\n",
      "\u001b[32m[I 2021-04-19 16:38:20,339]\u001b[0m Trial 93 finished with value: 0.044266134559424464 and parameters: {'x': 2.2103951866355893}. Best is trial 64 with value: 0.0002285392304697288.\u001b[0m\n",
      "\u001b[32m[I 2021-04-19 16:38:20,344]\u001b[0m Trial 94 finished with value: 4.541375898156639 and parameters: {'x': -0.13105042130791444}. Best is trial 64 with value: 0.0002285392304697288.\u001b[0m\n",
      "\u001b[32m[I 2021-04-19 16:38:20,352]\u001b[0m Trial 95 finished with value: 0.9030109772711528 and parameters: {'x': 1.0497311026498064}. Best is trial 64 with value: 0.0002285392304697288.\u001b[0m\n",
      "\u001b[32m[I 2021-04-19 16:38:20,358]\u001b[0m Trial 96 finished with value: 61.37936499921045 and parameters: {'x': 9.834498388487322}. Best is trial 64 with value: 0.0002285392304697288.\u001b[0m\n",
      "\u001b[32m[I 2021-04-19 16:38:20,365]\u001b[0m Trial 97 finished with value: 2.8662039222005213 and parameters: {'x': 3.692986686953126}. Best is trial 64 with value: 0.0002285392304697288.\u001b[0m\n",
      "\u001b[32m[I 2021-04-19 16:38:20,370]\u001b[0m Trial 98 finished with value: 0.36641042747308655 and parameters: {'x': 2.605318451290795}. Best is trial 64 with value: 0.0002285392304697288.\u001b[0m\n",
      "\u001b[32m[I 2021-04-19 16:38:20,375]\u001b[0m Trial 99 finished with value: 2.003668364444191e-05 and parameters: {'x': 2.0044762354321954}. Best is trial 99 with value: 2.003668364444191e-05.\u001b[0m\n"
     ]
    }
   ],
   "source": [
    "study = optuna.create_study()\n",
    "study.optimize(objective, n_trials= 100)"
   ]
  },
  {
   "cell_type": "markdown",
   "metadata": {},
   "source": [
    "### Best parameter"
   ]
  },
  {
   "cell_type": "code",
   "execution_count": 7,
   "metadata": {
    "ExecuteTime": {
     "end_time": "2021-04-19T07:40:30.473549Z",
     "start_time": "2021-04-19T07:40:30.470180Z"
    }
   },
   "outputs": [
    {
     "name": "stdout",
     "output_type": "stream",
     "text": [
      "Found x : 2.0044762354321954, (x-2)^2 : 2.003668364444191e-05\n"
     ]
    }
   ],
   "source": [
    "best_params = study.best_params\n",
    "found_x = best_params[\"x\"]\n",
    "print(\"Found x : {}, (x-2)^2 : {}\".format(found_x, (found_x - 2)**2))"
   ]
  },
  {
   "cell_type": "markdown",
   "metadata": {},
   "source": [
    "## study object\n",
    "### Trial : A single call of the objective function\n",
    "### Study : An optimization session, which is a set of trials\n",
    "### Parameter : A variable shose value is to be optimized, such as x in the above example"
   ]
  },
  {
   "cell_type": "code",
   "execution_count": 8,
   "metadata": {
    "ExecuteTime": {
     "end_time": "2021-04-19T07:43:28.466956Z",
     "start_time": "2021-04-19T07:43:28.461542Z"
    }
   },
   "outputs": [
    {
     "data": {
      "text/plain": [
       "{'x': 2.0044762354321954}"
      ]
     },
     "execution_count": 8,
     "metadata": {},
     "output_type": "execute_result"
    }
   ],
   "source": [
    "study.best_params"
   ]
  },
  {
   "cell_type": "code",
   "execution_count": 10,
   "metadata": {
    "ExecuteTime": {
     "end_time": "2021-04-19T07:43:37.865282Z",
     "start_time": "2021-04-19T07:43:37.861662Z"
    }
   },
   "outputs": [
    {
     "data": {
      "text/plain": [
       "2.003668364444191e-05"
      ]
     },
     "execution_count": 10,
     "metadata": {},
     "output_type": "execute_result"
    }
   ],
   "source": [
    "study.best_value"
   ]
  },
  {
   "cell_type": "code",
   "execution_count": 11,
   "metadata": {
    "ExecuteTime": {
     "end_time": "2021-04-19T07:44:04.971706Z",
     "start_time": "2021-04-19T07:44:04.967584Z"
    }
   },
   "outputs": [
    {
     "data": {
      "text/plain": [
       "FrozenTrial(number=99, values=[2.003668364444191e-05], datetime_start=datetime.datetime(2021, 4, 19, 16, 38, 20, 371364), datetime_complete=datetime.datetime(2021, 4, 19, 16, 38, 20, 375454), params={'x': 2.0044762354321954}, distributions={'x': UniformDistribution(high=10.0, low=-10.0)}, user_attrs={}, system_attrs={}, intermediate_values={}, trial_id=99, state=TrialState.COMPLETE, value=None)"
      ]
     },
     "execution_count": 11,
     "metadata": {},
     "output_type": "execute_result"
    }
   ],
   "source": [
    "study.best_trial"
   ]
  },
  {
   "cell_type": "markdown",
   "metadata": {},
   "source": [
    "### Plot functions"
   ]
  },
  {
   "cell_type": "code",
   "execution_count": 16,
   "metadata": {
    "ExecuteTime": {
     "end_time": "2021-04-19T07:57:49.502080Z",
     "start_time": "2021-04-19T07:57:47.614578Z"
    }
   },
   "outputs": [
    {
     "name": "stdout",
     "output_type": "stream",
     "text": [
      "\u001b[31mERROR: Could not find a version that satisfies the requirement optuna.visualization (from versions: none)\u001b[0m\r\n",
      "\u001b[31mERROR: No matching distribution found for optuna.visualization\u001b[0m\r\n"
     ]
    }
   ],
   "source": [
    "!pip install optuna.visualization"
   ]
  },
  {
   "cell_type": "code",
   "execution_count": 15,
   "metadata": {
    "ExecuteTime": {
     "end_time": "2021-04-19T07:55:59.173906Z",
     "start_time": "2021-04-19T07:55:59.158127Z"
    }
   },
   "outputs": [
    {
     "ename": "ImportError",
     "evalue": "Tried to import 'plotly' but failed. Please make sure that the package is installed correctly to use this feature. Actual error: No module named 'plotly'.",
     "output_type": "error",
     "traceback": [
      "\u001b[0;31m---------------------------------------------------------------------------\u001b[0m",
      "\u001b[0;31mModuleNotFoundError\u001b[0m                       Traceback (most recent call last)",
      "\u001b[0;32m~/opt/anaconda3/lib/python3.8/site-packages/optuna/visualization/_plotly_imports.py\u001b[0m in \u001b[0;36m<module>\u001b[0;34m\u001b[0m\n\u001b[1;32m      6\u001b[0m \u001b[0;32mwith\u001b[0m \u001b[0mtry_import\u001b[0m\u001b[0;34m(\u001b[0m\u001b[0;34m)\u001b[0m \u001b[0;32mas\u001b[0m \u001b[0m_imports\u001b[0m\u001b[0;34m:\u001b[0m  \u001b[0;31m# NOQA\u001b[0m\u001b[0;34m\u001b[0m\u001b[0;34m\u001b[0m\u001b[0m\n\u001b[0;32m----> 7\u001b[0;31m     \u001b[0;32mimport\u001b[0m \u001b[0mplotly\u001b[0m  \u001b[0;31m# NOQA\u001b[0m\u001b[0;34m\u001b[0m\u001b[0;34m\u001b[0m\u001b[0m\n\u001b[0m\u001b[1;32m      8\u001b[0m     \u001b[0;32mfrom\u001b[0m \u001b[0mplotly\u001b[0m \u001b[0;32mimport\u001b[0m \u001b[0m__version__\u001b[0m \u001b[0;32mas\u001b[0m \u001b[0mplotly_version\u001b[0m\u001b[0;34m\u001b[0m\u001b[0;34m\u001b[0m\u001b[0m\n",
      "\u001b[0;31mModuleNotFoundError\u001b[0m: No module named 'plotly'",
      "\nThe above exception was the direct cause of the following exception:\n",
      "\u001b[0;31mImportError\u001b[0m                               Traceback (most recent call last)",
      "\u001b[0;32m<ipython-input-15-e1e543c58306>\u001b[0m in \u001b[0;36m<module>\u001b[0;34m\u001b[0m\n\u001b[1;32m     11\u001b[0m \u001b[0;34m\u001b[0m\u001b[0m\n\u001b[1;32m     12\u001b[0m \u001b[0mnp\u001b[0m\u001b[0;34m.\u001b[0m\u001b[0mrandom\u001b[0m\u001b[0;34m.\u001b[0m\u001b[0mseed\u001b[0m\u001b[0;34m(\u001b[0m\u001b[0mSEED\u001b[0m\u001b[0;34m)\u001b[0m\u001b[0;34m\u001b[0m\u001b[0;34m\u001b[0m\u001b[0m\n\u001b[0;32m---> 13\u001b[0;31m \u001b[0mplot_optimization_history\u001b[0m\u001b[0;34m(\u001b[0m\u001b[0mstudy\u001b[0m\u001b[0;34m)\u001b[0m\u001b[0;34m\u001b[0m\u001b[0;34m\u001b[0m\u001b[0m\n\u001b[0m",
      "\u001b[0;32m~/opt/anaconda3/lib/python3.8/site-packages/optuna/visualization/_optimization_history.py\u001b[0m in \u001b[0;36mplot_optimization_history\u001b[0;34m(study, target, target_name)\u001b[0m\n\u001b[1;32m     70\u001b[0m     \"\"\"\n\u001b[1;32m     71\u001b[0m \u001b[0;34m\u001b[0m\u001b[0m\n\u001b[0;32m---> 72\u001b[0;31m     \u001b[0m_imports\u001b[0m\u001b[0;34m.\u001b[0m\u001b[0mcheck\u001b[0m\u001b[0;34m(\u001b[0m\u001b[0;34m)\u001b[0m\u001b[0;34m\u001b[0m\u001b[0;34m\u001b[0m\u001b[0m\n\u001b[0m\u001b[1;32m     73\u001b[0m     \u001b[0m_check_plot_args\u001b[0m\u001b[0;34m(\u001b[0m\u001b[0mstudy\u001b[0m\u001b[0;34m,\u001b[0m \u001b[0mtarget\u001b[0m\u001b[0;34m,\u001b[0m \u001b[0mtarget_name\u001b[0m\u001b[0;34m)\u001b[0m\u001b[0;34m\u001b[0m\u001b[0;34m\u001b[0m\u001b[0m\n\u001b[1;32m     74\u001b[0m     \u001b[0;32mreturn\u001b[0m \u001b[0m_get_optimization_history_plot\u001b[0m\u001b[0;34m(\u001b[0m\u001b[0mstudy\u001b[0m\u001b[0;34m,\u001b[0m \u001b[0mtarget\u001b[0m\u001b[0;34m,\u001b[0m \u001b[0mtarget_name\u001b[0m\u001b[0;34m)\u001b[0m\u001b[0;34m\u001b[0m\u001b[0;34m\u001b[0m\u001b[0m\n",
      "\u001b[0;32m~/opt/anaconda3/lib/python3.8/site-packages/optuna/_imports.py\u001b[0m in \u001b[0;36mcheck\u001b[0;34m(self)\u001b[0m\n\u001b[1;32m     84\u001b[0m         \u001b[0;32mif\u001b[0m \u001b[0mself\u001b[0m\u001b[0;34m.\u001b[0m\u001b[0m_deferred\u001b[0m \u001b[0;32mis\u001b[0m \u001b[0;32mnot\u001b[0m \u001b[0;32mNone\u001b[0m\u001b[0;34m:\u001b[0m\u001b[0;34m\u001b[0m\u001b[0;34m\u001b[0m\u001b[0m\n\u001b[1;32m     85\u001b[0m             \u001b[0mexc_value\u001b[0m\u001b[0;34m,\u001b[0m \u001b[0mmessage\u001b[0m \u001b[0;34m=\u001b[0m \u001b[0mself\u001b[0m\u001b[0;34m.\u001b[0m\u001b[0m_deferred\u001b[0m\u001b[0;34m\u001b[0m\u001b[0;34m\u001b[0m\u001b[0m\n\u001b[0;32m---> 86\u001b[0;31m             \u001b[0;32mraise\u001b[0m \u001b[0mImportError\u001b[0m\u001b[0;34m(\u001b[0m\u001b[0mmessage\u001b[0m\u001b[0;34m)\u001b[0m \u001b[0;32mfrom\u001b[0m \u001b[0mexc_value\u001b[0m\u001b[0;34m\u001b[0m\u001b[0;34m\u001b[0m\u001b[0m\n\u001b[0m\u001b[1;32m     87\u001b[0m \u001b[0;34m\u001b[0m\u001b[0m\n\u001b[1;32m     88\u001b[0m \u001b[0;34m\u001b[0m\u001b[0m\n",
      "\u001b[0;31mImportError\u001b[0m: Tried to import 'plotly' but failed. Please make sure that the package is installed correctly to use this feature. Actual error: No module named 'plotly'."
     ]
    }
   ],
   "source": [
    "\n",
    "from optuna.visualization import plot_contour\n",
    "from optuna.visualization import plot_edf\n",
    "from optuna.visualization import plot_intermediate_values\n",
    "from optuna.visualization import plot_optimization_history\n",
    "from optuna.visualization import plot_parallel_coordinate\n",
    "from optuna.visualization import plot_param_importances\n",
    "from optuna.visualization import plot_slice\n",
    "import numpy as np\n",
    "\n",
    "SEED = 42\n",
    "\n",
    "np.random.seed(SEED)\n",
    "plot_optimization_history(study)"
   ]
  },
  {
   "cell_type": "code",
   "execution_count": null,
   "metadata": {},
   "outputs": [],
   "source": []
  }
 ],
 "metadata": {
  "kernelspec": {
   "display_name": "Python 3",
   "language": "python",
   "name": "python3"
  },
  "language_info": {
   "codemirror_mode": {
    "name": "ipython",
    "version": 3
   },
   "file_extension": ".py",
   "mimetype": "text/x-python",
   "name": "python",
   "nbconvert_exporter": "python",
   "pygments_lexer": "ipython3",
   "version": "3.8.5"
  }
 },
 "nbformat": 4,
 "nbformat_minor": 4
}
