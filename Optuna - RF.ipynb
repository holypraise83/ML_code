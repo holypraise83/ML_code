{
 "cells": [
  {
   "cell_type": "markdown",
   "metadata": {},
   "source": [
    "## Optuna function"
   ]
  },
  {
   "cell_type": "code",
   "execution_count": 1,
   "metadata": {
    "ExecuteTime": {
     "end_time": "2021-04-20T02:36:41.753103Z",
     "start_time": "2021-04-20T02:36:39.184008Z"
    }
   },
   "outputs": [],
   "source": [
    "import optuna\n",
    "import pandas as pd\n",
    "from sklearn import linear_model\n",
    "from sklearn import ensemble\n",
    "from sklearn import datasets\n",
    "from sklearn import model_selection\n",
    "\n",
    "#Grabbing a sklearn Classification dataset:\n",
    "X,y = datasets.load_breast_cancer(return_X_y=True, as_frame=True)\n",
    "\n",
    "\n"
   ]
  },
  {
   "cell_type": "markdown",
   "metadata": {},
   "source": [
    "### Step 1. Define an objective function\n",
    "### Step 2. Define a set of hyperparameters to try\n",
    "### Step 3. Define the variable/metrics you want to optimize\n",
    "### Step 4. Run function\n"
   ]
  },
  {
   "cell_type": "markdown",
   "metadata": {},
   "source": [
    "\n",
    "### Trial : A single call of the objective function\n",
    "### Study : An optimization session, which is a set of trials¶"
   ]
  },
  {
   "cell_type": "code",
   "execution_count": 2,
   "metadata": {
    "ExecuteTime": {
     "end_time": "2021-04-20T02:37:39.975315Z",
     "start_time": "2021-04-20T02:36:43.889038Z"
    }
   },
   "outputs": [
    {
     "name": "stderr",
     "output_type": "stream",
     "text": [
      "\u001b[32m[I 2021-04-20 11:36:43,892]\u001b[0m A new study created in memory with name: no-name-87cddc6c-f100-4a65-a203-0820d595e677\u001b[0m\n",
      "\u001b[32m[I 2021-04-20 11:36:45,805]\u001b[0m Trial 0 finished with value: 0.945521210433491 and parameters: {'classifier': 'LogReg', 'logreg_c': 59588536.05877921}. Best is trial 0 with value: 0.945521210433491.\u001b[0m\n",
      "\u001b[32m[I 2021-04-20 11:36:46,890]\u001b[0m Trial 1 finished with value: 0.9472663139329806 and parameters: {'classifier': 'LogReg', 'logreg_c': 4142500007.851913}. Best is trial 1 with value: 0.9472663139329806.\u001b[0m\n",
      "\u001b[32m[I 2021-04-20 11:36:49,197]\u001b[0m Trial 2 finished with value: 0.9578204771187228 and parameters: {'classifier': 'RandomForest', 'rf_n_estimators': 661, 'rf_max_depth': 17}. Best is trial 2 with value: 0.9578204771187228.\u001b[0m\n",
      "\u001b[32m[I 2021-04-20 11:36:50,239]\u001b[0m Trial 3 finished with value: 0.9367399981435068 and parameters: {'classifier': 'LogReg', 'logreg_c': 2612.7720506581145}. Best is trial 2 with value: 0.9578204771187228.\u001b[0m\n",
      "\u001b[32m[I 2021-04-20 11:36:50,309]\u001b[0m Trial 4 finished with value: 0.9419938735728209 and parameters: {'classifier': 'LogReg', 'logreg_c': 1.608770700994546}. Best is trial 2 with value: 0.9578204771187228.\u001b[0m\n",
      "\u001b[32m[I 2021-04-20 11:36:51,321]\u001b[0m Trial 5 finished with value: 0.9402487700733314 and parameters: {'classifier': 'LogReg', 'logreg_c': 664554.5294671353}. Best is trial 2 with value: 0.9578204771187228.\u001b[0m\n",
      "\u001b[32m[I 2021-04-20 11:36:51,826]\u001b[0m Trial 6 finished with value: 0.9595841455490578 and parameters: {'classifier': 'RandomForest', 'rf_n_estimators': 219, 'rf_max_depth': 14}. Best is trial 6 with value: 0.9595841455490578.\u001b[0m\n",
      "\u001b[32m[I 2021-04-20 11:36:51,898]\u001b[0m Trial 7 finished with value: 0.9455026455026454 and parameters: {'classifier': 'LogReg', 'logreg_c': 0.9252541979557152}. Best is trial 6 with value: 0.9595841455490578.\u001b[0m\n",
      "\u001b[32m[I 2021-04-20 11:36:51,947]\u001b[0m Trial 8 finished with value: 0.9402580525387543 and parameters: {'classifier': 'LogReg', 'logreg_c': 809.9853258534447}. Best is trial 6 with value: 0.9595841455490578.\u001b[0m\n",
      "\u001b[32m[I 2021-04-20 11:36:52,673]\u001b[0m Trial 9 finished with value: 0.945530492898914 and parameters: {'classifier': 'RandomForest', 'rf_n_estimators': 416, 'rf_max_depth': 2}. Best is trial 6 with value: 0.9595841455490578.\u001b[0m\n",
      "\u001b[32m[I 2021-04-20 11:36:53,034]\u001b[0m Trial 10 finished with value: 0.9560753736192332 and parameters: {'classifier': 'RandomForest', 'rf_n_estimators': 163, 'rf_max_depth': 31}. Best is trial 6 with value: 0.9595841455490578.\u001b[0m\n",
      "\u001b[32m[I 2021-04-20 11:36:54,642]\u001b[0m Trial 11 finished with value: 0.9578297595841455 and parameters: {'classifier': 'RandomForest', 'rf_n_estimators': 902, 'rf_max_depth': 16}. Best is trial 6 with value: 0.9595841455490578.\u001b[0m\n",
      "\u001b[32m[I 2021-04-20 11:36:56,546]\u001b[0m Trial 12 finished with value: 0.9560753736192332 and parameters: {'classifier': 'RandomForest', 'rf_n_estimators': 990, 'rf_max_depth': 10}. Best is trial 6 with value: 0.9595841455490578.\u001b[0m\n",
      "\u001b[32m[I 2021-04-20 11:36:56,684]\u001b[0m Trial 13 finished with value: 0.9613385315139701 and parameters: {'classifier': 'RandomForest', 'rf_n_estimators': 51, 'rf_max_depth': 16}. Best is trial 13 with value: 0.9613385315139701.\u001b[0m\n",
      "\u001b[32m[I 2021-04-20 11:36:56,799]\u001b[0m Trial 14 finished with value: 0.9578297595841455 and parameters: {'classifier': 'RandomForest', 'rf_n_estimators': 31, 'rf_max_depth': 5}. Best is trial 13 with value: 0.9613385315139701.\u001b[0m\n",
      "\u001b[32m[I 2021-04-20 11:36:57,325]\u001b[0m Trial 15 finished with value: 0.9578483245149911 and parameters: {'classifier': 'RandomForest', 'rf_n_estimators': 225, 'rf_max_depth': 31}. Best is trial 13 with value: 0.9613385315139701.\u001b[0m\n",
      "\u001b[32m[I 2021-04-20 11:36:57,428]\u001b[0m Trial 16 finished with value: 0.9595934280144807 and parameters: {'classifier': 'RandomForest', 'rf_n_estimators': 25, 'rf_max_depth': 7}. Best is trial 13 with value: 0.9613385315139701.\u001b[0m\n",
      "\u001b[32m[I 2021-04-20 11:36:57,511]\u001b[0m Trial 17 finished with value: 0.9525573192239859 and parameters: {'classifier': 'RandomForest', 'rf_n_estimators': 32, 'rf_max_depth': 4}. Best is trial 13 with value: 0.9613385315139701.\u001b[0m\n",
      "\u001b[32m[I 2021-04-20 11:36:57,573]\u001b[0m Trial 18 finished with value: 0.9472663139329806 and parameters: {'classifier': 'RandomForest', 'rf_n_estimators': 19, 'rf_max_depth': 6}. Best is trial 13 with value: 0.9613385315139701.\u001b[0m\n",
      "\u001b[32m[I 2021-04-20 11:36:58,436]\u001b[0m Trial 19 finished with value: 0.9472755963984034 and parameters: {'classifier': 'RandomForest', 'rf_n_estimators': 418, 'rf_max_depth': 3}. Best is trial 13 with value: 0.9613385315139701.\u001b[0m\n",
      "\u001b[32m[I 2021-04-20 11:36:59,573]\u001b[0m Trial 20 finished with value: 0.9578297595841455 and parameters: {'classifier': 'RandomForest', 'rf_n_estimators': 611, 'rf_max_depth': 9}. Best is trial 13 with value: 0.9613385315139701.\u001b[0m\n",
      "\u001b[32m[I 2021-04-20 11:36:59,932]\u001b[0m Trial 21 finished with value: 0.9595841455490578 and parameters: {'classifier': 'RandomForest', 'rf_n_estimators': 196, 'rf_max_depth': 16}. Best is trial 13 with value: 0.9613385315139701.\u001b[0m\n",
      "\u001b[32m[I 2021-04-20 11:37:00,200]\u001b[0m Trial 22 finished with value: 0.9543117051888982 and parameters: {'classifier': 'RandomForest', 'rf_n_estimators': 148, 'rf_max_depth': 22}. Best is trial 13 with value: 0.9613385315139701.\u001b[0m\n",
      "\u001b[32m[I 2021-04-20 11:37:00,793]\u001b[0m Trial 23 finished with value: 0.9648565859092174 and parameters: {'classifier': 'RandomForest', 'rf_n_estimators': 314, 'rf_max_depth': 10}. Best is trial 23 with value: 0.9648565859092174.\u001b[0m\n",
      "\u001b[32m[I 2021-04-20 11:37:01,442]\u001b[0m Trial 24 finished with value: 0.9613385315139701 and parameters: {'classifier': 'RandomForest', 'rf_n_estimators': 355, 'rf_max_depth': 9}. Best is trial 23 with value: 0.9648565859092174.\u001b[0m\n",
      "\u001b[32m[I 2021-04-20 11:37:02,070]\u001b[0m Trial 25 finished with value: 0.9595841455490578 and parameters: {'classifier': 'RandomForest', 'rf_n_estimators': 354, 'rf_max_depth': 9}. Best is trial 23 with value: 0.9648565859092174.\u001b[0m\n",
      "\u001b[32m[I 2021-04-20 11:37:02,739]\u001b[0m Trial 26 finished with value: 0.9560660911538105 and parameters: {'classifier': 'RandomForest', 'rf_n_estimators': 313, 'rf_max_depth': 12}. Best is trial 23 with value: 0.9648565859092174.\u001b[0m\n",
      "\u001b[32m[I 2021-04-20 11:37:03,762]\u001b[0m Trial 27 finished with value: 0.959574863083635 and parameters: {'classifier': 'RandomForest', 'rf_n_estimators': 549, 'rf_max_depth': 22}. Best is trial 23 with value: 0.9648565859092174.\u001b[0m\n",
      "\u001b[32m[I 2021-04-20 11:37:05,117]\u001b[0m Trial 28 finished with value: 0.9595934280144807 and parameters: {'classifier': 'RandomForest', 'rf_n_estimators': 780, 'rf_max_depth': 8}. Best is trial 23 with value: 0.9648565859092174.\u001b[0m\n",
      "\u001b[32m[I 2021-04-20 11:37:05,972]\u001b[0m Trial 29 finished with value: 0.9543302701197439 and parameters: {'classifier': 'RandomForest', 'rf_n_estimators': 484, 'rf_max_depth': 12}. Best is trial 23 with value: 0.9648565859092174.\u001b[0m\n",
      "\u001b[32m[I 2021-04-20 11:37:06,551]\u001b[0m Trial 30 finished with value: 0.9560660911538105 and parameters: {'classifier': 'RandomForest', 'rf_n_estimators': 320, 'rf_max_depth': 24}. Best is trial 23 with value: 0.9648565859092174.\u001b[0m\n",
      "\u001b[32m[I 2021-04-20 11:37:06,745]\u001b[0m Trial 31 finished with value: 0.9578297595841455 and parameters: {'classifier': 'RandomForest', 'rf_n_estimators': 97, 'rf_max_depth': 6}. Best is trial 23 with value: 0.9648565859092174.\u001b[0m\n",
      "\u001b[32m[I 2021-04-20 11:37:08,215]\u001b[0m Trial 32 finished with value: 0.9560660911538105 and parameters: {'classifier': 'RandomForest', 'rf_n_estimators': 838, 'rf_max_depth': 7}. Best is trial 23 with value: 0.9648565859092174.\u001b[0m\n",
      "\u001b[32m[I 2021-04-20 11:37:08,711]\u001b[0m Trial 33 finished with value: 0.9543209876543209 and parameters: {'classifier': 'RandomForest', 'rf_n_estimators': 273, 'rf_max_depth': 11}. Best is trial 23 with value: 0.9648565859092174.\u001b[0m\n",
      "\u001b[32m[I 2021-04-20 11:37:08,907]\u001b[0m Trial 34 finished with value: 0.9578204771187228 and parameters: {'classifier': 'RandomForest', 'rf_n_estimators': 98, 'rf_max_depth': 5}. Best is trial 23 with value: 0.9648565859092174.\u001b[0m\n",
      "\u001b[32m[I 2021-04-20 11:37:09,127]\u001b[0m Trial 35 finished with value: 0.9613292490485472 and parameters: {'classifier': 'RandomForest', 'rf_n_estimators': 99, 'rf_max_depth': 8}. Best is trial 23 with value: 0.9648565859092174.\u001b[0m\n"
     ]
    },
    {
     "name": "stderr",
     "output_type": "stream",
     "text": [
      "\u001b[32m[I 2021-04-20 11:37:09,826]\u001b[0m Trial 36 finished with value: 0.9543117051888982 and parameters: {'classifier': 'RandomForest', 'rf_n_estimators': 386, 'rf_max_depth': 14}. Best is trial 23 with value: 0.9648565859092174.\u001b[0m\n",
      "\u001b[32m[I 2021-04-20 11:37:09,848]\u001b[0m Trial 37 finished with value: 0.6274204028589994 and parameters: {'classifier': 'LogReg', 'logreg_c': 2.4088945821340217e-10}. Best is trial 23 with value: 0.9648565859092174.\u001b[0m\n",
      "\u001b[32m[I 2021-04-20 11:37:10,736]\u001b[0m Trial 38 finished with value: 0.9543117051888982 and parameters: {'classifier': 'RandomForest', 'rf_n_estimators': 500, 'rf_max_depth': 20}. Best is trial 23 with value: 0.9648565859092174.\u001b[0m\n",
      "\u001b[32m[I 2021-04-20 11:37:10,762]\u001b[0m Trial 39 finished with value: 0.6274204028589994 and parameters: {'classifier': 'LogReg', 'logreg_c': 6.773041562031867e-10}. Best is trial 23 with value: 0.9648565859092174.\u001b[0m\n",
      "\u001b[32m[I 2021-04-20 11:37:11,265]\u001b[0m Trial 40 finished with value: 0.9578297595841455 and parameters: {'classifier': 'RandomForest', 'rf_n_estimators': 262, 'rf_max_depth': 8}. Best is trial 23 with value: 0.9648565859092174.\u001b[0m\n",
      "\u001b[32m[I 2021-04-20 11:37:12,378]\u001b[0m Trial 41 finished with value: 0.959574863083635 and parameters: {'classifier': 'RandomForest', 'rf_n_estimators': 628, 'rf_max_depth': 8}. Best is trial 23 with value: 0.9648565859092174.\u001b[0m\n",
      "\u001b[32m[I 2021-04-20 11:37:13,683]\u001b[0m Trial 42 finished with value: 0.9560753736192332 and parameters: {'classifier': 'RandomForest', 'rf_n_estimators': 722, 'rf_max_depth': 11}. Best is trial 23 with value: 0.9648565859092174.\u001b[0m\n",
      "\u001b[32m[I 2021-04-20 11:37:13,883]\u001b[0m Trial 43 finished with value: 0.9596027104799035 and parameters: {'classifier': 'RandomForest', 'rf_n_estimators': 98, 'rf_max_depth': 13}. Best is trial 23 with value: 0.9648565859092174.\u001b[0m\n",
      "\u001b[32m[I 2021-04-20 11:37:14,213]\u001b[0m Trial 44 finished with value: 0.9525666016894087 and parameters: {'classifier': 'RandomForest', 'rf_n_estimators': 113, 'rf_max_depth': 14}. Best is trial 23 with value: 0.9648565859092174.\u001b[0m\n",
      "\u001b[32m[I 2021-04-20 11:37:14,609]\u001b[0m Trial 45 finished with value: 0.9578390420495685 and parameters: {'classifier': 'RandomForest', 'rf_n_estimators': 179, 'rf_max_depth': 15}. Best is trial 23 with value: 0.9648565859092174.\u001b[0m\n",
      "\u001b[32m[I 2021-04-20 11:37:14,655]\u001b[0m Trial 46 finished with value: 0.9244500139236981 and parameters: {'classifier': 'LogReg', 'logreg_c': 9.989015067159873e-05}. Best is trial 23 with value: 0.9648565859092174.\u001b[0m\n",
      "\u001b[32m[I 2021-04-20 11:37:14,808]\u001b[0m Trial 47 finished with value: 0.9666202543395525 and parameters: {'classifier': 'RandomForest', 'rf_n_estimators': 75, 'rf_max_depth': 13}. Best is trial 47 with value: 0.9666202543395525.\u001b[0m\n",
      "\u001b[32m[I 2021-04-20 11:37:15,603]\u001b[0m Trial 48 finished with value: 0.9613385315139701 and parameters: {'classifier': 'RandomForest', 'rf_n_estimators': 422, 'rf_max_depth': 19}. Best is trial 47 with value: 0.9666202543395525.\u001b[0m\n",
      "\u001b[32m[I 2021-04-20 11:37:16,409]\u001b[0m Trial 49 finished with value: 0.9578390420495685 and parameters: {'classifier': 'RandomForest', 'rf_n_estimators': 433, 'rf_max_depth': 19}. Best is trial 47 with value: 0.9666202543395525.\u001b[0m\n",
      "\u001b[32m[I 2021-04-20 11:37:17,263]\u001b[0m Trial 50 finished with value: 0.9543117051888982 and parameters: {'classifier': 'RandomForest', 'rf_n_estimators': 467, 'rf_max_depth': 28}. Best is trial 47 with value: 0.9666202543395525.\u001b[0m\n",
      "\u001b[32m[I 2021-04-20 11:37:17,961]\u001b[0m Trial 51 finished with value: 0.9560753736192332 and parameters: {'classifier': 'RandomForest', 'rf_n_estimators': 364, 'rf_max_depth': 17}. Best is trial 47 with value: 0.9666202543395525.\u001b[0m\n",
      "\u001b[32m[I 2021-04-20 11:37:18,945]\u001b[0m Trial 52 finished with value: 0.9613478139793928 and parameters: {'classifier': 'RandomForest', 'rf_n_estimators': 543, 'rf_max_depth': 10}. Best is trial 47 with value: 0.9666202543395525.\u001b[0m\n",
      "\u001b[32m[I 2021-04-20 11:37:19,978]\u001b[0m Trial 53 finished with value: 0.9595934280144807 and parameters: {'classifier': 'RandomForest', 'rf_n_estimators': 575, 'rf_max_depth': 9}. Best is trial 47 with value: 0.9666202543395525.\u001b[0m\n",
      "\u001b[32m[I 2021-04-20 11:37:20,996]\u001b[0m Trial 54 finished with value: 0.9595934280144807 and parameters: {'classifier': 'RandomForest', 'rf_n_estimators': 550, 'rf_max_depth': 10}. Best is trial 47 with value: 0.9666202543395525.\u001b[0m\n",
      "\u001b[32m[I 2021-04-20 11:37:21,872]\u001b[0m Trial 55 finished with value: 0.9578204771187228 and parameters: {'classifier': 'RandomForest', 'rf_n_estimators': 440, 'rf_max_depth': 18}. Best is trial 47 with value: 0.9666202543395525.\u001b[0m\n",
      "\u001b[32m[I 2021-04-20 11:37:23,197]\u001b[0m Trial 56 finished with value: 0.9595841455490578 and parameters: {'classifier': 'RandomForest', 'rf_n_estimators': 678, 'rf_max_depth': 10}. Best is trial 47 with value: 0.9666202543395525.\u001b[0m\n",
      "\u001b[32m[I 2021-04-20 11:37:23,739]\u001b[0m Trial 57 finished with value: 0.9560660911538105 and parameters: {'classifier': 'RandomForest', 'rf_n_estimators': 253, 'rf_max_depth': 13}. Best is trial 47 with value: 0.9666202543395525.\u001b[0m\n",
      "\u001b[32m[I 2021-04-20 11:37:24,504]\u001b[0m Trial 58 finished with value: 0.9578297595841455 and parameters: {'classifier': 'RandomForest', 'rf_n_estimators': 385, 'rf_max_depth': 25}. Best is trial 47 with value: 0.9666202543395525.\u001b[0m\n",
      "\u001b[32m[I 2021-04-20 11:37:24,536]\u001b[0m Trial 59 finished with value: 0.9068968718091526 and parameters: {'classifier': 'LogReg', 'logreg_c': 2.020731884611206e-06}. Best is trial 47 with value: 0.9666202543395525.\u001b[0m\n",
      "\u001b[32m[I 2021-04-20 11:37:25,856]\u001b[0m Trial 60 finished with value: 0.9595934280144807 and parameters: {'classifier': 'RandomForest', 'rf_n_estimators': 548, 'rf_max_depth': 16}. Best is trial 47 with value: 0.9666202543395525.\u001b[0m\n",
      "\u001b[32m[I 2021-04-20 11:37:25,905]\u001b[0m Trial 61 finished with value: 0.9543117051888982 and parameters: {'classifier': 'RandomForest', 'rf_n_estimators': 15, 'rf_max_depth': 6}. Best is trial 47 with value: 0.9666202543395525.\u001b[0m\n",
      "\u001b[32m[I 2021-04-20 11:37:26,025]\u001b[0m Trial 62 finished with value: 0.9613478139793928 and parameters: {'classifier': 'RandomForest', 'rf_n_estimators': 61, 'rf_max_depth': 10}. Best is trial 47 with value: 0.9666202543395525.\u001b[0m\n",
      "\u001b[32m[I 2021-04-20 11:37:26,132]\u001b[0m Trial 63 finished with value: 0.9437853893994245 and parameters: {'classifier': 'RandomForest', 'rf_n_estimators': 56, 'rf_max_depth': 2}. Best is trial 47 with value: 0.9666202543395525.\u001b[0m\n",
      "\u001b[32m[I 2021-04-20 11:37:26,798]\u001b[0m Trial 64 finished with value: 0.9648658683746403 and parameters: {'classifier': 'RandomForest', 'rf_n_estimators': 312, 'rf_max_depth': 10}. Best is trial 47 with value: 0.9666202543395525.\u001b[0m\n",
      "\u001b[32m[I 2021-04-20 11:37:27,406]\u001b[0m Trial 65 finished with value: 0.9595841455490578 and parameters: {'classifier': 'RandomForest', 'rf_n_estimators': 231, 'rf_max_depth': 12}. Best is trial 47 with value: 0.9666202543395525.\u001b[0m\n",
      "\u001b[32m[I 2021-04-20 11:37:28,195]\u001b[0m Trial 66 finished with value: 0.9578204771187228 and parameters: {'classifier': 'RandomForest', 'rf_n_estimators': 332, 'rf_max_depth': 11}. Best is trial 47 with value: 0.9666202543395525.\u001b[0m\n",
      "\u001b[32m[I 2021-04-20 11:37:28,509]\u001b[0m Trial 67 finished with value: 0.9595934280144807 and parameters: {'classifier': 'RandomForest', 'rf_n_estimators': 142, 'rf_max_depth': 10}. Best is trial 47 with value: 0.9666202543395525.\u001b[0m\n",
      "\u001b[32m[I 2021-04-20 11:37:29,278]\u001b[0m Trial 68 finished with value: 0.9560660911538105 and parameters: {'classifier': 'RandomForest', 'rf_n_estimators': 393, 'rf_max_depth': 7}. Best is trial 47 with value: 0.9666202543395525.\u001b[0m\n",
      "\u001b[32m[I 2021-04-20 11:37:29,801]\u001b[0m Trial 69 finished with value: 0.9578297595841455 and parameters: {'classifier': 'RandomForest', 'rf_n_estimators': 280, 'rf_max_depth': 9}. Best is trial 47 with value: 0.9666202543395525.\u001b[0m\n",
      "\u001b[32m[I 2021-04-20 11:37:30,339]\u001b[0m Trial 70 finished with value: 0.9595841455490578 and parameters: {'classifier': 'RandomForest', 'rf_n_estimators': 302, 'rf_max_depth': 11}. Best is trial 47 with value: 0.9666202543395525.\u001b[0m\n",
      "\u001b[32m[I 2021-04-20 11:37:30,461]\u001b[0m Trial 71 finished with value: 0.9630929174788824 and parameters: {'classifier': 'RandomForest', 'rf_n_estimators': 55, 'rf_max_depth': 15}. Best is trial 47 with value: 0.9666202543395525.\u001b[0m\n"
     ]
    },
    {
     "name": "stderr",
     "output_type": "stream",
     "text": [
      "\u001b[32m[I 2021-04-20 11:37:31,294]\u001b[0m Trial 72 finished with value: 0.959574863083635 and parameters: {'classifier': 'RandomForest', 'rf_n_estimators': 456, 'rf_max_depth': 13}. Best is trial 47 with value: 0.9666202543395525.\u001b[0m\n",
      "\u001b[32m[I 2021-04-20 11:37:31,671]\u001b[0m Trial 73 finished with value: 0.9595934280144807 and parameters: {'classifier': 'RandomForest', 'rf_n_estimators': 199, 'rf_max_depth': 15}. Best is trial 47 with value: 0.9666202543395525.\u001b[0m\n",
      "\u001b[32m[I 2021-04-20 11:37:31,789]\u001b[0m Trial 74 finished with value: 0.9578297595841455 and parameters: {'classifier': 'RandomForest', 'rf_n_estimators': 54, 'rf_max_depth': 9}. Best is trial 47 with value: 0.9666202543395525.\u001b[0m\n",
      "\u001b[32m[I 2021-04-20 11:37:32,437]\u001b[0m Trial 75 finished with value: 0.9560753736192332 and parameters: {'classifier': 'RandomForest', 'rf_n_estimators': 345, 'rf_max_depth': 10}. Best is trial 47 with value: 0.9666202543395525.\u001b[0m\n",
      "\u001b[32m[I 2021-04-20 11:37:33,436]\u001b[0m Trial 76 finished with value: 0.9595934280144807 and parameters: {'classifier': 'RandomForest', 'rf_n_estimators': 505, 'rf_max_depth': 12}. Best is trial 47 with value: 0.9666202543395525.\u001b[0m\n",
      "\u001b[32m[I 2021-04-20 11:37:33,718]\u001b[0m Trial 77 finished with value: 0.9630929174788824 and parameters: {'classifier': 'RandomForest', 'rf_n_estimators': 142, 'rf_max_depth': 7}. Best is trial 47 with value: 0.9666202543395525.\u001b[0m\n",
      "\u001b[32m[I 2021-04-20 11:37:34,006]\u001b[0m Trial 78 finished with value: 0.9543209876543209 and parameters: {'classifier': 'RandomForest', 'rf_n_estimators': 140, 'rf_max_depth': 6}. Best is trial 47 with value: 0.9666202543395525.\u001b[0m\n",
      "\u001b[32m[I 2021-04-20 11:37:34,157]\u001b[0m Trial 79 finished with value: 0.9525573192239859 and parameters: {'classifier': 'RandomForest', 'rf_n_estimators': 71, 'rf_max_depth': 5}. Best is trial 47 with value: 0.9666202543395525.\u001b[0m\n",
      "\u001b[32m[I 2021-04-20 11:37:34,609]\u001b[0m Trial 80 finished with value: 0.9578390420495685 and parameters: {'classifier': 'RandomForest', 'rf_n_estimators': 219, 'rf_max_depth': 7}. Best is trial 47 with value: 0.9666202543395525.\u001b[0m\n",
      "\u001b[32m[I 2021-04-20 11:37:34,951]\u001b[0m Trial 81 finished with value: 0.9595841455490578 and parameters: {'classifier': 'RandomForest', 'rf_n_estimators': 167, 'rf_max_depth': 8}. Best is trial 47 with value: 0.9666202543395525.\u001b[0m\n",
      "\u001b[32m[I 2021-04-20 11:37:35,762]\u001b[0m Trial 82 finished with value: 0.9595841455490578 and parameters: {'classifier': 'RandomForest', 'rf_n_estimators': 413, 'rf_max_depth': 7}. Best is trial 47 with value: 0.9666202543395525.\u001b[0m\n",
      "\u001b[32m[I 2021-04-20 11:37:35,830]\u001b[0m Trial 83 finished with value: 0.9508029332590736 and parameters: {'classifier': 'RandomForest', 'rf_n_estimators': 23, 'rf_max_depth': 21}. Best is trial 47 with value: 0.9666202543395525.\u001b[0m\n",
      "\u001b[32m[I 2021-04-20 11:37:36,393]\u001b[0m Trial 84 finished with value: 0.9543209876543209 and parameters: {'classifier': 'RandomForest', 'rf_n_estimators': 298, 'rf_max_depth': 8}. Best is trial 47 with value: 0.9666202543395525.\u001b[0m\n",
      "\u001b[32m[I 2021-04-20 11:37:36,645]\u001b[0m Trial 85 finished with value: 0.9613478139793928 and parameters: {'classifier': 'RandomForest', 'rf_n_estimators': 122, 'rf_max_depth': 9}. Best is trial 47 with value: 0.9666202543395525.\u001b[0m\n",
      "\u001b[32m[I 2021-04-20 11:37:36,927]\u001b[0m Trial 86 finished with value: 0.9578390420495685 and parameters: {'classifier': 'RandomForest', 'rf_n_estimators': 141, 'rf_max_depth': 17}. Best is trial 47 with value: 0.9666202543395525.\u001b[0m\n",
      "\u001b[32m[I 2021-04-20 11:37:37,089]\u001b[0m Trial 87 finished with value: 0.9560753736192332 and parameters: {'classifier': 'RandomForest', 'rf_n_estimators': 77, 'rf_max_depth': 9}. Best is trial 47 with value: 0.9666202543395525.\u001b[0m\n",
      "\u001b[32m[I 2021-04-20 11:37:37,115]\u001b[0m Trial 88 finished with value: 0.9034159472755964 and parameters: {'classifier': 'LogReg', 'logreg_c': 4.299576780646922e-07}. Best is trial 47 with value: 0.9666202543395525.\u001b[0m\n",
      "\u001b[32m[I 2021-04-20 11:37:37,351]\u001b[0m Trial 89 finished with value: 0.9595934280144807 and parameters: {'classifier': 'RandomForest', 'rf_n_estimators': 119, 'rf_max_depth': 11}. Best is trial 47 with value: 0.9666202543395525.\u001b[0m\n",
      "\u001b[32m[I 2021-04-20 11:37:37,444]\u001b[0m Trial 90 finished with value: 0.9613292490485472 and parameters: {'classifier': 'RandomForest', 'rf_n_estimators': 40, 'rf_max_depth': 12}. Best is trial 47 with value: 0.9666202543395525.\u001b[0m\n",
      "\u001b[32m[I 2021-04-20 11:37:38,100]\u001b[0m Trial 91 finished with value: 0.9578297595841455 and parameters: {'classifier': 'RandomForest', 'rf_n_estimators': 365, 'rf_max_depth': 6}. Best is trial 47 with value: 0.9666202543395525.\u001b[0m\n",
      "\u001b[32m[I 2021-04-20 11:37:38,250]\u001b[0m Trial 92 finished with value: 0.9578297595841455 and parameters: {'classifier': 'RandomForest', 'rf_n_estimators': 71, 'rf_max_depth': 14}. Best is trial 47 with value: 0.9666202543395525.\u001b[0m\n",
      "\u001b[32m[I 2021-04-20 11:37:38,596]\u001b[0m Trial 93 finished with value: 0.9613385315139701 and parameters: {'classifier': 'RandomForest', 'rf_n_estimators': 181, 'rf_max_depth': 9}. Best is trial 47 with value: 0.9666202543395525.\u001b[0m\n",
      "\u001b[32m[I 2021-04-20 11:37:38,937]\u001b[0m Trial 94 finished with value: 0.9560753736192332 and parameters: {'classifier': 'RandomForest', 'rf_n_estimators': 179, 'rf_max_depth': 8}. Best is trial 47 with value: 0.9666202543395525.\u001b[0m\n",
      "\u001b[32m[I 2021-04-20 11:37:39,170]\u001b[0m Trial 95 finished with value: 0.9613385315139701 and parameters: {'classifier': 'RandomForest', 'rf_n_estimators': 117, 'rf_max_depth': 10}. Best is trial 47 with value: 0.9666202543395525.\u001b[0m\n",
      "\u001b[32m[I 2021-04-20 11:37:39,603]\u001b[0m Trial 96 finished with value: 0.9578390420495685 and parameters: {'classifier': 'RandomForest', 'rf_n_estimators': 228, 'rf_max_depth': 9}. Best is trial 47 with value: 0.9666202543395525.\u001b[0m\n",
      "\u001b[32m[I 2021-04-20 11:37:39,700]\u001b[0m Trial 97 finished with value: 0.9578390420495685 and parameters: {'classifier': 'RandomForest', 'rf_n_estimators': 42, 'rf_max_depth': 6}. Best is trial 47 with value: 0.9666202543395525.\u001b[0m\n",
      "\u001b[32m[I 2021-04-20 11:37:39,929]\u001b[0m Trial 98 finished with value: 0.9525573192239859 and parameters: {'classifier': 'RandomForest', 'rf_n_estimators': 120, 'rf_max_depth': 7}. Best is trial 47 with value: 0.9666202543395525.\u001b[0m\n",
      "\u001b[32m[I 2021-04-20 11:37:39,972]\u001b[0m Trial 99 finished with value: 0.9525573192239859 and parameters: {'classifier': 'RandomForest', 'rf_n_estimators': 10, 'rf_max_depth': 10}. Best is trial 47 with value: 0.9666202543395525.\u001b[0m\n"
     ]
    }
   ],
   "source": [
    "#Step 1. Define an objective function to be maximized.\n",
    "def objective(trial):\n",
    "\n",
    "    classifier_name = trial.suggest_categorical(\"classifier\", [\"LogReg\", \"RandomForest\"])\n",
    "    \n",
    "    # Step 2. Setup values for the hyperparameters:\n",
    "    if classifier_name == 'LogReg':\n",
    "        logreg_c = trial.suggest_float(\"logreg_c\", 1e-10, 1e10, log=True)\n",
    "        classifier_obj = linear_model.LogisticRegression(C=logreg_c)\n",
    "    else:\n",
    "        rf_n_estimators = trial.suggest_int(\"rf_n_estimators\", 10, 1000)\n",
    "        rf_max_depth = trial.suggest_int(\"rf_max_depth\", 2, 32, log=True)\n",
    "        classifier_obj = ensemble.RandomForestClassifier(\n",
    "            max_depth=rf_max_depth, n_estimators=rf_n_estimators\n",
    "        )\n",
    "\n",
    "    # Step 3: Scoring method:\n",
    "    score = model_selection.cross_val_score(classifier_obj, X, y, n_jobs=-1, cv=3)\n",
    "    accuracy = score.mean()\n",
    "    return accuracy\n",
    "\n",
    "# Step 4: Running it\n",
    "study = optuna.create_study(direction=\"maximize\")\n",
    "study.optimize(objective, n_trials=100)"
   ]
  },
  {
   "cell_type": "code",
   "execution_count": 3,
   "metadata": {
    "ExecuteTime": {
     "end_time": "2021-04-20T02:37:39.984964Z",
     "start_time": "2021-04-20T02:37:39.977387Z"
    }
   },
   "outputs": [
    {
     "data": {
      "text/plain": [
       "{'classifier': 'RandomForest', 'rf_n_estimators': 75, 'rf_max_depth': 13}"
      ]
     },
     "execution_count": 3,
     "metadata": {},
     "output_type": "execute_result"
    }
   ],
   "source": [
    "study.best_params"
   ]
  },
  {
   "cell_type": "code",
   "execution_count": 4,
   "metadata": {
    "ExecuteTime": {
     "end_time": "2021-04-20T02:37:39.993808Z",
     "start_time": "2021-04-20T02:37:39.989088Z"
    }
   },
   "outputs": [
    {
     "data": {
      "text/plain": [
       "0.9666202543395525"
      ]
     },
     "execution_count": 4,
     "metadata": {},
     "output_type": "execute_result"
    }
   ],
   "source": [
    "study.best_value"
   ]
  },
  {
   "cell_type": "markdown",
   "metadata": {
    "ExecuteTime": {
     "end_time": "2021-04-20T01:12:15.702197Z",
     "start_time": "2021-04-20T01:12:15.684366Z"
    }
   },
   "source": [
    "#### n_estimators as 411 and max_depth fo 23 works best"
   ]
  },
  {
   "cell_type": "markdown",
   "metadata": {},
   "source": [
    "## Historical studies\n",
    "### - need to change address of DB"
   ]
  },
  {
   "cell_type": "code",
   "execution_count": 8,
   "metadata": {
    "ExecuteTime": {
     "end_time": "2021-04-20T02:23:18.601831Z",
     "start_time": "2021-04-20T02:23:18.599269Z"
    }
   },
   "outputs": [],
   "source": [
    "import joblib\n",
    "\n",
    "# Create a study name:\n",
    "study_name = 'experiment-C'\n",
    "\n",
    "# Store in DB:\n",
    "study = optuna.create_study(study_name = study_name, storage='sqlite:///tmp/experiments.db', load_if_exists=True)\n",
    "\n",
    "# Optimize:\n",
    "study.optimize(objective, n_trials=3)\n"
   ]
  },
  {
   "cell_type": "markdown",
   "metadata": {},
   "source": [
    "### Overview of all the trials"
   ]
  },
  {
   "cell_type": "code",
   "execution_count": 10,
   "metadata": {
    "ExecuteTime": {
     "end_time": "2021-04-20T02:25:11.314329Z",
     "start_time": "2021-04-20T02:25:11.273707Z"
    }
   },
   "outputs": [
    {
     "data": {
      "text/html": [
       "<div>\n",
       "<style scoped>\n",
       "    .dataframe tbody tr th:only-of-type {\n",
       "        vertical-align: middle;\n",
       "    }\n",
       "\n",
       "    .dataframe tbody tr th {\n",
       "        vertical-align: top;\n",
       "    }\n",
       "\n",
       "    .dataframe thead th {\n",
       "        text-align: right;\n",
       "    }\n",
       "</style>\n",
       "<table border=\"1\" class=\"dataframe\">\n",
       "  <thead>\n",
       "    <tr style=\"text-align: right;\">\n",
       "      <th></th>\n",
       "      <th>number</th>\n",
       "      <th>value</th>\n",
       "      <th>datetime_start</th>\n",
       "      <th>datetime_complete</th>\n",
       "      <th>duration</th>\n",
       "      <th>params_classifier</th>\n",
       "      <th>params_logreg_c</th>\n",
       "      <th>params_rf_max_depth</th>\n",
       "      <th>params_rf_n_estimators</th>\n",
       "      <th>state</th>\n",
       "    </tr>\n",
       "  </thead>\n",
       "  <tbody>\n",
       "    <tr>\n",
       "      <th>0</th>\n",
       "      <td>0</td>\n",
       "      <td>0.942003</td>\n",
       "      <td>2021-04-20 11:16:57.379777</td>\n",
       "      <td>2021-04-20 11:16:59.340939</td>\n",
       "      <td>0 days 00:00:01.961162</td>\n",
       "      <td>LogReg</td>\n",
       "      <td>7.250940e+05</td>\n",
       "      <td>NaN</td>\n",
       "      <td>NaN</td>\n",
       "      <td>COMPLETE</td>\n",
       "    </tr>\n",
       "    <tr>\n",
       "      <th>1</th>\n",
       "      <td>1</td>\n",
       "      <td>0.927912</td>\n",
       "      <td>2021-04-20 11:16:59.346251</td>\n",
       "      <td>2021-04-20 11:17:00.310228</td>\n",
       "      <td>0 days 00:00:00.963977</td>\n",
       "      <td>LogReg</td>\n",
       "      <td>2.986606e-02</td>\n",
       "      <td>NaN</td>\n",
       "      <td>NaN</td>\n",
       "      <td>COMPLETE</td>\n",
       "    </tr>\n",
       "    <tr>\n",
       "      <th>2</th>\n",
       "      <td>2</td>\n",
       "      <td>0.956075</td>\n",
       "      <td>2021-04-20 11:17:00.311132</td>\n",
       "      <td>2021-04-20 11:17:02.588281</td>\n",
       "      <td>0 days 00:00:02.277149</td>\n",
       "      <td>RandomForest</td>\n",
       "      <td>NaN</td>\n",
       "      <td>6.0</td>\n",
       "      <td>831.0</td>\n",
       "      <td>COMPLETE</td>\n",
       "    </tr>\n",
       "    <tr>\n",
       "      <th>3</th>\n",
       "      <td>3</td>\n",
       "      <td>0.627420</td>\n",
       "      <td>2021-04-20 11:17:02.589224</td>\n",
       "      <td>2021-04-20 11:17:03.437037</td>\n",
       "      <td>0 days 00:00:00.847813</td>\n",
       "      <td>LogReg</td>\n",
       "      <td>1.065467e-09</td>\n",
       "      <td>NaN</td>\n",
       "      <td>NaN</td>\n",
       "      <td>COMPLETE</td>\n",
       "    </tr>\n",
       "    <tr>\n",
       "      <th>4</th>\n",
       "      <td>4</td>\n",
       "      <td>0.920941</td>\n",
       "      <td>2021-04-20 11:17:03.437952</td>\n",
       "      <td>2021-04-20 11:17:03.477689</td>\n",
       "      <td>0 days 00:00:00.039737</td>\n",
       "      <td>LogReg</td>\n",
       "      <td>4.519648e-05</td>\n",
       "      <td>NaN</td>\n",
       "      <td>NaN</td>\n",
       "      <td>COMPLETE</td>\n",
       "    </tr>\n",
       "    <tr>\n",
       "      <th>...</th>\n",
       "      <td>...</td>\n",
       "      <td>...</td>\n",
       "      <td>...</td>\n",
       "      <td>...</td>\n",
       "      <td>...</td>\n",
       "      <td>...</td>\n",
       "      <td>...</td>\n",
       "      <td>...</td>\n",
       "      <td>...</td>\n",
       "      <td>...</td>\n",
       "    </tr>\n",
       "    <tr>\n",
       "      <th>95</th>\n",
       "      <td>95</td>\n",
       "      <td>0.959584</td>\n",
       "      <td>2021-04-20 11:18:04.697577</td>\n",
       "      <td>2021-04-20 11:18:05.154594</td>\n",
       "      <td>0 days 00:00:00.457017</td>\n",
       "      <td>RandomForest</td>\n",
       "      <td>NaN</td>\n",
       "      <td>8.0</td>\n",
       "      <td>240.0</td>\n",
       "      <td>COMPLETE</td>\n",
       "    </tr>\n",
       "    <tr>\n",
       "      <th>96</th>\n",
       "      <td>96</td>\n",
       "      <td>0.959575</td>\n",
       "      <td>2021-04-20 11:18:05.155599</td>\n",
       "      <td>2021-04-20 11:18:06.364919</td>\n",
       "      <td>0 days 00:00:01.209320</td>\n",
       "      <td>RandomForest</td>\n",
       "      <td>NaN</td>\n",
       "      <td>13.0</td>\n",
       "      <td>668.0</td>\n",
       "      <td>COMPLETE</td>\n",
       "    </tr>\n",
       "    <tr>\n",
       "      <th>97</th>\n",
       "      <td>97</td>\n",
       "      <td>0.957830</td>\n",
       "      <td>2021-04-20 11:18:06.366095</td>\n",
       "      <td>2021-04-20 11:18:06.420259</td>\n",
       "      <td>0 days 00:00:00.054164</td>\n",
       "      <td>RandomForest</td>\n",
       "      <td>NaN</td>\n",
       "      <td>23.0</td>\n",
       "      <td>17.0</td>\n",
       "      <td>COMPLETE</td>\n",
       "    </tr>\n",
       "    <tr>\n",
       "      <th>98</th>\n",
       "      <td>98</td>\n",
       "      <td>0.954312</td>\n",
       "      <td>2021-04-20 11:18:06.421163</td>\n",
       "      <td>2021-04-20 11:18:07.026081</td>\n",
       "      <td>0 days 00:00:00.604918</td>\n",
       "      <td>RandomForest</td>\n",
       "      <td>NaN</td>\n",
       "      <td>22.0</td>\n",
       "      <td>324.0</td>\n",
       "      <td>COMPLETE</td>\n",
       "    </tr>\n",
       "    <tr>\n",
       "      <th>99</th>\n",
       "      <td>99</td>\n",
       "      <td>0.959575</td>\n",
       "      <td>2021-04-20 11:18:07.026959</td>\n",
       "      <td>2021-04-20 11:18:07.727631</td>\n",
       "      <td>0 days 00:00:00.700672</td>\n",
       "      <td>RandomForest</td>\n",
       "      <td>NaN</td>\n",
       "      <td>16.0</td>\n",
       "      <td>386.0</td>\n",
       "      <td>COMPLETE</td>\n",
       "    </tr>\n",
       "  </tbody>\n",
       "</table>\n",
       "<p>100 rows × 10 columns</p>\n",
       "</div>"
      ],
      "text/plain": [
       "    number     value             datetime_start          datetime_complete  \\\n",
       "0        0  0.942003 2021-04-20 11:16:57.379777 2021-04-20 11:16:59.340939   \n",
       "1        1  0.927912 2021-04-20 11:16:59.346251 2021-04-20 11:17:00.310228   \n",
       "2        2  0.956075 2021-04-20 11:17:00.311132 2021-04-20 11:17:02.588281   \n",
       "3        3  0.627420 2021-04-20 11:17:02.589224 2021-04-20 11:17:03.437037   \n",
       "4        4  0.920941 2021-04-20 11:17:03.437952 2021-04-20 11:17:03.477689   \n",
       "..     ...       ...                        ...                        ...   \n",
       "95      95  0.959584 2021-04-20 11:18:04.697577 2021-04-20 11:18:05.154594   \n",
       "96      96  0.959575 2021-04-20 11:18:05.155599 2021-04-20 11:18:06.364919   \n",
       "97      97  0.957830 2021-04-20 11:18:06.366095 2021-04-20 11:18:06.420259   \n",
       "98      98  0.954312 2021-04-20 11:18:06.421163 2021-04-20 11:18:07.026081   \n",
       "99      99  0.959575 2021-04-20 11:18:07.026959 2021-04-20 11:18:07.727631   \n",
       "\n",
       "                 duration params_classifier  params_logreg_c  \\\n",
       "0  0 days 00:00:01.961162            LogReg     7.250940e+05   \n",
       "1  0 days 00:00:00.963977            LogReg     2.986606e-02   \n",
       "2  0 days 00:00:02.277149      RandomForest              NaN   \n",
       "3  0 days 00:00:00.847813            LogReg     1.065467e-09   \n",
       "4  0 days 00:00:00.039737            LogReg     4.519648e-05   \n",
       "..                    ...               ...              ...   \n",
       "95 0 days 00:00:00.457017      RandomForest              NaN   \n",
       "96 0 days 00:00:01.209320      RandomForest              NaN   \n",
       "97 0 days 00:00:00.054164      RandomForest              NaN   \n",
       "98 0 days 00:00:00.604918      RandomForest              NaN   \n",
       "99 0 days 00:00:00.700672      RandomForest              NaN   \n",
       "\n",
       "    params_rf_max_depth  params_rf_n_estimators     state  \n",
       "0                   NaN                     NaN  COMPLETE  \n",
       "1                   NaN                     NaN  COMPLETE  \n",
       "2                   6.0                   831.0  COMPLETE  \n",
       "3                   NaN                     NaN  COMPLETE  \n",
       "4                   NaN                     NaN  COMPLETE  \n",
       "..                  ...                     ...       ...  \n",
       "95                  8.0                   240.0  COMPLETE  \n",
       "96                 13.0                   668.0  COMPLETE  \n",
       "97                 23.0                    17.0  COMPLETE  \n",
       "98                 22.0                   324.0  COMPLETE  \n",
       "99                 16.0                   386.0  COMPLETE  \n",
       "\n",
       "[100 rows x 10 columns]"
      ]
     },
     "execution_count": 10,
     "metadata": {},
     "output_type": "execute_result"
    }
   ],
   "source": [
    "study.trials_dataframe()"
   ]
  },
  {
   "cell_type": "markdown",
   "metadata": {},
   "source": [
    "## Visualization"
   ]
  },
  {
   "cell_type": "code",
   "execution_count": 11,
   "metadata": {
    "ExecuteTime": {
     "end_time": "2021-04-20T02:29:53.551594Z",
     "start_time": "2021-04-20T02:29:53.549079Z"
    }
   },
   "outputs": [],
   "source": [
    "### Optimization history plot"
   ]
  },
  {
   "cell_type": "code",
   "execution_count": 6,
   "metadata": {
    "ExecuteTime": {
     "end_time": "2021-04-20T02:40:04.424522Z",
     "start_time": "2021-04-20T02:40:04.402732Z"
    }
   },
   "outputs": [
    {
     "data": {
      "application/vnd.plotly.v1+json": {
       "config": {
        "plotlyServerURL": "https://plot.ly"
       },
       "data": [
        {
         "mode": "markers",
         "name": "Objective Value",
         "type": "scatter",
         "x": [
          0,
          1,
          2,
          3,
          4,
          5,
          6,
          7,
          8,
          9,
          10,
          11,
          12,
          13,
          14,
          15,
          16,
          17,
          18,
          19,
          20,
          21,
          22,
          23,
          24,
          25,
          26,
          27,
          28,
          29,
          30,
          31,
          32,
          33,
          34,
          35,
          36,
          37,
          38,
          39,
          40,
          41,
          42,
          43,
          44,
          45,
          46,
          47,
          48,
          49,
          50,
          51,
          52,
          53,
          54,
          55,
          56,
          57,
          58,
          59,
          60,
          61,
          62,
          63,
          64,
          65,
          66,
          67,
          68,
          69,
          70,
          71,
          72,
          73,
          74,
          75,
          76,
          77,
          78,
          79,
          80,
          81,
          82,
          83,
          84,
          85,
          86,
          87,
          88,
          89,
          90,
          91,
          92,
          93,
          94,
          95,
          96,
          97,
          98,
          99
         ],
         "y": [
          0.945521210433491,
          0.9472663139329806,
          0.9578204771187228,
          0.9367399981435068,
          0.9419938735728209,
          0.9402487700733314,
          0.9595841455490578,
          0.9455026455026454,
          0.9402580525387543,
          0.945530492898914,
          0.9560753736192332,
          0.9578297595841455,
          0.9560753736192332,
          0.9613385315139701,
          0.9578297595841455,
          0.9578483245149911,
          0.9595934280144807,
          0.9525573192239859,
          0.9472663139329806,
          0.9472755963984034,
          0.9578297595841455,
          0.9595841455490578,
          0.9543117051888982,
          0.9648565859092174,
          0.9613385315139701,
          0.9595841455490578,
          0.9560660911538105,
          0.959574863083635,
          0.9595934280144807,
          0.9543302701197439,
          0.9560660911538105,
          0.9578297595841455,
          0.9560660911538105,
          0.9543209876543209,
          0.9578204771187228,
          0.9613292490485472,
          0.9543117051888982,
          0.6274204028589994,
          0.9543117051888982,
          0.6274204028589994,
          0.9578297595841455,
          0.959574863083635,
          0.9560753736192332,
          0.9596027104799035,
          0.9525666016894087,
          0.9578390420495685,
          0.9244500139236981,
          0.9666202543395525,
          0.9613385315139701,
          0.9578390420495685,
          0.9543117051888982,
          0.9560753736192332,
          0.9613478139793928,
          0.9595934280144807,
          0.9595934280144807,
          0.9578204771187228,
          0.9595841455490578,
          0.9560660911538105,
          0.9578297595841455,
          0.9068968718091526,
          0.9595934280144807,
          0.9543117051888982,
          0.9613478139793928,
          0.9437853893994245,
          0.9648658683746403,
          0.9595841455490578,
          0.9578204771187228,
          0.9595934280144807,
          0.9560660911538105,
          0.9578297595841455,
          0.9595841455490578,
          0.9630929174788824,
          0.959574863083635,
          0.9595934280144807,
          0.9578297595841455,
          0.9560753736192332,
          0.9595934280144807,
          0.9630929174788824,
          0.9543209876543209,
          0.9525573192239859,
          0.9578390420495685,
          0.9595841455490578,
          0.9595841455490578,
          0.9508029332590736,
          0.9543209876543209,
          0.9613478139793928,
          0.9578390420495685,
          0.9560753736192332,
          0.9034159472755964,
          0.9595934280144807,
          0.9613292490485472,
          0.9578297595841455,
          0.9578297595841455,
          0.9613385315139701,
          0.9560753736192332,
          0.9613385315139701,
          0.9578390420495685,
          0.9578390420495685,
          0.9525573192239859,
          0.9525573192239859
         ]
        },
        {
         "name": "Best Value",
         "type": "scatter",
         "x": [
          0,
          1,
          2,
          3,
          4,
          5,
          6,
          7,
          8,
          9,
          10,
          11,
          12,
          13,
          14,
          15,
          16,
          17,
          18,
          19,
          20,
          21,
          22,
          23,
          24,
          25,
          26,
          27,
          28,
          29,
          30,
          31,
          32,
          33,
          34,
          35,
          36,
          37,
          38,
          39,
          40,
          41,
          42,
          43,
          44,
          45,
          46,
          47,
          48,
          49,
          50,
          51,
          52,
          53,
          54,
          55,
          56,
          57,
          58,
          59,
          60,
          61,
          62,
          63,
          64,
          65,
          66,
          67,
          68,
          69,
          70,
          71,
          72,
          73,
          74,
          75,
          76,
          77,
          78,
          79,
          80,
          81,
          82,
          83,
          84,
          85,
          86,
          87,
          88,
          89,
          90,
          91,
          92,
          93,
          94,
          95,
          96,
          97,
          98,
          99
         ],
         "y": [
          0.945521210433491,
          0.9472663139329806,
          0.9578204771187228,
          0.9578204771187228,
          0.9578204771187228,
          0.9578204771187228,
          0.9595841455490578,
          0.9595841455490578,
          0.9595841455490578,
          0.9595841455490578,
          0.9595841455490578,
          0.9595841455490578,
          0.9595841455490578,
          0.9613385315139701,
          0.9613385315139701,
          0.9613385315139701,
          0.9613385315139701,
          0.9613385315139701,
          0.9613385315139701,
          0.9613385315139701,
          0.9613385315139701,
          0.9613385315139701,
          0.9613385315139701,
          0.9648565859092174,
          0.9648565859092174,
          0.9648565859092174,
          0.9648565859092174,
          0.9648565859092174,
          0.9648565859092174,
          0.9648565859092174,
          0.9648565859092174,
          0.9648565859092174,
          0.9648565859092174,
          0.9648565859092174,
          0.9648565859092174,
          0.9648565859092174,
          0.9648565859092174,
          0.9648565859092174,
          0.9648565859092174,
          0.9648565859092174,
          0.9648565859092174,
          0.9648565859092174,
          0.9648565859092174,
          0.9648565859092174,
          0.9648565859092174,
          0.9648565859092174,
          0.9648565859092174,
          0.9666202543395525,
          0.9666202543395525,
          0.9666202543395525,
          0.9666202543395525,
          0.9666202543395525,
          0.9666202543395525,
          0.9666202543395525,
          0.9666202543395525,
          0.9666202543395525,
          0.9666202543395525,
          0.9666202543395525,
          0.9666202543395525,
          0.9666202543395525,
          0.9666202543395525,
          0.9666202543395525,
          0.9666202543395525,
          0.9666202543395525,
          0.9666202543395525,
          0.9666202543395525,
          0.9666202543395525,
          0.9666202543395525,
          0.9666202543395525,
          0.9666202543395525,
          0.9666202543395525,
          0.9666202543395525,
          0.9666202543395525,
          0.9666202543395525,
          0.9666202543395525,
          0.9666202543395525,
          0.9666202543395525,
          0.9666202543395525,
          0.9666202543395525,
          0.9666202543395525,
          0.9666202543395525,
          0.9666202543395525,
          0.9666202543395525,
          0.9666202543395525,
          0.9666202543395525,
          0.9666202543395525,
          0.9666202543395525,
          0.9666202543395525,
          0.9666202543395525,
          0.9666202543395525,
          0.9666202543395525,
          0.9666202543395525,
          0.9666202543395525,
          0.9666202543395525,
          0.9666202543395525,
          0.9666202543395525,
          0.9666202543395525,
          0.9666202543395525,
          0.9666202543395525,
          0.9666202543395525
         ]
        }
       ],
       "layout": {
        "template": {
         "data": {
          "bar": [
           {
            "error_x": {
             "color": "#2a3f5f"
            },
            "error_y": {
             "color": "#2a3f5f"
            },
            "marker": {
             "line": {
              "color": "#E5ECF6",
              "width": 0.5
             }
            },
            "type": "bar"
           }
          ],
          "barpolar": [
           {
            "marker": {
             "line": {
              "color": "#E5ECF6",
              "width": 0.5
             }
            },
            "type": "barpolar"
           }
          ],
          "carpet": [
           {
            "aaxis": {
             "endlinecolor": "#2a3f5f",
             "gridcolor": "white",
             "linecolor": "white",
             "minorgridcolor": "white",
             "startlinecolor": "#2a3f5f"
            },
            "baxis": {
             "endlinecolor": "#2a3f5f",
             "gridcolor": "white",
             "linecolor": "white",
             "minorgridcolor": "white",
             "startlinecolor": "#2a3f5f"
            },
            "type": "carpet"
           }
          ],
          "choropleth": [
           {
            "colorbar": {
             "outlinewidth": 0,
             "ticks": ""
            },
            "type": "choropleth"
           }
          ],
          "contour": [
           {
            "colorbar": {
             "outlinewidth": 0,
             "ticks": ""
            },
            "colorscale": [
             [
              0,
              "#0d0887"
             ],
             [
              0.1111111111111111,
              "#46039f"
             ],
             [
              0.2222222222222222,
              "#7201a8"
             ],
             [
              0.3333333333333333,
              "#9c179e"
             ],
             [
              0.4444444444444444,
              "#bd3786"
             ],
             [
              0.5555555555555556,
              "#d8576b"
             ],
             [
              0.6666666666666666,
              "#ed7953"
             ],
             [
              0.7777777777777778,
              "#fb9f3a"
             ],
             [
              0.8888888888888888,
              "#fdca26"
             ],
             [
              1,
              "#f0f921"
             ]
            ],
            "type": "contour"
           }
          ],
          "contourcarpet": [
           {
            "colorbar": {
             "outlinewidth": 0,
             "ticks": ""
            },
            "type": "contourcarpet"
           }
          ],
          "heatmap": [
           {
            "colorbar": {
             "outlinewidth": 0,
             "ticks": ""
            },
            "colorscale": [
             [
              0,
              "#0d0887"
             ],
             [
              0.1111111111111111,
              "#46039f"
             ],
             [
              0.2222222222222222,
              "#7201a8"
             ],
             [
              0.3333333333333333,
              "#9c179e"
             ],
             [
              0.4444444444444444,
              "#bd3786"
             ],
             [
              0.5555555555555556,
              "#d8576b"
             ],
             [
              0.6666666666666666,
              "#ed7953"
             ],
             [
              0.7777777777777778,
              "#fb9f3a"
             ],
             [
              0.8888888888888888,
              "#fdca26"
             ],
             [
              1,
              "#f0f921"
             ]
            ],
            "type": "heatmap"
           }
          ],
          "heatmapgl": [
           {
            "colorbar": {
             "outlinewidth": 0,
             "ticks": ""
            },
            "colorscale": [
             [
              0,
              "#0d0887"
             ],
             [
              0.1111111111111111,
              "#46039f"
             ],
             [
              0.2222222222222222,
              "#7201a8"
             ],
             [
              0.3333333333333333,
              "#9c179e"
             ],
             [
              0.4444444444444444,
              "#bd3786"
             ],
             [
              0.5555555555555556,
              "#d8576b"
             ],
             [
              0.6666666666666666,
              "#ed7953"
             ],
             [
              0.7777777777777778,
              "#fb9f3a"
             ],
             [
              0.8888888888888888,
              "#fdca26"
             ],
             [
              1,
              "#f0f921"
             ]
            ],
            "type": "heatmapgl"
           }
          ],
          "histogram": [
           {
            "marker": {
             "colorbar": {
              "outlinewidth": 0,
              "ticks": ""
             }
            },
            "type": "histogram"
           }
          ],
          "histogram2d": [
           {
            "colorbar": {
             "outlinewidth": 0,
             "ticks": ""
            },
            "colorscale": [
             [
              0,
              "#0d0887"
             ],
             [
              0.1111111111111111,
              "#46039f"
             ],
             [
              0.2222222222222222,
              "#7201a8"
             ],
             [
              0.3333333333333333,
              "#9c179e"
             ],
             [
              0.4444444444444444,
              "#bd3786"
             ],
             [
              0.5555555555555556,
              "#d8576b"
             ],
             [
              0.6666666666666666,
              "#ed7953"
             ],
             [
              0.7777777777777778,
              "#fb9f3a"
             ],
             [
              0.8888888888888888,
              "#fdca26"
             ],
             [
              1,
              "#f0f921"
             ]
            ],
            "type": "histogram2d"
           }
          ],
          "histogram2dcontour": [
           {
            "colorbar": {
             "outlinewidth": 0,
             "ticks": ""
            },
            "colorscale": [
             [
              0,
              "#0d0887"
             ],
             [
              0.1111111111111111,
              "#46039f"
             ],
             [
              0.2222222222222222,
              "#7201a8"
             ],
             [
              0.3333333333333333,
              "#9c179e"
             ],
             [
              0.4444444444444444,
              "#bd3786"
             ],
             [
              0.5555555555555556,
              "#d8576b"
             ],
             [
              0.6666666666666666,
              "#ed7953"
             ],
             [
              0.7777777777777778,
              "#fb9f3a"
             ],
             [
              0.8888888888888888,
              "#fdca26"
             ],
             [
              1,
              "#f0f921"
             ]
            ],
            "type": "histogram2dcontour"
           }
          ],
          "mesh3d": [
           {
            "colorbar": {
             "outlinewidth": 0,
             "ticks": ""
            },
            "type": "mesh3d"
           }
          ],
          "parcoords": [
           {
            "line": {
             "colorbar": {
              "outlinewidth": 0,
              "ticks": ""
             }
            },
            "type": "parcoords"
           }
          ],
          "pie": [
           {
            "automargin": true,
            "type": "pie"
           }
          ],
          "scatter": [
           {
            "marker": {
             "colorbar": {
              "outlinewidth": 0,
              "ticks": ""
             }
            },
            "type": "scatter"
           }
          ],
          "scatter3d": [
           {
            "line": {
             "colorbar": {
              "outlinewidth": 0,
              "ticks": ""
             }
            },
            "marker": {
             "colorbar": {
              "outlinewidth": 0,
              "ticks": ""
             }
            },
            "type": "scatter3d"
           }
          ],
          "scattercarpet": [
           {
            "marker": {
             "colorbar": {
              "outlinewidth": 0,
              "ticks": ""
             }
            },
            "type": "scattercarpet"
           }
          ],
          "scattergeo": [
           {
            "marker": {
             "colorbar": {
              "outlinewidth": 0,
              "ticks": ""
             }
            },
            "type": "scattergeo"
           }
          ],
          "scattergl": [
           {
            "marker": {
             "colorbar": {
              "outlinewidth": 0,
              "ticks": ""
             }
            },
            "type": "scattergl"
           }
          ],
          "scattermapbox": [
           {
            "marker": {
             "colorbar": {
              "outlinewidth": 0,
              "ticks": ""
             }
            },
            "type": "scattermapbox"
           }
          ],
          "scatterpolar": [
           {
            "marker": {
             "colorbar": {
              "outlinewidth": 0,
              "ticks": ""
             }
            },
            "type": "scatterpolar"
           }
          ],
          "scatterpolargl": [
           {
            "marker": {
             "colorbar": {
              "outlinewidth": 0,
              "ticks": ""
             }
            },
            "type": "scatterpolargl"
           }
          ],
          "scatterternary": [
           {
            "marker": {
             "colorbar": {
              "outlinewidth": 0,
              "ticks": ""
             }
            },
            "type": "scatterternary"
           }
          ],
          "surface": [
           {
            "colorbar": {
             "outlinewidth": 0,
             "ticks": ""
            },
            "colorscale": [
             [
              0,
              "#0d0887"
             ],
             [
              0.1111111111111111,
              "#46039f"
             ],
             [
              0.2222222222222222,
              "#7201a8"
             ],
             [
              0.3333333333333333,
              "#9c179e"
             ],
             [
              0.4444444444444444,
              "#bd3786"
             ],
             [
              0.5555555555555556,
              "#d8576b"
             ],
             [
              0.6666666666666666,
              "#ed7953"
             ],
             [
              0.7777777777777778,
              "#fb9f3a"
             ],
             [
              0.8888888888888888,
              "#fdca26"
             ],
             [
              1,
              "#f0f921"
             ]
            ],
            "type": "surface"
           }
          ],
          "table": [
           {
            "cells": {
             "fill": {
              "color": "#EBF0F8"
             },
             "line": {
              "color": "white"
             }
            },
            "header": {
             "fill": {
              "color": "#C8D4E3"
             },
             "line": {
              "color": "white"
             }
            },
            "type": "table"
           }
          ]
         },
         "layout": {
          "annotationdefaults": {
           "arrowcolor": "#2a3f5f",
           "arrowhead": 0,
           "arrowwidth": 1
          },
          "autotypenumbers": "strict",
          "coloraxis": {
           "colorbar": {
            "outlinewidth": 0,
            "ticks": ""
           }
          },
          "colorscale": {
           "diverging": [
            [
             0,
             "#8e0152"
            ],
            [
             0.1,
             "#c51b7d"
            ],
            [
             0.2,
             "#de77ae"
            ],
            [
             0.3,
             "#f1b6da"
            ],
            [
             0.4,
             "#fde0ef"
            ],
            [
             0.5,
             "#f7f7f7"
            ],
            [
             0.6,
             "#e6f5d0"
            ],
            [
             0.7,
             "#b8e186"
            ],
            [
             0.8,
             "#7fbc41"
            ],
            [
             0.9,
             "#4d9221"
            ],
            [
             1,
             "#276419"
            ]
           ],
           "sequential": [
            [
             0,
             "#0d0887"
            ],
            [
             0.1111111111111111,
             "#46039f"
            ],
            [
             0.2222222222222222,
             "#7201a8"
            ],
            [
             0.3333333333333333,
             "#9c179e"
            ],
            [
             0.4444444444444444,
             "#bd3786"
            ],
            [
             0.5555555555555556,
             "#d8576b"
            ],
            [
             0.6666666666666666,
             "#ed7953"
            ],
            [
             0.7777777777777778,
             "#fb9f3a"
            ],
            [
             0.8888888888888888,
             "#fdca26"
            ],
            [
             1,
             "#f0f921"
            ]
           ],
           "sequentialminus": [
            [
             0,
             "#0d0887"
            ],
            [
             0.1111111111111111,
             "#46039f"
            ],
            [
             0.2222222222222222,
             "#7201a8"
            ],
            [
             0.3333333333333333,
             "#9c179e"
            ],
            [
             0.4444444444444444,
             "#bd3786"
            ],
            [
             0.5555555555555556,
             "#d8576b"
            ],
            [
             0.6666666666666666,
             "#ed7953"
            ],
            [
             0.7777777777777778,
             "#fb9f3a"
            ],
            [
             0.8888888888888888,
             "#fdca26"
            ],
            [
             1,
             "#f0f921"
            ]
           ]
          },
          "colorway": [
           "#636efa",
           "#EF553B",
           "#00cc96",
           "#ab63fa",
           "#FFA15A",
           "#19d3f3",
           "#FF6692",
           "#B6E880",
           "#FF97FF",
           "#FECB52"
          ],
          "font": {
           "color": "#2a3f5f"
          },
          "geo": {
           "bgcolor": "white",
           "lakecolor": "white",
           "landcolor": "#E5ECF6",
           "showlakes": true,
           "showland": true,
           "subunitcolor": "white"
          },
          "hoverlabel": {
           "align": "left"
          },
          "hovermode": "closest",
          "mapbox": {
           "style": "light"
          },
          "paper_bgcolor": "white",
          "plot_bgcolor": "#E5ECF6",
          "polar": {
           "angularaxis": {
            "gridcolor": "white",
            "linecolor": "white",
            "ticks": ""
           },
           "bgcolor": "#E5ECF6",
           "radialaxis": {
            "gridcolor": "white",
            "linecolor": "white",
            "ticks": ""
           }
          },
          "scene": {
           "xaxis": {
            "backgroundcolor": "#E5ECF6",
            "gridcolor": "white",
            "gridwidth": 2,
            "linecolor": "white",
            "showbackground": true,
            "ticks": "",
            "zerolinecolor": "white"
           },
           "yaxis": {
            "backgroundcolor": "#E5ECF6",
            "gridcolor": "white",
            "gridwidth": 2,
            "linecolor": "white",
            "showbackground": true,
            "ticks": "",
            "zerolinecolor": "white"
           },
           "zaxis": {
            "backgroundcolor": "#E5ECF6",
            "gridcolor": "white",
            "gridwidth": 2,
            "linecolor": "white",
            "showbackground": true,
            "ticks": "",
            "zerolinecolor": "white"
           }
          },
          "shapedefaults": {
           "line": {
            "color": "#2a3f5f"
           }
          },
          "ternary": {
           "aaxis": {
            "gridcolor": "white",
            "linecolor": "white",
            "ticks": ""
           },
           "baxis": {
            "gridcolor": "white",
            "linecolor": "white",
            "ticks": ""
           },
           "bgcolor": "#E5ECF6",
           "caxis": {
            "gridcolor": "white",
            "linecolor": "white",
            "ticks": ""
           }
          },
          "title": {
           "x": 0.05
          },
          "xaxis": {
           "automargin": true,
           "gridcolor": "white",
           "linecolor": "white",
           "ticks": "",
           "title": {
            "standoff": 15
           },
           "zerolinecolor": "white",
           "zerolinewidth": 2
          },
          "yaxis": {
           "automargin": true,
           "gridcolor": "white",
           "linecolor": "white",
           "ticks": "",
           "title": {
            "standoff": 15
           },
           "zerolinecolor": "white",
           "zerolinewidth": 2
          }
         }
        },
        "title": {
         "text": "Optimization History Plot"
        },
        "xaxis": {
         "title": {
          "text": "#Trials"
         }
        },
        "yaxis": {
         "title": {
          "text": "Objective Value"
         }
        }
       }
      },
      "text/html": [
       "<div>                            <div id=\"0e037ea6-d946-4f76-b960-ee6cb2023613\" class=\"plotly-graph-div\" style=\"height:525px; width:100%;\"></div>            <script type=\"text/javascript\">                require([\"plotly\"], function(Plotly) {                    window.PLOTLYENV=window.PLOTLYENV || {};                                    if (document.getElementById(\"0e037ea6-d946-4f76-b960-ee6cb2023613\")) {                    Plotly.newPlot(                        \"0e037ea6-d946-4f76-b960-ee6cb2023613\",                        [{\"mode\": \"markers\", \"name\": \"Objective Value\", \"type\": \"scatter\", \"x\": [0, 1, 2, 3, 4, 5, 6, 7, 8, 9, 10, 11, 12, 13, 14, 15, 16, 17, 18, 19, 20, 21, 22, 23, 24, 25, 26, 27, 28, 29, 30, 31, 32, 33, 34, 35, 36, 37, 38, 39, 40, 41, 42, 43, 44, 45, 46, 47, 48, 49, 50, 51, 52, 53, 54, 55, 56, 57, 58, 59, 60, 61, 62, 63, 64, 65, 66, 67, 68, 69, 70, 71, 72, 73, 74, 75, 76, 77, 78, 79, 80, 81, 82, 83, 84, 85, 86, 87, 88, 89, 90, 91, 92, 93, 94, 95, 96, 97, 98, 99], \"y\": [0.945521210433491, 0.9472663139329806, 0.9578204771187228, 0.9367399981435068, 0.9419938735728209, 0.9402487700733314, 0.9595841455490578, 0.9455026455026454, 0.9402580525387543, 0.945530492898914, 0.9560753736192332, 0.9578297595841455, 0.9560753736192332, 0.9613385315139701, 0.9578297595841455, 0.9578483245149911, 0.9595934280144807, 0.9525573192239859, 0.9472663139329806, 0.9472755963984034, 0.9578297595841455, 0.9595841455490578, 0.9543117051888982, 0.9648565859092174, 0.9613385315139701, 0.9595841455490578, 0.9560660911538105, 0.959574863083635, 0.9595934280144807, 0.9543302701197439, 0.9560660911538105, 0.9578297595841455, 0.9560660911538105, 0.9543209876543209, 0.9578204771187228, 0.9613292490485472, 0.9543117051888982, 0.6274204028589994, 0.9543117051888982, 0.6274204028589994, 0.9578297595841455, 0.959574863083635, 0.9560753736192332, 0.9596027104799035, 0.9525666016894087, 0.9578390420495685, 0.9244500139236981, 0.9666202543395525, 0.9613385315139701, 0.9578390420495685, 0.9543117051888982, 0.9560753736192332, 0.9613478139793928, 0.9595934280144807, 0.9595934280144807, 0.9578204771187228, 0.9595841455490578, 0.9560660911538105, 0.9578297595841455, 0.9068968718091526, 0.9595934280144807, 0.9543117051888982, 0.9613478139793928, 0.9437853893994245, 0.9648658683746403, 0.9595841455490578, 0.9578204771187228, 0.9595934280144807, 0.9560660911538105, 0.9578297595841455, 0.9595841455490578, 0.9630929174788824, 0.959574863083635, 0.9595934280144807, 0.9578297595841455, 0.9560753736192332, 0.9595934280144807, 0.9630929174788824, 0.9543209876543209, 0.9525573192239859, 0.9578390420495685, 0.9595841455490578, 0.9595841455490578, 0.9508029332590736, 0.9543209876543209, 0.9613478139793928, 0.9578390420495685, 0.9560753736192332, 0.9034159472755964, 0.9595934280144807, 0.9613292490485472, 0.9578297595841455, 0.9578297595841455, 0.9613385315139701, 0.9560753736192332, 0.9613385315139701, 0.9578390420495685, 0.9578390420495685, 0.9525573192239859, 0.9525573192239859]}, {\"name\": \"Best Value\", \"type\": \"scatter\", \"x\": [0, 1, 2, 3, 4, 5, 6, 7, 8, 9, 10, 11, 12, 13, 14, 15, 16, 17, 18, 19, 20, 21, 22, 23, 24, 25, 26, 27, 28, 29, 30, 31, 32, 33, 34, 35, 36, 37, 38, 39, 40, 41, 42, 43, 44, 45, 46, 47, 48, 49, 50, 51, 52, 53, 54, 55, 56, 57, 58, 59, 60, 61, 62, 63, 64, 65, 66, 67, 68, 69, 70, 71, 72, 73, 74, 75, 76, 77, 78, 79, 80, 81, 82, 83, 84, 85, 86, 87, 88, 89, 90, 91, 92, 93, 94, 95, 96, 97, 98, 99], \"y\": [0.945521210433491, 0.9472663139329806, 0.9578204771187228, 0.9578204771187228, 0.9578204771187228, 0.9578204771187228, 0.9595841455490578, 0.9595841455490578, 0.9595841455490578, 0.9595841455490578, 0.9595841455490578, 0.9595841455490578, 0.9595841455490578, 0.9613385315139701, 0.9613385315139701, 0.9613385315139701, 0.9613385315139701, 0.9613385315139701, 0.9613385315139701, 0.9613385315139701, 0.9613385315139701, 0.9613385315139701, 0.9613385315139701, 0.9648565859092174, 0.9648565859092174, 0.9648565859092174, 0.9648565859092174, 0.9648565859092174, 0.9648565859092174, 0.9648565859092174, 0.9648565859092174, 0.9648565859092174, 0.9648565859092174, 0.9648565859092174, 0.9648565859092174, 0.9648565859092174, 0.9648565859092174, 0.9648565859092174, 0.9648565859092174, 0.9648565859092174, 0.9648565859092174, 0.9648565859092174, 0.9648565859092174, 0.9648565859092174, 0.9648565859092174, 0.9648565859092174, 0.9648565859092174, 0.9666202543395525, 0.9666202543395525, 0.9666202543395525, 0.9666202543395525, 0.9666202543395525, 0.9666202543395525, 0.9666202543395525, 0.9666202543395525, 0.9666202543395525, 0.9666202543395525, 0.9666202543395525, 0.9666202543395525, 0.9666202543395525, 0.9666202543395525, 0.9666202543395525, 0.9666202543395525, 0.9666202543395525, 0.9666202543395525, 0.9666202543395525, 0.9666202543395525, 0.9666202543395525, 0.9666202543395525, 0.9666202543395525, 0.9666202543395525, 0.9666202543395525, 0.9666202543395525, 0.9666202543395525, 0.9666202543395525, 0.9666202543395525, 0.9666202543395525, 0.9666202543395525, 0.9666202543395525, 0.9666202543395525, 0.9666202543395525, 0.9666202543395525, 0.9666202543395525, 0.9666202543395525, 0.9666202543395525, 0.9666202543395525, 0.9666202543395525, 0.9666202543395525, 0.9666202543395525, 0.9666202543395525, 0.9666202543395525, 0.9666202543395525, 0.9666202543395525, 0.9666202543395525, 0.9666202543395525, 0.9666202543395525, 0.9666202543395525, 0.9666202543395525, 0.9666202543395525, 0.9666202543395525]}],                        {\"template\": {\"data\": {\"bar\": [{\"error_x\": {\"color\": \"#2a3f5f\"}, \"error_y\": {\"color\": \"#2a3f5f\"}, \"marker\": {\"line\": {\"color\": \"#E5ECF6\", \"width\": 0.5}}, \"type\": \"bar\"}], \"barpolar\": [{\"marker\": {\"line\": {\"color\": \"#E5ECF6\", \"width\": 0.5}}, \"type\": \"barpolar\"}], \"carpet\": [{\"aaxis\": {\"endlinecolor\": \"#2a3f5f\", \"gridcolor\": \"white\", \"linecolor\": \"white\", \"minorgridcolor\": \"white\", \"startlinecolor\": \"#2a3f5f\"}, \"baxis\": {\"endlinecolor\": \"#2a3f5f\", \"gridcolor\": \"white\", \"linecolor\": \"white\", \"minorgridcolor\": \"white\", \"startlinecolor\": \"#2a3f5f\"}, \"type\": \"carpet\"}], \"choropleth\": [{\"colorbar\": {\"outlinewidth\": 0, \"ticks\": \"\"}, \"type\": \"choropleth\"}], \"contour\": [{\"colorbar\": {\"outlinewidth\": 0, \"ticks\": \"\"}, \"colorscale\": [[0.0, \"#0d0887\"], [0.1111111111111111, \"#46039f\"], [0.2222222222222222, \"#7201a8\"], [0.3333333333333333, \"#9c179e\"], [0.4444444444444444, \"#bd3786\"], [0.5555555555555556, \"#d8576b\"], [0.6666666666666666, \"#ed7953\"], [0.7777777777777778, \"#fb9f3a\"], [0.8888888888888888, \"#fdca26\"], [1.0, \"#f0f921\"]], \"type\": \"contour\"}], \"contourcarpet\": [{\"colorbar\": {\"outlinewidth\": 0, \"ticks\": \"\"}, \"type\": \"contourcarpet\"}], \"heatmap\": [{\"colorbar\": {\"outlinewidth\": 0, \"ticks\": \"\"}, \"colorscale\": [[0.0, \"#0d0887\"], [0.1111111111111111, \"#46039f\"], [0.2222222222222222, \"#7201a8\"], [0.3333333333333333, \"#9c179e\"], [0.4444444444444444, \"#bd3786\"], [0.5555555555555556, \"#d8576b\"], [0.6666666666666666, \"#ed7953\"], [0.7777777777777778, \"#fb9f3a\"], [0.8888888888888888, \"#fdca26\"], [1.0, \"#f0f921\"]], \"type\": \"heatmap\"}], \"heatmapgl\": [{\"colorbar\": {\"outlinewidth\": 0, \"ticks\": \"\"}, \"colorscale\": [[0.0, \"#0d0887\"], [0.1111111111111111, \"#46039f\"], [0.2222222222222222, \"#7201a8\"], [0.3333333333333333, \"#9c179e\"], [0.4444444444444444, \"#bd3786\"], [0.5555555555555556, \"#d8576b\"], [0.6666666666666666, \"#ed7953\"], [0.7777777777777778, \"#fb9f3a\"], [0.8888888888888888, \"#fdca26\"], [1.0, \"#f0f921\"]], \"type\": \"heatmapgl\"}], \"histogram\": [{\"marker\": {\"colorbar\": {\"outlinewidth\": 0, \"ticks\": \"\"}}, \"type\": \"histogram\"}], \"histogram2d\": [{\"colorbar\": {\"outlinewidth\": 0, \"ticks\": \"\"}, \"colorscale\": [[0.0, \"#0d0887\"], [0.1111111111111111, \"#46039f\"], [0.2222222222222222, \"#7201a8\"], [0.3333333333333333, \"#9c179e\"], [0.4444444444444444, \"#bd3786\"], [0.5555555555555556, \"#d8576b\"], [0.6666666666666666, \"#ed7953\"], [0.7777777777777778, \"#fb9f3a\"], [0.8888888888888888, \"#fdca26\"], [1.0, \"#f0f921\"]], \"type\": \"histogram2d\"}], \"histogram2dcontour\": [{\"colorbar\": {\"outlinewidth\": 0, \"ticks\": \"\"}, \"colorscale\": [[0.0, \"#0d0887\"], [0.1111111111111111, \"#46039f\"], [0.2222222222222222, \"#7201a8\"], [0.3333333333333333, \"#9c179e\"], [0.4444444444444444, \"#bd3786\"], [0.5555555555555556, \"#d8576b\"], [0.6666666666666666, \"#ed7953\"], [0.7777777777777778, \"#fb9f3a\"], [0.8888888888888888, \"#fdca26\"], [1.0, \"#f0f921\"]], \"type\": \"histogram2dcontour\"}], \"mesh3d\": [{\"colorbar\": {\"outlinewidth\": 0, \"ticks\": \"\"}, \"type\": \"mesh3d\"}], \"parcoords\": [{\"line\": {\"colorbar\": {\"outlinewidth\": 0, \"ticks\": \"\"}}, \"type\": \"parcoords\"}], \"pie\": [{\"automargin\": true, \"type\": \"pie\"}], \"scatter\": [{\"marker\": {\"colorbar\": {\"outlinewidth\": 0, \"ticks\": \"\"}}, \"type\": \"scatter\"}], \"scatter3d\": [{\"line\": {\"colorbar\": {\"outlinewidth\": 0, \"ticks\": \"\"}}, \"marker\": {\"colorbar\": {\"outlinewidth\": 0, \"ticks\": \"\"}}, \"type\": \"scatter3d\"}], \"scattercarpet\": [{\"marker\": {\"colorbar\": {\"outlinewidth\": 0, \"ticks\": \"\"}}, \"type\": \"scattercarpet\"}], \"scattergeo\": [{\"marker\": {\"colorbar\": {\"outlinewidth\": 0, \"ticks\": \"\"}}, \"type\": \"scattergeo\"}], \"scattergl\": [{\"marker\": {\"colorbar\": {\"outlinewidth\": 0, \"ticks\": \"\"}}, \"type\": \"scattergl\"}], \"scattermapbox\": [{\"marker\": {\"colorbar\": {\"outlinewidth\": 0, \"ticks\": \"\"}}, \"type\": \"scattermapbox\"}], \"scatterpolar\": [{\"marker\": {\"colorbar\": {\"outlinewidth\": 0, \"ticks\": \"\"}}, \"type\": \"scatterpolar\"}], \"scatterpolargl\": [{\"marker\": {\"colorbar\": {\"outlinewidth\": 0, \"ticks\": \"\"}}, \"type\": \"scatterpolargl\"}], \"scatterternary\": [{\"marker\": {\"colorbar\": {\"outlinewidth\": 0, \"ticks\": \"\"}}, \"type\": \"scatterternary\"}], \"surface\": [{\"colorbar\": {\"outlinewidth\": 0, \"ticks\": \"\"}, \"colorscale\": [[0.0, \"#0d0887\"], [0.1111111111111111, \"#46039f\"], [0.2222222222222222, \"#7201a8\"], [0.3333333333333333, \"#9c179e\"], [0.4444444444444444, \"#bd3786\"], [0.5555555555555556, \"#d8576b\"], [0.6666666666666666, \"#ed7953\"], [0.7777777777777778, \"#fb9f3a\"], [0.8888888888888888, \"#fdca26\"], [1.0, \"#f0f921\"]], \"type\": \"surface\"}], \"table\": [{\"cells\": {\"fill\": {\"color\": \"#EBF0F8\"}, \"line\": {\"color\": \"white\"}}, \"header\": {\"fill\": {\"color\": \"#C8D4E3\"}, \"line\": {\"color\": \"white\"}}, \"type\": \"table\"}]}, \"layout\": {\"annotationdefaults\": {\"arrowcolor\": \"#2a3f5f\", \"arrowhead\": 0, \"arrowwidth\": 1}, \"autotypenumbers\": \"strict\", \"coloraxis\": {\"colorbar\": {\"outlinewidth\": 0, \"ticks\": \"\"}}, \"colorscale\": {\"diverging\": [[0, \"#8e0152\"], [0.1, \"#c51b7d\"], [0.2, \"#de77ae\"], [0.3, \"#f1b6da\"], [0.4, \"#fde0ef\"], [0.5, \"#f7f7f7\"], [0.6, \"#e6f5d0\"], [0.7, \"#b8e186\"], [0.8, \"#7fbc41\"], [0.9, \"#4d9221\"], [1, \"#276419\"]], \"sequential\": [[0.0, \"#0d0887\"], [0.1111111111111111, \"#46039f\"], [0.2222222222222222, \"#7201a8\"], [0.3333333333333333, \"#9c179e\"], [0.4444444444444444, \"#bd3786\"], [0.5555555555555556, \"#d8576b\"], [0.6666666666666666, \"#ed7953\"], [0.7777777777777778, \"#fb9f3a\"], [0.8888888888888888, \"#fdca26\"], [1.0, \"#f0f921\"]], \"sequentialminus\": [[0.0, \"#0d0887\"], [0.1111111111111111, \"#46039f\"], [0.2222222222222222, \"#7201a8\"], [0.3333333333333333, \"#9c179e\"], [0.4444444444444444, \"#bd3786\"], [0.5555555555555556, \"#d8576b\"], [0.6666666666666666, \"#ed7953\"], [0.7777777777777778, \"#fb9f3a\"], [0.8888888888888888, \"#fdca26\"], [1.0, \"#f0f921\"]]}, \"colorway\": [\"#636efa\", \"#EF553B\", \"#00cc96\", \"#ab63fa\", \"#FFA15A\", \"#19d3f3\", \"#FF6692\", \"#B6E880\", \"#FF97FF\", \"#FECB52\"], \"font\": {\"color\": \"#2a3f5f\"}, \"geo\": {\"bgcolor\": \"white\", \"lakecolor\": \"white\", \"landcolor\": \"#E5ECF6\", \"showlakes\": true, \"showland\": true, \"subunitcolor\": \"white\"}, \"hoverlabel\": {\"align\": \"left\"}, \"hovermode\": \"closest\", \"mapbox\": {\"style\": \"light\"}, \"paper_bgcolor\": \"white\", \"plot_bgcolor\": \"#E5ECF6\", \"polar\": {\"angularaxis\": {\"gridcolor\": \"white\", \"linecolor\": \"white\", \"ticks\": \"\"}, \"bgcolor\": \"#E5ECF6\", \"radialaxis\": {\"gridcolor\": \"white\", \"linecolor\": \"white\", \"ticks\": \"\"}}, \"scene\": {\"xaxis\": {\"backgroundcolor\": \"#E5ECF6\", \"gridcolor\": \"white\", \"gridwidth\": 2, \"linecolor\": \"white\", \"showbackground\": true, \"ticks\": \"\", \"zerolinecolor\": \"white\"}, \"yaxis\": {\"backgroundcolor\": \"#E5ECF6\", \"gridcolor\": \"white\", \"gridwidth\": 2, \"linecolor\": \"white\", \"showbackground\": true, \"ticks\": \"\", \"zerolinecolor\": \"white\"}, \"zaxis\": {\"backgroundcolor\": \"#E5ECF6\", \"gridcolor\": \"white\", \"gridwidth\": 2, \"linecolor\": \"white\", \"showbackground\": true, \"ticks\": \"\", \"zerolinecolor\": \"white\"}}, \"shapedefaults\": {\"line\": {\"color\": \"#2a3f5f\"}}, \"ternary\": {\"aaxis\": {\"gridcolor\": \"white\", \"linecolor\": \"white\", \"ticks\": \"\"}, \"baxis\": {\"gridcolor\": \"white\", \"linecolor\": \"white\", \"ticks\": \"\"}, \"bgcolor\": \"#E5ECF6\", \"caxis\": {\"gridcolor\": \"white\", \"linecolor\": \"white\", \"ticks\": \"\"}}, \"title\": {\"x\": 0.05}, \"xaxis\": {\"automargin\": true, \"gridcolor\": \"white\", \"linecolor\": \"white\", \"ticks\": \"\", \"title\": {\"standoff\": 15}, \"zerolinecolor\": \"white\", \"zerolinewidth\": 2}, \"yaxis\": {\"automargin\": true, \"gridcolor\": \"white\", \"linecolor\": \"white\", \"ticks\": \"\", \"title\": {\"standoff\": 15}, \"zerolinecolor\": \"white\", \"zerolinewidth\": 2}}}, \"title\": {\"text\": \"Optimization History Plot\"}, \"xaxis\": {\"title\": {\"text\": \"#Trials\"}}, \"yaxis\": {\"title\": {\"text\": \"Objective Value\"}}},                        {\"responsive\": true}                    ).then(function(){\n",
       "                            \n",
       "var gd = document.getElementById('0e037ea6-d946-4f76-b960-ee6cb2023613');\n",
       "var x = new MutationObserver(function (mutations, observer) {{\n",
       "        var display = window.getComputedStyle(gd).display;\n",
       "        if (!display || display === 'none') {{\n",
       "            console.log([gd, 'removed!']);\n",
       "            Plotly.purge(gd);\n",
       "            observer.disconnect();\n",
       "        }}\n",
       "}});\n",
       "\n",
       "// Listen for the removal of the full notebook cells\n",
       "var notebookContainer = gd.closest('#notebook-container');\n",
       "if (notebookContainer) {{\n",
       "    x.observe(notebookContainer, {childList: true});\n",
       "}}\n",
       "\n",
       "// Listen for the clearing of the current output cell\n",
       "var outputEl = gd.closest('.output');\n",
       "if (outputEl) {{\n",
       "    x.observe(outputEl, {childList: true});\n",
       "}}\n",
       "\n",
       "                        })                };                });            </script>        </div>"
      ]
     },
     "metadata": {},
     "output_type": "display_data"
    }
   ],
   "source": [
    "# Visualize the optimization history.\n",
    "from optuna.visualization import plot_optimization_history\n",
    "\n",
    "plot_optimization_history(study).show()"
   ]
  },
  {
   "cell_type": "code",
   "execution_count": 7,
   "metadata": {
    "ExecuteTime": {
     "end_time": "2021-04-20T02:41:30.106072Z",
     "start_time": "2021-04-20T02:41:30.054703Z"
    }
   },
   "outputs": [
    {
     "data": {
      "application/vnd.plotly.v1+json": {
       "config": {
        "plotlyServerURL": "https://plot.ly"
       },
       "data": [
        {
         "dimensions": [
          {
           "label": "Objective Value",
           "range": [
            0.6274204028589994,
            0.9666202543395525
           ],
           "values": [
            0.945521210433491,
            0.9472663139329806,
            0.9578204771187228,
            0.9367399981435068,
            0.9419938735728209,
            0.9402487700733314,
            0.9595841455490578,
            0.9455026455026454,
            0.9402580525387543,
            0.945530492898914,
            0.9560753736192332,
            0.9578297595841455,
            0.9560753736192332,
            0.9613385315139701,
            0.9578297595841455,
            0.9578483245149911,
            0.9595934280144807,
            0.9525573192239859,
            0.9472663139329806,
            0.9472755963984034,
            0.9578297595841455,
            0.9595841455490578,
            0.9543117051888982,
            0.9648565859092174,
            0.9613385315139701,
            0.9595841455490578,
            0.9560660911538105,
            0.959574863083635,
            0.9595934280144807,
            0.9543302701197439,
            0.9560660911538105,
            0.9578297595841455,
            0.9560660911538105,
            0.9543209876543209,
            0.9578204771187228,
            0.9613292490485472,
            0.9543117051888982,
            0.6274204028589994,
            0.9543117051888982,
            0.6274204028589994,
            0.9578297595841455,
            0.959574863083635,
            0.9560753736192332,
            0.9596027104799035,
            0.9525666016894087,
            0.9578390420495685,
            0.9244500139236981,
            0.9666202543395525,
            0.9613385315139701,
            0.9578390420495685,
            0.9543117051888982,
            0.9560753736192332,
            0.9613478139793928,
            0.9595934280144807,
            0.9595934280144807,
            0.9578204771187228,
            0.9595841455490578,
            0.9560660911538105,
            0.9578297595841455,
            0.9068968718091526,
            0.9595934280144807,
            0.9543117051888982,
            0.9613478139793928,
            0.9437853893994245,
            0.9648658683746403,
            0.9595841455490578,
            0.9578204771187228,
            0.9595934280144807,
            0.9560660911538105,
            0.9578297595841455,
            0.9595841455490578,
            0.9630929174788824,
            0.959574863083635,
            0.9595934280144807,
            0.9578297595841455,
            0.9560753736192332,
            0.9595934280144807,
            0.9630929174788824,
            0.9543209876543209,
            0.9525573192239859,
            0.9578390420495685,
            0.9595841455490578,
            0.9595841455490578,
            0.9508029332590736,
            0.9543209876543209,
            0.9613478139793928,
            0.9578390420495685,
            0.9560753736192332,
            0.9034159472755964,
            0.9595934280144807,
            0.9613292490485472,
            0.9578297595841455,
            0.9578297595841455,
            0.9613385315139701,
            0.9560753736192332,
            0.9613385315139701,
            0.9578390420495685,
            0.9578390420495685,
            0.9525573192239859,
            0.9525573192239859
           ]
          },
          {
           "label": "rf_max_depth",
           "range": [
            2,
            31
           ],
           "values": [
            17,
            14,
            2,
            31,
            16,
            10,
            16,
            5,
            31,
            7,
            4,
            6,
            3,
            9,
            16,
            22,
            10,
            9,
            9,
            12,
            22,
            8,
            12,
            24,
            6,
            7,
            11,
            5,
            8,
            14,
            20,
            8,
            8,
            11,
            13,
            14,
            15,
            13,
            19,
            19,
            28,
            17,
            10,
            9,
            10,
            18,
            10,
            13,
            25,
            16,
            6,
            10,
            2,
            10,
            12,
            11,
            10,
            7,
            9,
            11,
            15,
            13,
            15,
            9,
            10,
            12,
            7,
            6,
            5,
            7,
            8,
            7,
            21,
            8,
            9,
            17,
            9,
            11,
            12,
            6,
            14,
            9,
            8,
            10,
            9,
            6,
            7,
            10
           ]
          },
          {
           "label": "rf_n_estimators",
           "range": [
            10,
            990
           ],
           "values": [
            661,
            219,
            416,
            163,
            902,
            990,
            51,
            31,
            225,
            25,
            32,
            19,
            418,
            611,
            196,
            148,
            314,
            355,
            354,
            313,
            549,
            780,
            484,
            320,
            97,
            838,
            273,
            98,
            99,
            386,
            500,
            262,
            628,
            722,
            98,
            113,
            179,
            75,
            422,
            433,
            467,
            364,
            543,
            575,
            550,
            440,
            678,
            253,
            385,
            548,
            15,
            61,
            56,
            312,
            231,
            332,
            142,
            393,
            280,
            302,
            55,
            456,
            199,
            54,
            345,
            505,
            142,
            140,
            71,
            219,
            167,
            413,
            23,
            298,
            122,
            141,
            77,
            119,
            40,
            365,
            71,
            181,
            179,
            117,
            228,
            42,
            120,
            10
           ]
          }
         ],
         "labelangle": 30,
         "labelside": "bottom",
         "line": {
          "color": [
           0.945521210433491,
           0.9472663139329806,
           0.9578204771187228,
           0.9367399981435068,
           0.9419938735728209,
           0.9402487700733314,
           0.9595841455490578,
           0.9455026455026454,
           0.9402580525387543,
           0.945530492898914,
           0.9560753736192332,
           0.9578297595841455,
           0.9560753736192332,
           0.9613385315139701,
           0.9578297595841455,
           0.9578483245149911,
           0.9595934280144807,
           0.9525573192239859,
           0.9472663139329806,
           0.9472755963984034,
           0.9578297595841455,
           0.9595841455490578,
           0.9543117051888982,
           0.9648565859092174,
           0.9613385315139701,
           0.9595841455490578,
           0.9560660911538105,
           0.959574863083635,
           0.9595934280144807,
           0.9543302701197439,
           0.9560660911538105,
           0.9578297595841455,
           0.9560660911538105,
           0.9543209876543209,
           0.9578204771187228,
           0.9613292490485472,
           0.9543117051888982,
           0.6274204028589994,
           0.9543117051888982,
           0.6274204028589994,
           0.9578297595841455,
           0.959574863083635,
           0.9560753736192332,
           0.9596027104799035,
           0.9525666016894087,
           0.9578390420495685,
           0.9244500139236981,
           0.9666202543395525,
           0.9613385315139701,
           0.9578390420495685,
           0.9543117051888982,
           0.9560753736192332,
           0.9613478139793928,
           0.9595934280144807,
           0.9595934280144807,
           0.9578204771187228,
           0.9595841455490578,
           0.9560660911538105,
           0.9578297595841455,
           0.9068968718091526,
           0.9595934280144807,
           0.9543117051888982,
           0.9613478139793928,
           0.9437853893994245,
           0.9648658683746403,
           0.9595841455490578,
           0.9578204771187228,
           0.9595934280144807,
           0.9560660911538105,
           0.9578297595841455,
           0.9595841455490578,
           0.9630929174788824,
           0.959574863083635,
           0.9595934280144807,
           0.9578297595841455,
           0.9560753736192332,
           0.9595934280144807,
           0.9630929174788824,
           0.9543209876543209,
           0.9525573192239859,
           0.9578390420495685,
           0.9595841455490578,
           0.9595841455490578,
           0.9508029332590736,
           0.9543209876543209,
           0.9613478139793928,
           0.9578390420495685,
           0.9560753736192332,
           0.9034159472755964,
           0.9595934280144807,
           0.9613292490485472,
           0.9578297595841455,
           0.9578297595841455,
           0.9613385315139701,
           0.9560753736192332,
           0.9613385315139701,
           0.9578390420495685,
           0.9578390420495685,
           0.9525573192239859,
           0.9525573192239859
          ],
          "colorbar": {
           "title": {
            "text": "Objective Value"
           }
          },
          "colorscale": [
           [
            0,
            "rgb(247,251,255)"
           ],
           [
            0.125,
            "rgb(222,235,247)"
           ],
           [
            0.25,
            "rgb(198,219,239)"
           ],
           [
            0.375,
            "rgb(158,202,225)"
           ],
           [
            0.5,
            "rgb(107,174,214)"
           ],
           [
            0.625,
            "rgb(66,146,198)"
           ],
           [
            0.75,
            "rgb(33,113,181)"
           ],
           [
            0.875,
            "rgb(8,81,156)"
           ],
           [
            1,
            "rgb(8,48,107)"
           ]
          ],
          "reversescale": false,
          "showscale": true
         },
         "type": "parcoords"
        }
       ],
       "layout": {
        "template": {
         "data": {
          "bar": [
           {
            "error_x": {
             "color": "#2a3f5f"
            },
            "error_y": {
             "color": "#2a3f5f"
            },
            "marker": {
             "line": {
              "color": "#E5ECF6",
              "width": 0.5
             }
            },
            "type": "bar"
           }
          ],
          "barpolar": [
           {
            "marker": {
             "line": {
              "color": "#E5ECF6",
              "width": 0.5
             }
            },
            "type": "barpolar"
           }
          ],
          "carpet": [
           {
            "aaxis": {
             "endlinecolor": "#2a3f5f",
             "gridcolor": "white",
             "linecolor": "white",
             "minorgridcolor": "white",
             "startlinecolor": "#2a3f5f"
            },
            "baxis": {
             "endlinecolor": "#2a3f5f",
             "gridcolor": "white",
             "linecolor": "white",
             "minorgridcolor": "white",
             "startlinecolor": "#2a3f5f"
            },
            "type": "carpet"
           }
          ],
          "choropleth": [
           {
            "colorbar": {
             "outlinewidth": 0,
             "ticks": ""
            },
            "type": "choropleth"
           }
          ],
          "contour": [
           {
            "colorbar": {
             "outlinewidth": 0,
             "ticks": ""
            },
            "colorscale": [
             [
              0,
              "#0d0887"
             ],
             [
              0.1111111111111111,
              "#46039f"
             ],
             [
              0.2222222222222222,
              "#7201a8"
             ],
             [
              0.3333333333333333,
              "#9c179e"
             ],
             [
              0.4444444444444444,
              "#bd3786"
             ],
             [
              0.5555555555555556,
              "#d8576b"
             ],
             [
              0.6666666666666666,
              "#ed7953"
             ],
             [
              0.7777777777777778,
              "#fb9f3a"
             ],
             [
              0.8888888888888888,
              "#fdca26"
             ],
             [
              1,
              "#f0f921"
             ]
            ],
            "type": "contour"
           }
          ],
          "contourcarpet": [
           {
            "colorbar": {
             "outlinewidth": 0,
             "ticks": ""
            },
            "type": "contourcarpet"
           }
          ],
          "heatmap": [
           {
            "colorbar": {
             "outlinewidth": 0,
             "ticks": ""
            },
            "colorscale": [
             [
              0,
              "#0d0887"
             ],
             [
              0.1111111111111111,
              "#46039f"
             ],
             [
              0.2222222222222222,
              "#7201a8"
             ],
             [
              0.3333333333333333,
              "#9c179e"
             ],
             [
              0.4444444444444444,
              "#bd3786"
             ],
             [
              0.5555555555555556,
              "#d8576b"
             ],
             [
              0.6666666666666666,
              "#ed7953"
             ],
             [
              0.7777777777777778,
              "#fb9f3a"
             ],
             [
              0.8888888888888888,
              "#fdca26"
             ],
             [
              1,
              "#f0f921"
             ]
            ],
            "type": "heatmap"
           }
          ],
          "heatmapgl": [
           {
            "colorbar": {
             "outlinewidth": 0,
             "ticks": ""
            },
            "colorscale": [
             [
              0,
              "#0d0887"
             ],
             [
              0.1111111111111111,
              "#46039f"
             ],
             [
              0.2222222222222222,
              "#7201a8"
             ],
             [
              0.3333333333333333,
              "#9c179e"
             ],
             [
              0.4444444444444444,
              "#bd3786"
             ],
             [
              0.5555555555555556,
              "#d8576b"
             ],
             [
              0.6666666666666666,
              "#ed7953"
             ],
             [
              0.7777777777777778,
              "#fb9f3a"
             ],
             [
              0.8888888888888888,
              "#fdca26"
             ],
             [
              1,
              "#f0f921"
             ]
            ],
            "type": "heatmapgl"
           }
          ],
          "histogram": [
           {
            "marker": {
             "colorbar": {
              "outlinewidth": 0,
              "ticks": ""
             }
            },
            "type": "histogram"
           }
          ],
          "histogram2d": [
           {
            "colorbar": {
             "outlinewidth": 0,
             "ticks": ""
            },
            "colorscale": [
             [
              0,
              "#0d0887"
             ],
             [
              0.1111111111111111,
              "#46039f"
             ],
             [
              0.2222222222222222,
              "#7201a8"
             ],
             [
              0.3333333333333333,
              "#9c179e"
             ],
             [
              0.4444444444444444,
              "#bd3786"
             ],
             [
              0.5555555555555556,
              "#d8576b"
             ],
             [
              0.6666666666666666,
              "#ed7953"
             ],
             [
              0.7777777777777778,
              "#fb9f3a"
             ],
             [
              0.8888888888888888,
              "#fdca26"
             ],
             [
              1,
              "#f0f921"
             ]
            ],
            "type": "histogram2d"
           }
          ],
          "histogram2dcontour": [
           {
            "colorbar": {
             "outlinewidth": 0,
             "ticks": ""
            },
            "colorscale": [
             [
              0,
              "#0d0887"
             ],
             [
              0.1111111111111111,
              "#46039f"
             ],
             [
              0.2222222222222222,
              "#7201a8"
             ],
             [
              0.3333333333333333,
              "#9c179e"
             ],
             [
              0.4444444444444444,
              "#bd3786"
             ],
             [
              0.5555555555555556,
              "#d8576b"
             ],
             [
              0.6666666666666666,
              "#ed7953"
             ],
             [
              0.7777777777777778,
              "#fb9f3a"
             ],
             [
              0.8888888888888888,
              "#fdca26"
             ],
             [
              1,
              "#f0f921"
             ]
            ],
            "type": "histogram2dcontour"
           }
          ],
          "mesh3d": [
           {
            "colorbar": {
             "outlinewidth": 0,
             "ticks": ""
            },
            "type": "mesh3d"
           }
          ],
          "parcoords": [
           {
            "line": {
             "colorbar": {
              "outlinewidth": 0,
              "ticks": ""
             }
            },
            "type": "parcoords"
           }
          ],
          "pie": [
           {
            "automargin": true,
            "type": "pie"
           }
          ],
          "scatter": [
           {
            "marker": {
             "colorbar": {
              "outlinewidth": 0,
              "ticks": ""
             }
            },
            "type": "scatter"
           }
          ],
          "scatter3d": [
           {
            "line": {
             "colorbar": {
              "outlinewidth": 0,
              "ticks": ""
             }
            },
            "marker": {
             "colorbar": {
              "outlinewidth": 0,
              "ticks": ""
             }
            },
            "type": "scatter3d"
           }
          ],
          "scattercarpet": [
           {
            "marker": {
             "colorbar": {
              "outlinewidth": 0,
              "ticks": ""
             }
            },
            "type": "scattercarpet"
           }
          ],
          "scattergeo": [
           {
            "marker": {
             "colorbar": {
              "outlinewidth": 0,
              "ticks": ""
             }
            },
            "type": "scattergeo"
           }
          ],
          "scattergl": [
           {
            "marker": {
             "colorbar": {
              "outlinewidth": 0,
              "ticks": ""
             }
            },
            "type": "scattergl"
           }
          ],
          "scattermapbox": [
           {
            "marker": {
             "colorbar": {
              "outlinewidth": 0,
              "ticks": ""
             }
            },
            "type": "scattermapbox"
           }
          ],
          "scatterpolar": [
           {
            "marker": {
             "colorbar": {
              "outlinewidth": 0,
              "ticks": ""
             }
            },
            "type": "scatterpolar"
           }
          ],
          "scatterpolargl": [
           {
            "marker": {
             "colorbar": {
              "outlinewidth": 0,
              "ticks": ""
             }
            },
            "type": "scatterpolargl"
           }
          ],
          "scatterternary": [
           {
            "marker": {
             "colorbar": {
              "outlinewidth": 0,
              "ticks": ""
             }
            },
            "type": "scatterternary"
           }
          ],
          "surface": [
           {
            "colorbar": {
             "outlinewidth": 0,
             "ticks": ""
            },
            "colorscale": [
             [
              0,
              "#0d0887"
             ],
             [
              0.1111111111111111,
              "#46039f"
             ],
             [
              0.2222222222222222,
              "#7201a8"
             ],
             [
              0.3333333333333333,
              "#9c179e"
             ],
             [
              0.4444444444444444,
              "#bd3786"
             ],
             [
              0.5555555555555556,
              "#d8576b"
             ],
             [
              0.6666666666666666,
              "#ed7953"
             ],
             [
              0.7777777777777778,
              "#fb9f3a"
             ],
             [
              0.8888888888888888,
              "#fdca26"
             ],
             [
              1,
              "#f0f921"
             ]
            ],
            "type": "surface"
           }
          ],
          "table": [
           {
            "cells": {
             "fill": {
              "color": "#EBF0F8"
             },
             "line": {
              "color": "white"
             }
            },
            "header": {
             "fill": {
              "color": "#C8D4E3"
             },
             "line": {
              "color": "white"
             }
            },
            "type": "table"
           }
          ]
         },
         "layout": {
          "annotationdefaults": {
           "arrowcolor": "#2a3f5f",
           "arrowhead": 0,
           "arrowwidth": 1
          },
          "autotypenumbers": "strict",
          "coloraxis": {
           "colorbar": {
            "outlinewidth": 0,
            "ticks": ""
           }
          },
          "colorscale": {
           "diverging": [
            [
             0,
             "#8e0152"
            ],
            [
             0.1,
             "#c51b7d"
            ],
            [
             0.2,
             "#de77ae"
            ],
            [
             0.3,
             "#f1b6da"
            ],
            [
             0.4,
             "#fde0ef"
            ],
            [
             0.5,
             "#f7f7f7"
            ],
            [
             0.6,
             "#e6f5d0"
            ],
            [
             0.7,
             "#b8e186"
            ],
            [
             0.8,
             "#7fbc41"
            ],
            [
             0.9,
             "#4d9221"
            ],
            [
             1,
             "#276419"
            ]
           ],
           "sequential": [
            [
             0,
             "#0d0887"
            ],
            [
             0.1111111111111111,
             "#46039f"
            ],
            [
             0.2222222222222222,
             "#7201a8"
            ],
            [
             0.3333333333333333,
             "#9c179e"
            ],
            [
             0.4444444444444444,
             "#bd3786"
            ],
            [
             0.5555555555555556,
             "#d8576b"
            ],
            [
             0.6666666666666666,
             "#ed7953"
            ],
            [
             0.7777777777777778,
             "#fb9f3a"
            ],
            [
             0.8888888888888888,
             "#fdca26"
            ],
            [
             1,
             "#f0f921"
            ]
           ],
           "sequentialminus": [
            [
             0,
             "#0d0887"
            ],
            [
             0.1111111111111111,
             "#46039f"
            ],
            [
             0.2222222222222222,
             "#7201a8"
            ],
            [
             0.3333333333333333,
             "#9c179e"
            ],
            [
             0.4444444444444444,
             "#bd3786"
            ],
            [
             0.5555555555555556,
             "#d8576b"
            ],
            [
             0.6666666666666666,
             "#ed7953"
            ],
            [
             0.7777777777777778,
             "#fb9f3a"
            ],
            [
             0.8888888888888888,
             "#fdca26"
            ],
            [
             1,
             "#f0f921"
            ]
           ]
          },
          "colorway": [
           "#636efa",
           "#EF553B",
           "#00cc96",
           "#ab63fa",
           "#FFA15A",
           "#19d3f3",
           "#FF6692",
           "#B6E880",
           "#FF97FF",
           "#FECB52"
          ],
          "font": {
           "color": "#2a3f5f"
          },
          "geo": {
           "bgcolor": "white",
           "lakecolor": "white",
           "landcolor": "#E5ECF6",
           "showlakes": true,
           "showland": true,
           "subunitcolor": "white"
          },
          "hoverlabel": {
           "align": "left"
          },
          "hovermode": "closest",
          "mapbox": {
           "style": "light"
          },
          "paper_bgcolor": "white",
          "plot_bgcolor": "#E5ECF6",
          "polar": {
           "angularaxis": {
            "gridcolor": "white",
            "linecolor": "white",
            "ticks": ""
           },
           "bgcolor": "#E5ECF6",
           "radialaxis": {
            "gridcolor": "white",
            "linecolor": "white",
            "ticks": ""
           }
          },
          "scene": {
           "xaxis": {
            "backgroundcolor": "#E5ECF6",
            "gridcolor": "white",
            "gridwidth": 2,
            "linecolor": "white",
            "showbackground": true,
            "ticks": "",
            "zerolinecolor": "white"
           },
           "yaxis": {
            "backgroundcolor": "#E5ECF6",
            "gridcolor": "white",
            "gridwidth": 2,
            "linecolor": "white",
            "showbackground": true,
            "ticks": "",
            "zerolinecolor": "white"
           },
           "zaxis": {
            "backgroundcolor": "#E5ECF6",
            "gridcolor": "white",
            "gridwidth": 2,
            "linecolor": "white",
            "showbackground": true,
            "ticks": "",
            "zerolinecolor": "white"
           }
          },
          "shapedefaults": {
           "line": {
            "color": "#2a3f5f"
           }
          },
          "ternary": {
           "aaxis": {
            "gridcolor": "white",
            "linecolor": "white",
            "ticks": ""
           },
           "baxis": {
            "gridcolor": "white",
            "linecolor": "white",
            "ticks": ""
           },
           "bgcolor": "#E5ECF6",
           "caxis": {
            "gridcolor": "white",
            "linecolor": "white",
            "ticks": ""
           }
          },
          "title": {
           "x": 0.05
          },
          "xaxis": {
           "automargin": true,
           "gridcolor": "white",
           "linecolor": "white",
           "ticks": "",
           "title": {
            "standoff": 15
           },
           "zerolinecolor": "white",
           "zerolinewidth": 2
          },
          "yaxis": {
           "automargin": true,
           "gridcolor": "white",
           "linecolor": "white",
           "ticks": "",
           "title": {
            "standoff": 15
           },
           "zerolinecolor": "white",
           "zerolinewidth": 2
          }
         }
        },
        "title": {
         "text": "Parallel Coordinate Plot"
        }
       }
      },
      "text/html": [
       "<div>                            <div id=\"64b12c25-fd0f-44f9-b986-26ca811371d5\" class=\"plotly-graph-div\" style=\"height:525px; width:100%;\"></div>            <script type=\"text/javascript\">                require([\"plotly\"], function(Plotly) {                    window.PLOTLYENV=window.PLOTLYENV || {};                                    if (document.getElementById(\"64b12c25-fd0f-44f9-b986-26ca811371d5\")) {                    Plotly.newPlot(                        \"64b12c25-fd0f-44f9-b986-26ca811371d5\",                        [{\"dimensions\": [{\"label\": \"Objective Value\", \"range\": [0.6274204028589994, 0.9666202543395525], \"values\": [0.945521210433491, 0.9472663139329806, 0.9578204771187228, 0.9367399981435068, 0.9419938735728209, 0.9402487700733314, 0.9595841455490578, 0.9455026455026454, 0.9402580525387543, 0.945530492898914, 0.9560753736192332, 0.9578297595841455, 0.9560753736192332, 0.9613385315139701, 0.9578297595841455, 0.9578483245149911, 0.9595934280144807, 0.9525573192239859, 0.9472663139329806, 0.9472755963984034, 0.9578297595841455, 0.9595841455490578, 0.9543117051888982, 0.9648565859092174, 0.9613385315139701, 0.9595841455490578, 0.9560660911538105, 0.959574863083635, 0.9595934280144807, 0.9543302701197439, 0.9560660911538105, 0.9578297595841455, 0.9560660911538105, 0.9543209876543209, 0.9578204771187228, 0.9613292490485472, 0.9543117051888982, 0.6274204028589994, 0.9543117051888982, 0.6274204028589994, 0.9578297595841455, 0.959574863083635, 0.9560753736192332, 0.9596027104799035, 0.9525666016894087, 0.9578390420495685, 0.9244500139236981, 0.9666202543395525, 0.9613385315139701, 0.9578390420495685, 0.9543117051888982, 0.9560753736192332, 0.9613478139793928, 0.9595934280144807, 0.9595934280144807, 0.9578204771187228, 0.9595841455490578, 0.9560660911538105, 0.9578297595841455, 0.9068968718091526, 0.9595934280144807, 0.9543117051888982, 0.9613478139793928, 0.9437853893994245, 0.9648658683746403, 0.9595841455490578, 0.9578204771187228, 0.9595934280144807, 0.9560660911538105, 0.9578297595841455, 0.9595841455490578, 0.9630929174788824, 0.959574863083635, 0.9595934280144807, 0.9578297595841455, 0.9560753736192332, 0.9595934280144807, 0.9630929174788824, 0.9543209876543209, 0.9525573192239859, 0.9578390420495685, 0.9595841455490578, 0.9595841455490578, 0.9508029332590736, 0.9543209876543209, 0.9613478139793928, 0.9578390420495685, 0.9560753736192332, 0.9034159472755964, 0.9595934280144807, 0.9613292490485472, 0.9578297595841455, 0.9578297595841455, 0.9613385315139701, 0.9560753736192332, 0.9613385315139701, 0.9578390420495685, 0.9578390420495685, 0.9525573192239859, 0.9525573192239859]}, {\"label\": \"rf_max_depth\", \"range\": [2, 31], \"values\": [17, 14, 2, 31, 16, 10, 16, 5, 31, 7, 4, 6, 3, 9, 16, 22, 10, 9, 9, 12, 22, 8, 12, 24, 6, 7, 11, 5, 8, 14, 20, 8, 8, 11, 13, 14, 15, 13, 19, 19, 28, 17, 10, 9, 10, 18, 10, 13, 25, 16, 6, 10, 2, 10, 12, 11, 10, 7, 9, 11, 15, 13, 15, 9, 10, 12, 7, 6, 5, 7, 8, 7, 21, 8, 9, 17, 9, 11, 12, 6, 14, 9, 8, 10, 9, 6, 7, 10]}, {\"label\": \"rf_n_estimators\", \"range\": [10, 990], \"values\": [661, 219, 416, 163, 902, 990, 51, 31, 225, 25, 32, 19, 418, 611, 196, 148, 314, 355, 354, 313, 549, 780, 484, 320, 97, 838, 273, 98, 99, 386, 500, 262, 628, 722, 98, 113, 179, 75, 422, 433, 467, 364, 543, 575, 550, 440, 678, 253, 385, 548, 15, 61, 56, 312, 231, 332, 142, 393, 280, 302, 55, 456, 199, 54, 345, 505, 142, 140, 71, 219, 167, 413, 23, 298, 122, 141, 77, 119, 40, 365, 71, 181, 179, 117, 228, 42, 120, 10]}], \"labelangle\": 30, \"labelside\": \"bottom\", \"line\": {\"color\": [0.945521210433491, 0.9472663139329806, 0.9578204771187228, 0.9367399981435068, 0.9419938735728209, 0.9402487700733314, 0.9595841455490578, 0.9455026455026454, 0.9402580525387543, 0.945530492898914, 0.9560753736192332, 0.9578297595841455, 0.9560753736192332, 0.9613385315139701, 0.9578297595841455, 0.9578483245149911, 0.9595934280144807, 0.9525573192239859, 0.9472663139329806, 0.9472755963984034, 0.9578297595841455, 0.9595841455490578, 0.9543117051888982, 0.9648565859092174, 0.9613385315139701, 0.9595841455490578, 0.9560660911538105, 0.959574863083635, 0.9595934280144807, 0.9543302701197439, 0.9560660911538105, 0.9578297595841455, 0.9560660911538105, 0.9543209876543209, 0.9578204771187228, 0.9613292490485472, 0.9543117051888982, 0.6274204028589994, 0.9543117051888982, 0.6274204028589994, 0.9578297595841455, 0.959574863083635, 0.9560753736192332, 0.9596027104799035, 0.9525666016894087, 0.9578390420495685, 0.9244500139236981, 0.9666202543395525, 0.9613385315139701, 0.9578390420495685, 0.9543117051888982, 0.9560753736192332, 0.9613478139793928, 0.9595934280144807, 0.9595934280144807, 0.9578204771187228, 0.9595841455490578, 0.9560660911538105, 0.9578297595841455, 0.9068968718091526, 0.9595934280144807, 0.9543117051888982, 0.9613478139793928, 0.9437853893994245, 0.9648658683746403, 0.9595841455490578, 0.9578204771187228, 0.9595934280144807, 0.9560660911538105, 0.9578297595841455, 0.9595841455490578, 0.9630929174788824, 0.959574863083635, 0.9595934280144807, 0.9578297595841455, 0.9560753736192332, 0.9595934280144807, 0.9630929174788824, 0.9543209876543209, 0.9525573192239859, 0.9578390420495685, 0.9595841455490578, 0.9595841455490578, 0.9508029332590736, 0.9543209876543209, 0.9613478139793928, 0.9578390420495685, 0.9560753736192332, 0.9034159472755964, 0.9595934280144807, 0.9613292490485472, 0.9578297595841455, 0.9578297595841455, 0.9613385315139701, 0.9560753736192332, 0.9613385315139701, 0.9578390420495685, 0.9578390420495685, 0.9525573192239859, 0.9525573192239859], \"colorbar\": {\"title\": {\"text\": \"Objective Value\"}}, \"colorscale\": [[0.0, \"rgb(247,251,255)\"], [0.125, \"rgb(222,235,247)\"], [0.25, \"rgb(198,219,239)\"], [0.375, \"rgb(158,202,225)\"], [0.5, \"rgb(107,174,214)\"], [0.625, \"rgb(66,146,198)\"], [0.75, \"rgb(33,113,181)\"], [0.875, \"rgb(8,81,156)\"], [1.0, \"rgb(8,48,107)\"]], \"reversescale\": false, \"showscale\": true}, \"type\": \"parcoords\"}],                        {\"template\": {\"data\": {\"bar\": [{\"error_x\": {\"color\": \"#2a3f5f\"}, \"error_y\": {\"color\": \"#2a3f5f\"}, \"marker\": {\"line\": {\"color\": \"#E5ECF6\", \"width\": 0.5}}, \"type\": \"bar\"}], \"barpolar\": [{\"marker\": {\"line\": {\"color\": \"#E5ECF6\", \"width\": 0.5}}, \"type\": \"barpolar\"}], \"carpet\": [{\"aaxis\": {\"endlinecolor\": \"#2a3f5f\", \"gridcolor\": \"white\", \"linecolor\": \"white\", \"minorgridcolor\": \"white\", \"startlinecolor\": \"#2a3f5f\"}, \"baxis\": {\"endlinecolor\": \"#2a3f5f\", \"gridcolor\": \"white\", \"linecolor\": \"white\", \"minorgridcolor\": \"white\", \"startlinecolor\": \"#2a3f5f\"}, \"type\": \"carpet\"}], \"choropleth\": [{\"colorbar\": {\"outlinewidth\": 0, \"ticks\": \"\"}, \"type\": \"choropleth\"}], \"contour\": [{\"colorbar\": {\"outlinewidth\": 0, \"ticks\": \"\"}, \"colorscale\": [[0.0, \"#0d0887\"], [0.1111111111111111, \"#46039f\"], [0.2222222222222222, \"#7201a8\"], [0.3333333333333333, \"#9c179e\"], [0.4444444444444444, \"#bd3786\"], [0.5555555555555556, \"#d8576b\"], [0.6666666666666666, \"#ed7953\"], [0.7777777777777778, \"#fb9f3a\"], [0.8888888888888888, \"#fdca26\"], [1.0, \"#f0f921\"]], \"type\": \"contour\"}], \"contourcarpet\": [{\"colorbar\": {\"outlinewidth\": 0, \"ticks\": \"\"}, \"type\": \"contourcarpet\"}], \"heatmap\": [{\"colorbar\": {\"outlinewidth\": 0, \"ticks\": \"\"}, \"colorscale\": [[0.0, \"#0d0887\"], [0.1111111111111111, \"#46039f\"], [0.2222222222222222, \"#7201a8\"], [0.3333333333333333, \"#9c179e\"], [0.4444444444444444, \"#bd3786\"], [0.5555555555555556, \"#d8576b\"], [0.6666666666666666, \"#ed7953\"], [0.7777777777777778, \"#fb9f3a\"], [0.8888888888888888, \"#fdca26\"], [1.0, \"#f0f921\"]], \"type\": \"heatmap\"}], \"heatmapgl\": [{\"colorbar\": {\"outlinewidth\": 0, \"ticks\": \"\"}, \"colorscale\": [[0.0, \"#0d0887\"], [0.1111111111111111, \"#46039f\"], [0.2222222222222222, \"#7201a8\"], [0.3333333333333333, \"#9c179e\"], [0.4444444444444444, \"#bd3786\"], [0.5555555555555556, \"#d8576b\"], [0.6666666666666666, \"#ed7953\"], [0.7777777777777778, \"#fb9f3a\"], [0.8888888888888888, \"#fdca26\"], [1.0, \"#f0f921\"]], \"type\": \"heatmapgl\"}], \"histogram\": [{\"marker\": {\"colorbar\": {\"outlinewidth\": 0, \"ticks\": \"\"}}, \"type\": \"histogram\"}], \"histogram2d\": [{\"colorbar\": {\"outlinewidth\": 0, \"ticks\": \"\"}, \"colorscale\": [[0.0, \"#0d0887\"], [0.1111111111111111, \"#46039f\"], [0.2222222222222222, \"#7201a8\"], [0.3333333333333333, \"#9c179e\"], [0.4444444444444444, \"#bd3786\"], [0.5555555555555556, \"#d8576b\"], [0.6666666666666666, \"#ed7953\"], [0.7777777777777778, \"#fb9f3a\"], [0.8888888888888888, \"#fdca26\"], [1.0, \"#f0f921\"]], \"type\": \"histogram2d\"}], \"histogram2dcontour\": [{\"colorbar\": {\"outlinewidth\": 0, \"ticks\": \"\"}, \"colorscale\": [[0.0, \"#0d0887\"], [0.1111111111111111, \"#46039f\"], [0.2222222222222222, \"#7201a8\"], [0.3333333333333333, \"#9c179e\"], [0.4444444444444444, \"#bd3786\"], [0.5555555555555556, \"#d8576b\"], [0.6666666666666666, \"#ed7953\"], [0.7777777777777778, \"#fb9f3a\"], [0.8888888888888888, \"#fdca26\"], [1.0, \"#f0f921\"]], \"type\": \"histogram2dcontour\"}], \"mesh3d\": [{\"colorbar\": {\"outlinewidth\": 0, \"ticks\": \"\"}, \"type\": \"mesh3d\"}], \"parcoords\": [{\"line\": {\"colorbar\": {\"outlinewidth\": 0, \"ticks\": \"\"}}, \"type\": \"parcoords\"}], \"pie\": [{\"automargin\": true, \"type\": \"pie\"}], \"scatter\": [{\"marker\": {\"colorbar\": {\"outlinewidth\": 0, \"ticks\": \"\"}}, \"type\": \"scatter\"}], \"scatter3d\": [{\"line\": {\"colorbar\": {\"outlinewidth\": 0, \"ticks\": \"\"}}, \"marker\": {\"colorbar\": {\"outlinewidth\": 0, \"ticks\": \"\"}}, \"type\": \"scatter3d\"}], \"scattercarpet\": [{\"marker\": {\"colorbar\": {\"outlinewidth\": 0, \"ticks\": \"\"}}, \"type\": \"scattercarpet\"}], \"scattergeo\": [{\"marker\": {\"colorbar\": {\"outlinewidth\": 0, \"ticks\": \"\"}}, \"type\": \"scattergeo\"}], \"scattergl\": [{\"marker\": {\"colorbar\": {\"outlinewidth\": 0, \"ticks\": \"\"}}, \"type\": \"scattergl\"}], \"scattermapbox\": [{\"marker\": {\"colorbar\": {\"outlinewidth\": 0, \"ticks\": \"\"}}, \"type\": \"scattermapbox\"}], \"scatterpolar\": [{\"marker\": {\"colorbar\": {\"outlinewidth\": 0, \"ticks\": \"\"}}, \"type\": \"scatterpolar\"}], \"scatterpolargl\": [{\"marker\": {\"colorbar\": {\"outlinewidth\": 0, \"ticks\": \"\"}}, \"type\": \"scatterpolargl\"}], \"scatterternary\": [{\"marker\": {\"colorbar\": {\"outlinewidth\": 0, \"ticks\": \"\"}}, \"type\": \"scatterternary\"}], \"surface\": [{\"colorbar\": {\"outlinewidth\": 0, \"ticks\": \"\"}, \"colorscale\": [[0.0, \"#0d0887\"], [0.1111111111111111, \"#46039f\"], [0.2222222222222222, \"#7201a8\"], [0.3333333333333333, \"#9c179e\"], [0.4444444444444444, \"#bd3786\"], [0.5555555555555556, \"#d8576b\"], [0.6666666666666666, \"#ed7953\"], [0.7777777777777778, \"#fb9f3a\"], [0.8888888888888888, \"#fdca26\"], [1.0, \"#f0f921\"]], \"type\": \"surface\"}], \"table\": [{\"cells\": {\"fill\": {\"color\": \"#EBF0F8\"}, \"line\": {\"color\": \"white\"}}, \"header\": {\"fill\": {\"color\": \"#C8D4E3\"}, \"line\": {\"color\": \"white\"}}, \"type\": \"table\"}]}, \"layout\": {\"annotationdefaults\": {\"arrowcolor\": \"#2a3f5f\", \"arrowhead\": 0, \"arrowwidth\": 1}, \"autotypenumbers\": \"strict\", \"coloraxis\": {\"colorbar\": {\"outlinewidth\": 0, \"ticks\": \"\"}}, \"colorscale\": {\"diverging\": [[0, \"#8e0152\"], [0.1, \"#c51b7d\"], [0.2, \"#de77ae\"], [0.3, \"#f1b6da\"], [0.4, \"#fde0ef\"], [0.5, \"#f7f7f7\"], [0.6, \"#e6f5d0\"], [0.7, \"#b8e186\"], [0.8, \"#7fbc41\"], [0.9, \"#4d9221\"], [1, \"#276419\"]], \"sequential\": [[0.0, \"#0d0887\"], [0.1111111111111111, \"#46039f\"], [0.2222222222222222, \"#7201a8\"], [0.3333333333333333, \"#9c179e\"], [0.4444444444444444, \"#bd3786\"], [0.5555555555555556, \"#d8576b\"], [0.6666666666666666, \"#ed7953\"], [0.7777777777777778, \"#fb9f3a\"], [0.8888888888888888, \"#fdca26\"], [1.0, \"#f0f921\"]], \"sequentialminus\": [[0.0, \"#0d0887\"], [0.1111111111111111, \"#46039f\"], [0.2222222222222222, \"#7201a8\"], [0.3333333333333333, \"#9c179e\"], [0.4444444444444444, \"#bd3786\"], [0.5555555555555556, \"#d8576b\"], [0.6666666666666666, \"#ed7953\"], [0.7777777777777778, \"#fb9f3a\"], [0.8888888888888888, \"#fdca26\"], [1.0, \"#f0f921\"]]}, \"colorway\": [\"#636efa\", \"#EF553B\", \"#00cc96\", \"#ab63fa\", \"#FFA15A\", \"#19d3f3\", \"#FF6692\", \"#B6E880\", \"#FF97FF\", \"#FECB52\"], \"font\": {\"color\": \"#2a3f5f\"}, \"geo\": {\"bgcolor\": \"white\", \"lakecolor\": \"white\", \"landcolor\": \"#E5ECF6\", \"showlakes\": true, \"showland\": true, \"subunitcolor\": \"white\"}, \"hoverlabel\": {\"align\": \"left\"}, \"hovermode\": \"closest\", \"mapbox\": {\"style\": \"light\"}, \"paper_bgcolor\": \"white\", \"plot_bgcolor\": \"#E5ECF6\", \"polar\": {\"angularaxis\": {\"gridcolor\": \"white\", \"linecolor\": \"white\", \"ticks\": \"\"}, \"bgcolor\": \"#E5ECF6\", \"radialaxis\": {\"gridcolor\": \"white\", \"linecolor\": \"white\", \"ticks\": \"\"}}, \"scene\": {\"xaxis\": {\"backgroundcolor\": \"#E5ECF6\", \"gridcolor\": \"white\", \"gridwidth\": 2, \"linecolor\": \"white\", \"showbackground\": true, \"ticks\": \"\", \"zerolinecolor\": \"white\"}, \"yaxis\": {\"backgroundcolor\": \"#E5ECF6\", \"gridcolor\": \"white\", \"gridwidth\": 2, \"linecolor\": \"white\", \"showbackground\": true, \"ticks\": \"\", \"zerolinecolor\": \"white\"}, \"zaxis\": {\"backgroundcolor\": \"#E5ECF6\", \"gridcolor\": \"white\", \"gridwidth\": 2, \"linecolor\": \"white\", \"showbackground\": true, \"ticks\": \"\", \"zerolinecolor\": \"white\"}}, \"shapedefaults\": {\"line\": {\"color\": \"#2a3f5f\"}}, \"ternary\": {\"aaxis\": {\"gridcolor\": \"white\", \"linecolor\": \"white\", \"ticks\": \"\"}, \"baxis\": {\"gridcolor\": \"white\", \"linecolor\": \"white\", \"ticks\": \"\"}, \"bgcolor\": \"#E5ECF6\", \"caxis\": {\"gridcolor\": \"white\", \"linecolor\": \"white\", \"ticks\": \"\"}}, \"title\": {\"x\": 0.05}, \"xaxis\": {\"automargin\": true, \"gridcolor\": \"white\", \"linecolor\": \"white\", \"ticks\": \"\", \"title\": {\"standoff\": 15}, \"zerolinecolor\": \"white\", \"zerolinewidth\": 2}, \"yaxis\": {\"automargin\": true, \"gridcolor\": \"white\", \"linecolor\": \"white\", \"ticks\": \"\", \"title\": {\"standoff\": 15}, \"zerolinecolor\": \"white\", \"zerolinewidth\": 2}}}, \"title\": {\"text\": \"Parallel Coordinate Plot\"}},                        {\"responsive\": true}                    ).then(function(){\n",
       "                            \n",
       "var gd = document.getElementById('64b12c25-fd0f-44f9-b986-26ca811371d5');\n",
       "var x = new MutationObserver(function (mutations, observer) {{\n",
       "        var display = window.getComputedStyle(gd).display;\n",
       "        if (!display || display === 'none') {{\n",
       "            console.log([gd, 'removed!']);\n",
       "            Plotly.purge(gd);\n",
       "            observer.disconnect();\n",
       "        }}\n",
       "}});\n",
       "\n",
       "// Listen for the removal of the full notebook cells\n",
       "var notebookContainer = gd.closest('#notebook-container');\n",
       "if (notebookContainer) {{\n",
       "    x.observe(notebookContainer, {childList: true});\n",
       "}}\n",
       "\n",
       "// Listen for the clearing of the current output cell\n",
       "var outputEl = gd.closest('.output');\n",
       "if (outputEl) {{\n",
       "    x.observe(outputEl, {childList: true});\n",
       "}}\n",
       "\n",
       "                        })                };                });            </script>        </div>"
      ]
     },
     "metadata": {},
     "output_type": "display_data"
    }
   ],
   "source": [
    "# Visualize the parallel coordinate\n",
    "optuna.visualization.plot_parallel_coordinate(study, params = ['rf_n_estimators', 'rf_max_depth'])"
   ]
  },
  {
   "cell_type": "code",
   "execution_count": 8,
   "metadata": {
    "ExecuteTime": {
     "end_time": "2021-04-20T02:42:41.823359Z",
     "start_time": "2021-04-20T02:42:41.676177Z"
    }
   },
   "outputs": [
    {
     "data": {
      "application/vnd.plotly.v1+json": {
       "config": {
        "plotlyServerURL": "https://plot.ly"
       },
       "data": [
        {
         "marker": {
          "color": [
           2,
           6,
           9,
           10,
           11,
           12,
           13,
           14,
           15,
           16,
           17,
           18,
           19,
           20,
           21,
           22,
           23,
           24,
           25,
           26,
           27,
           28,
           29,
           30,
           31,
           32,
           33,
           34,
           35,
           36,
           38,
           40,
           41,
           42,
           43,
           44,
           45,
           47,
           48,
           49,
           50,
           51,
           52,
           53,
           54,
           55,
           56,
           57,
           58,
           60,
           61,
           62,
           63,
           64,
           65,
           66,
           67,
           68,
           69,
           70,
           71,
           72,
           73,
           74,
           75,
           76,
           77,
           78,
           79,
           80,
           81,
           82,
           83,
           84,
           85,
           86,
           87,
           89,
           90,
           91,
           92,
           93,
           94,
           95,
           96,
           97,
           98,
           99
          ],
          "colorbar": {
           "title": {
            "text": "#Trials"
           },
           "x": 1,
           "xpad": 40
          },
          "colorscale": [
           [
            0,
            "rgb(247,251,255)"
           ],
           [
            0.125,
            "rgb(222,235,247)"
           ],
           [
            0.25,
            "rgb(198,219,239)"
           ],
           [
            0.375,
            "rgb(158,202,225)"
           ],
           [
            0.5,
            "rgb(107,174,214)"
           ],
           [
            0.625,
            "rgb(66,146,198)"
           ],
           [
            0.75,
            "rgb(33,113,181)"
           ],
           [
            0.875,
            "rgb(8,81,156)"
           ],
           [
            1,
            "rgb(8,48,107)"
           ]
          ],
          "line": {
           "color": "Grey",
           "width": 0.5
          },
          "showscale": true
         },
         "mode": "markers",
         "showlegend": false,
         "type": "scatter",
         "x": [
          17,
          14,
          2,
          31,
          16,
          10,
          16,
          5,
          31,
          7,
          4,
          6,
          3,
          9,
          16,
          22,
          10,
          9,
          9,
          12,
          22,
          8,
          12,
          24,
          6,
          7,
          11,
          5,
          8,
          14,
          20,
          8,
          8,
          11,
          13,
          14,
          15,
          13,
          19,
          19,
          28,
          17,
          10,
          9,
          10,
          18,
          10,
          13,
          25,
          16,
          6,
          10,
          2,
          10,
          12,
          11,
          10,
          7,
          9,
          11,
          15,
          13,
          15,
          9,
          10,
          12,
          7,
          6,
          5,
          7,
          8,
          7,
          21,
          8,
          9,
          17,
          9,
          11,
          12,
          6,
          14,
          9,
          8,
          10,
          9,
          6,
          7,
          10
         ],
         "xaxis": "x",
         "y": [
          0.9578204771187228,
          0.9595841455490578,
          0.945530492898914,
          0.9560753736192332,
          0.9578297595841455,
          0.9560753736192332,
          0.9613385315139701,
          0.9578297595841455,
          0.9578483245149911,
          0.9595934280144807,
          0.9525573192239859,
          0.9472663139329806,
          0.9472755963984034,
          0.9578297595841455,
          0.9595841455490578,
          0.9543117051888982,
          0.9648565859092174,
          0.9613385315139701,
          0.9595841455490578,
          0.9560660911538105,
          0.959574863083635,
          0.9595934280144807,
          0.9543302701197439,
          0.9560660911538105,
          0.9578297595841455,
          0.9560660911538105,
          0.9543209876543209,
          0.9578204771187228,
          0.9613292490485472,
          0.9543117051888982,
          0.9543117051888982,
          0.9578297595841455,
          0.959574863083635,
          0.9560753736192332,
          0.9596027104799035,
          0.9525666016894087,
          0.9578390420495685,
          0.9666202543395525,
          0.9613385315139701,
          0.9578390420495685,
          0.9543117051888982,
          0.9560753736192332,
          0.9613478139793928,
          0.9595934280144807,
          0.9595934280144807,
          0.9578204771187228,
          0.9595841455490578,
          0.9560660911538105,
          0.9578297595841455,
          0.9595934280144807,
          0.9543117051888982,
          0.9613478139793928,
          0.9437853893994245,
          0.9648658683746403,
          0.9595841455490578,
          0.9578204771187228,
          0.9595934280144807,
          0.9560660911538105,
          0.9578297595841455,
          0.9595841455490578,
          0.9630929174788824,
          0.959574863083635,
          0.9595934280144807,
          0.9578297595841455,
          0.9560753736192332,
          0.9595934280144807,
          0.9630929174788824,
          0.9543209876543209,
          0.9525573192239859,
          0.9578390420495685,
          0.9595841455490578,
          0.9595841455490578,
          0.9508029332590736,
          0.9543209876543209,
          0.9613478139793928,
          0.9578390420495685,
          0.9560753736192332,
          0.9595934280144807,
          0.9613292490485472,
          0.9578297595841455,
          0.9578297595841455,
          0.9613385315139701,
          0.9560753736192332,
          0.9613385315139701,
          0.9578390420495685,
          0.9578390420495685,
          0.9525573192239859,
          0.9525573192239859
         ],
         "yaxis": "y"
        },
        {
         "marker": {
          "color": [
           2,
           6,
           9,
           10,
           11,
           12,
           13,
           14,
           15,
           16,
           17,
           18,
           19,
           20,
           21,
           22,
           23,
           24,
           25,
           26,
           27,
           28,
           29,
           30,
           31,
           32,
           33,
           34,
           35,
           36,
           38,
           40,
           41,
           42,
           43,
           44,
           45,
           47,
           48,
           49,
           50,
           51,
           52,
           53,
           54,
           55,
           56,
           57,
           58,
           60,
           61,
           62,
           63,
           64,
           65,
           66,
           67,
           68,
           69,
           70,
           71,
           72,
           73,
           74,
           75,
           76,
           77,
           78,
           79,
           80,
           81,
           82,
           83,
           84,
           85,
           86,
           87,
           89,
           90,
           91,
           92,
           93,
           94,
           95,
           96,
           97,
           98,
           99
          ],
          "colorbar": {
           "title": {
            "text": "#Trials"
           },
           "x": 1,
           "xpad": 40
          },
          "colorscale": [
           [
            0,
            "rgb(247,251,255)"
           ],
           [
            0.125,
            "rgb(222,235,247)"
           ],
           [
            0.25,
            "rgb(198,219,239)"
           ],
           [
            0.375,
            "rgb(158,202,225)"
           ],
           [
            0.5,
            "rgb(107,174,214)"
           ],
           [
            0.625,
            "rgb(66,146,198)"
           ],
           [
            0.75,
            "rgb(33,113,181)"
           ],
           [
            0.875,
            "rgb(8,81,156)"
           ],
           [
            1,
            "rgb(8,48,107)"
           ]
          ],
          "line": {
           "color": "Grey",
           "width": 0.5
          },
          "showscale": false
         },
         "mode": "markers",
         "showlegend": false,
         "type": "scatter",
         "x": [
          661,
          219,
          416,
          163,
          902,
          990,
          51,
          31,
          225,
          25,
          32,
          19,
          418,
          611,
          196,
          148,
          314,
          355,
          354,
          313,
          549,
          780,
          484,
          320,
          97,
          838,
          273,
          98,
          99,
          386,
          500,
          262,
          628,
          722,
          98,
          113,
          179,
          75,
          422,
          433,
          467,
          364,
          543,
          575,
          550,
          440,
          678,
          253,
          385,
          548,
          15,
          61,
          56,
          312,
          231,
          332,
          142,
          393,
          280,
          302,
          55,
          456,
          199,
          54,
          345,
          505,
          142,
          140,
          71,
          219,
          167,
          413,
          23,
          298,
          122,
          141,
          77,
          119,
          40,
          365,
          71,
          181,
          179,
          117,
          228,
          42,
          120,
          10
         ],
         "xaxis": "x2",
         "y": [
          0.9578204771187228,
          0.9595841455490578,
          0.945530492898914,
          0.9560753736192332,
          0.9578297595841455,
          0.9560753736192332,
          0.9613385315139701,
          0.9578297595841455,
          0.9578483245149911,
          0.9595934280144807,
          0.9525573192239859,
          0.9472663139329806,
          0.9472755963984034,
          0.9578297595841455,
          0.9595841455490578,
          0.9543117051888982,
          0.9648565859092174,
          0.9613385315139701,
          0.9595841455490578,
          0.9560660911538105,
          0.959574863083635,
          0.9595934280144807,
          0.9543302701197439,
          0.9560660911538105,
          0.9578297595841455,
          0.9560660911538105,
          0.9543209876543209,
          0.9578204771187228,
          0.9613292490485472,
          0.9543117051888982,
          0.9543117051888982,
          0.9578297595841455,
          0.959574863083635,
          0.9560753736192332,
          0.9596027104799035,
          0.9525666016894087,
          0.9578390420495685,
          0.9666202543395525,
          0.9613385315139701,
          0.9578390420495685,
          0.9543117051888982,
          0.9560753736192332,
          0.9613478139793928,
          0.9595934280144807,
          0.9595934280144807,
          0.9578204771187228,
          0.9595841455490578,
          0.9560660911538105,
          0.9578297595841455,
          0.9595934280144807,
          0.9543117051888982,
          0.9613478139793928,
          0.9437853893994245,
          0.9648658683746403,
          0.9595841455490578,
          0.9578204771187228,
          0.9595934280144807,
          0.9560660911538105,
          0.9578297595841455,
          0.9595841455490578,
          0.9630929174788824,
          0.959574863083635,
          0.9595934280144807,
          0.9578297595841455,
          0.9560753736192332,
          0.9595934280144807,
          0.9630929174788824,
          0.9543209876543209,
          0.9525573192239859,
          0.9578390420495685,
          0.9595841455490578,
          0.9595841455490578,
          0.9508029332590736,
          0.9543209876543209,
          0.9613478139793928,
          0.9578390420495685,
          0.9560753736192332,
          0.9595934280144807,
          0.9613292490485472,
          0.9578297595841455,
          0.9578297595841455,
          0.9613385315139701,
          0.9560753736192332,
          0.9613385315139701,
          0.9578390420495685,
          0.9578390420495685,
          0.9525573192239859,
          0.9525573192239859
         ],
         "yaxis": "y2"
        }
       ],
       "layout": {
        "template": {
         "data": {
          "bar": [
           {
            "error_x": {
             "color": "#2a3f5f"
            },
            "error_y": {
             "color": "#2a3f5f"
            },
            "marker": {
             "line": {
              "color": "#E5ECF6",
              "width": 0.5
             }
            },
            "type": "bar"
           }
          ],
          "barpolar": [
           {
            "marker": {
             "line": {
              "color": "#E5ECF6",
              "width": 0.5
             }
            },
            "type": "barpolar"
           }
          ],
          "carpet": [
           {
            "aaxis": {
             "endlinecolor": "#2a3f5f",
             "gridcolor": "white",
             "linecolor": "white",
             "minorgridcolor": "white",
             "startlinecolor": "#2a3f5f"
            },
            "baxis": {
             "endlinecolor": "#2a3f5f",
             "gridcolor": "white",
             "linecolor": "white",
             "minorgridcolor": "white",
             "startlinecolor": "#2a3f5f"
            },
            "type": "carpet"
           }
          ],
          "choropleth": [
           {
            "colorbar": {
             "outlinewidth": 0,
             "ticks": ""
            },
            "type": "choropleth"
           }
          ],
          "contour": [
           {
            "colorbar": {
             "outlinewidth": 0,
             "ticks": ""
            },
            "colorscale": [
             [
              0,
              "#0d0887"
             ],
             [
              0.1111111111111111,
              "#46039f"
             ],
             [
              0.2222222222222222,
              "#7201a8"
             ],
             [
              0.3333333333333333,
              "#9c179e"
             ],
             [
              0.4444444444444444,
              "#bd3786"
             ],
             [
              0.5555555555555556,
              "#d8576b"
             ],
             [
              0.6666666666666666,
              "#ed7953"
             ],
             [
              0.7777777777777778,
              "#fb9f3a"
             ],
             [
              0.8888888888888888,
              "#fdca26"
             ],
             [
              1,
              "#f0f921"
             ]
            ],
            "type": "contour"
           }
          ],
          "contourcarpet": [
           {
            "colorbar": {
             "outlinewidth": 0,
             "ticks": ""
            },
            "type": "contourcarpet"
           }
          ],
          "heatmap": [
           {
            "colorbar": {
             "outlinewidth": 0,
             "ticks": ""
            },
            "colorscale": [
             [
              0,
              "#0d0887"
             ],
             [
              0.1111111111111111,
              "#46039f"
             ],
             [
              0.2222222222222222,
              "#7201a8"
             ],
             [
              0.3333333333333333,
              "#9c179e"
             ],
             [
              0.4444444444444444,
              "#bd3786"
             ],
             [
              0.5555555555555556,
              "#d8576b"
             ],
             [
              0.6666666666666666,
              "#ed7953"
             ],
             [
              0.7777777777777778,
              "#fb9f3a"
             ],
             [
              0.8888888888888888,
              "#fdca26"
             ],
             [
              1,
              "#f0f921"
             ]
            ],
            "type": "heatmap"
           }
          ],
          "heatmapgl": [
           {
            "colorbar": {
             "outlinewidth": 0,
             "ticks": ""
            },
            "colorscale": [
             [
              0,
              "#0d0887"
             ],
             [
              0.1111111111111111,
              "#46039f"
             ],
             [
              0.2222222222222222,
              "#7201a8"
             ],
             [
              0.3333333333333333,
              "#9c179e"
             ],
             [
              0.4444444444444444,
              "#bd3786"
             ],
             [
              0.5555555555555556,
              "#d8576b"
             ],
             [
              0.6666666666666666,
              "#ed7953"
             ],
             [
              0.7777777777777778,
              "#fb9f3a"
             ],
             [
              0.8888888888888888,
              "#fdca26"
             ],
             [
              1,
              "#f0f921"
             ]
            ],
            "type": "heatmapgl"
           }
          ],
          "histogram": [
           {
            "marker": {
             "colorbar": {
              "outlinewidth": 0,
              "ticks": ""
             }
            },
            "type": "histogram"
           }
          ],
          "histogram2d": [
           {
            "colorbar": {
             "outlinewidth": 0,
             "ticks": ""
            },
            "colorscale": [
             [
              0,
              "#0d0887"
             ],
             [
              0.1111111111111111,
              "#46039f"
             ],
             [
              0.2222222222222222,
              "#7201a8"
             ],
             [
              0.3333333333333333,
              "#9c179e"
             ],
             [
              0.4444444444444444,
              "#bd3786"
             ],
             [
              0.5555555555555556,
              "#d8576b"
             ],
             [
              0.6666666666666666,
              "#ed7953"
             ],
             [
              0.7777777777777778,
              "#fb9f3a"
             ],
             [
              0.8888888888888888,
              "#fdca26"
             ],
             [
              1,
              "#f0f921"
             ]
            ],
            "type": "histogram2d"
           }
          ],
          "histogram2dcontour": [
           {
            "colorbar": {
             "outlinewidth": 0,
             "ticks": ""
            },
            "colorscale": [
             [
              0,
              "#0d0887"
             ],
             [
              0.1111111111111111,
              "#46039f"
             ],
             [
              0.2222222222222222,
              "#7201a8"
             ],
             [
              0.3333333333333333,
              "#9c179e"
             ],
             [
              0.4444444444444444,
              "#bd3786"
             ],
             [
              0.5555555555555556,
              "#d8576b"
             ],
             [
              0.6666666666666666,
              "#ed7953"
             ],
             [
              0.7777777777777778,
              "#fb9f3a"
             ],
             [
              0.8888888888888888,
              "#fdca26"
             ],
             [
              1,
              "#f0f921"
             ]
            ],
            "type": "histogram2dcontour"
           }
          ],
          "mesh3d": [
           {
            "colorbar": {
             "outlinewidth": 0,
             "ticks": ""
            },
            "type": "mesh3d"
           }
          ],
          "parcoords": [
           {
            "line": {
             "colorbar": {
              "outlinewidth": 0,
              "ticks": ""
             }
            },
            "type": "parcoords"
           }
          ],
          "pie": [
           {
            "automargin": true,
            "type": "pie"
           }
          ],
          "scatter": [
           {
            "marker": {
             "colorbar": {
              "outlinewidth": 0,
              "ticks": ""
             }
            },
            "type": "scatter"
           }
          ],
          "scatter3d": [
           {
            "line": {
             "colorbar": {
              "outlinewidth": 0,
              "ticks": ""
             }
            },
            "marker": {
             "colorbar": {
              "outlinewidth": 0,
              "ticks": ""
             }
            },
            "type": "scatter3d"
           }
          ],
          "scattercarpet": [
           {
            "marker": {
             "colorbar": {
              "outlinewidth": 0,
              "ticks": ""
             }
            },
            "type": "scattercarpet"
           }
          ],
          "scattergeo": [
           {
            "marker": {
             "colorbar": {
              "outlinewidth": 0,
              "ticks": ""
             }
            },
            "type": "scattergeo"
           }
          ],
          "scattergl": [
           {
            "marker": {
             "colorbar": {
              "outlinewidth": 0,
              "ticks": ""
             }
            },
            "type": "scattergl"
           }
          ],
          "scattermapbox": [
           {
            "marker": {
             "colorbar": {
              "outlinewidth": 0,
              "ticks": ""
             }
            },
            "type": "scattermapbox"
           }
          ],
          "scatterpolar": [
           {
            "marker": {
             "colorbar": {
              "outlinewidth": 0,
              "ticks": ""
             }
            },
            "type": "scatterpolar"
           }
          ],
          "scatterpolargl": [
           {
            "marker": {
             "colorbar": {
              "outlinewidth": 0,
              "ticks": ""
             }
            },
            "type": "scatterpolargl"
           }
          ],
          "scatterternary": [
           {
            "marker": {
             "colorbar": {
              "outlinewidth": 0,
              "ticks": ""
             }
            },
            "type": "scatterternary"
           }
          ],
          "surface": [
           {
            "colorbar": {
             "outlinewidth": 0,
             "ticks": ""
            },
            "colorscale": [
             [
              0,
              "#0d0887"
             ],
             [
              0.1111111111111111,
              "#46039f"
             ],
             [
              0.2222222222222222,
              "#7201a8"
             ],
             [
              0.3333333333333333,
              "#9c179e"
             ],
             [
              0.4444444444444444,
              "#bd3786"
             ],
             [
              0.5555555555555556,
              "#d8576b"
             ],
             [
              0.6666666666666666,
              "#ed7953"
             ],
             [
              0.7777777777777778,
              "#fb9f3a"
             ],
             [
              0.8888888888888888,
              "#fdca26"
             ],
             [
              1,
              "#f0f921"
             ]
            ],
            "type": "surface"
           }
          ],
          "table": [
           {
            "cells": {
             "fill": {
              "color": "#EBF0F8"
             },
             "line": {
              "color": "white"
             }
            },
            "header": {
             "fill": {
              "color": "#C8D4E3"
             },
             "line": {
              "color": "white"
             }
            },
            "type": "table"
           }
          ]
         },
         "layout": {
          "annotationdefaults": {
           "arrowcolor": "#2a3f5f",
           "arrowhead": 0,
           "arrowwidth": 1
          },
          "autotypenumbers": "strict",
          "coloraxis": {
           "colorbar": {
            "outlinewidth": 0,
            "ticks": ""
           }
          },
          "colorscale": {
           "diverging": [
            [
             0,
             "#8e0152"
            ],
            [
             0.1,
             "#c51b7d"
            ],
            [
             0.2,
             "#de77ae"
            ],
            [
             0.3,
             "#f1b6da"
            ],
            [
             0.4,
             "#fde0ef"
            ],
            [
             0.5,
             "#f7f7f7"
            ],
            [
             0.6,
             "#e6f5d0"
            ],
            [
             0.7,
             "#b8e186"
            ],
            [
             0.8,
             "#7fbc41"
            ],
            [
             0.9,
             "#4d9221"
            ],
            [
             1,
             "#276419"
            ]
           ],
           "sequential": [
            [
             0,
             "#0d0887"
            ],
            [
             0.1111111111111111,
             "#46039f"
            ],
            [
             0.2222222222222222,
             "#7201a8"
            ],
            [
             0.3333333333333333,
             "#9c179e"
            ],
            [
             0.4444444444444444,
             "#bd3786"
            ],
            [
             0.5555555555555556,
             "#d8576b"
            ],
            [
             0.6666666666666666,
             "#ed7953"
            ],
            [
             0.7777777777777778,
             "#fb9f3a"
            ],
            [
             0.8888888888888888,
             "#fdca26"
            ],
            [
             1,
             "#f0f921"
            ]
           ],
           "sequentialminus": [
            [
             0,
             "#0d0887"
            ],
            [
             0.1111111111111111,
             "#46039f"
            ],
            [
             0.2222222222222222,
             "#7201a8"
            ],
            [
             0.3333333333333333,
             "#9c179e"
            ],
            [
             0.4444444444444444,
             "#bd3786"
            ],
            [
             0.5555555555555556,
             "#d8576b"
            ],
            [
             0.6666666666666666,
             "#ed7953"
            ],
            [
             0.7777777777777778,
             "#fb9f3a"
            ],
            [
             0.8888888888888888,
             "#fdca26"
            ],
            [
             1,
             "#f0f921"
            ]
           ]
          },
          "colorway": [
           "#636efa",
           "#EF553B",
           "#00cc96",
           "#ab63fa",
           "#FFA15A",
           "#19d3f3",
           "#FF6692",
           "#B6E880",
           "#FF97FF",
           "#FECB52"
          ],
          "font": {
           "color": "#2a3f5f"
          },
          "geo": {
           "bgcolor": "white",
           "lakecolor": "white",
           "landcolor": "#E5ECF6",
           "showlakes": true,
           "showland": true,
           "subunitcolor": "white"
          },
          "hoverlabel": {
           "align": "left"
          },
          "hovermode": "closest",
          "mapbox": {
           "style": "light"
          },
          "paper_bgcolor": "white",
          "plot_bgcolor": "#E5ECF6",
          "polar": {
           "angularaxis": {
            "gridcolor": "white",
            "linecolor": "white",
            "ticks": ""
           },
           "bgcolor": "#E5ECF6",
           "radialaxis": {
            "gridcolor": "white",
            "linecolor": "white",
            "ticks": ""
           }
          },
          "scene": {
           "xaxis": {
            "backgroundcolor": "#E5ECF6",
            "gridcolor": "white",
            "gridwidth": 2,
            "linecolor": "white",
            "showbackground": true,
            "ticks": "",
            "zerolinecolor": "white"
           },
           "yaxis": {
            "backgroundcolor": "#E5ECF6",
            "gridcolor": "white",
            "gridwidth": 2,
            "linecolor": "white",
            "showbackground": true,
            "ticks": "",
            "zerolinecolor": "white"
           },
           "zaxis": {
            "backgroundcolor": "#E5ECF6",
            "gridcolor": "white",
            "gridwidth": 2,
            "linecolor": "white",
            "showbackground": true,
            "ticks": "",
            "zerolinecolor": "white"
           }
          },
          "shapedefaults": {
           "line": {
            "color": "#2a3f5f"
           }
          },
          "ternary": {
           "aaxis": {
            "gridcolor": "white",
            "linecolor": "white",
            "ticks": ""
           },
           "baxis": {
            "gridcolor": "white",
            "linecolor": "white",
            "ticks": ""
           },
           "bgcolor": "#E5ECF6",
           "caxis": {
            "gridcolor": "white",
            "linecolor": "white",
            "ticks": ""
           }
          },
          "title": {
           "x": 0.05
          },
          "xaxis": {
           "automargin": true,
           "gridcolor": "white",
           "linecolor": "white",
           "ticks": "",
           "title": {
            "standoff": 15
           },
           "zerolinecolor": "white",
           "zerolinewidth": 2
          },
          "yaxis": {
           "automargin": true,
           "gridcolor": "white",
           "linecolor": "white",
           "ticks": "",
           "title": {
            "standoff": 15
           },
           "zerolinecolor": "white",
           "zerolinewidth": 2
          }
         }
        },
        "title": {
         "text": "Slice Plot"
        },
        "xaxis": {
         "anchor": "y",
         "domain": [
          0,
          0.45
         ],
         "title": {
          "text": "rf_max_depth"
         }
        },
        "xaxis2": {
         "anchor": "y2",
         "domain": [
          0.55,
          1
         ],
         "title": {
          "text": "rf_n_estimators"
         }
        },
        "yaxis": {
         "anchor": "x",
         "domain": [
          0,
          1
         ],
         "title": {
          "text": "Objective Value"
         }
        },
        "yaxis2": {
         "anchor": "x2",
         "domain": [
          0,
          1
         ],
         "matches": "y",
         "showticklabels": false
        }
       }
      },
      "text/html": [
       "<div>                            <div id=\"46b4f705-c296-4aa0-840d-9be24e76f777\" class=\"plotly-graph-div\" style=\"height:525px; width:100%;\"></div>            <script type=\"text/javascript\">                require([\"plotly\"], function(Plotly) {                    window.PLOTLYENV=window.PLOTLYENV || {};                                    if (document.getElementById(\"46b4f705-c296-4aa0-840d-9be24e76f777\")) {                    Plotly.newPlot(                        \"46b4f705-c296-4aa0-840d-9be24e76f777\",                        [{\"marker\": {\"color\": [2, 6, 9, 10, 11, 12, 13, 14, 15, 16, 17, 18, 19, 20, 21, 22, 23, 24, 25, 26, 27, 28, 29, 30, 31, 32, 33, 34, 35, 36, 38, 40, 41, 42, 43, 44, 45, 47, 48, 49, 50, 51, 52, 53, 54, 55, 56, 57, 58, 60, 61, 62, 63, 64, 65, 66, 67, 68, 69, 70, 71, 72, 73, 74, 75, 76, 77, 78, 79, 80, 81, 82, 83, 84, 85, 86, 87, 89, 90, 91, 92, 93, 94, 95, 96, 97, 98, 99], \"colorbar\": {\"title\": {\"text\": \"#Trials\"}, \"x\": 1.0, \"xpad\": 40}, \"colorscale\": [[0.0, \"rgb(247,251,255)\"], [0.125, \"rgb(222,235,247)\"], [0.25, \"rgb(198,219,239)\"], [0.375, \"rgb(158,202,225)\"], [0.5, \"rgb(107,174,214)\"], [0.625, \"rgb(66,146,198)\"], [0.75, \"rgb(33,113,181)\"], [0.875, \"rgb(8,81,156)\"], [1.0, \"rgb(8,48,107)\"]], \"line\": {\"color\": \"Grey\", \"width\": 0.5}, \"showscale\": true}, \"mode\": \"markers\", \"showlegend\": false, \"type\": \"scatter\", \"x\": [17, 14, 2, 31, 16, 10, 16, 5, 31, 7, 4, 6, 3, 9, 16, 22, 10, 9, 9, 12, 22, 8, 12, 24, 6, 7, 11, 5, 8, 14, 20, 8, 8, 11, 13, 14, 15, 13, 19, 19, 28, 17, 10, 9, 10, 18, 10, 13, 25, 16, 6, 10, 2, 10, 12, 11, 10, 7, 9, 11, 15, 13, 15, 9, 10, 12, 7, 6, 5, 7, 8, 7, 21, 8, 9, 17, 9, 11, 12, 6, 14, 9, 8, 10, 9, 6, 7, 10], \"xaxis\": \"x\", \"y\": [0.9578204771187228, 0.9595841455490578, 0.945530492898914, 0.9560753736192332, 0.9578297595841455, 0.9560753736192332, 0.9613385315139701, 0.9578297595841455, 0.9578483245149911, 0.9595934280144807, 0.9525573192239859, 0.9472663139329806, 0.9472755963984034, 0.9578297595841455, 0.9595841455490578, 0.9543117051888982, 0.9648565859092174, 0.9613385315139701, 0.9595841455490578, 0.9560660911538105, 0.959574863083635, 0.9595934280144807, 0.9543302701197439, 0.9560660911538105, 0.9578297595841455, 0.9560660911538105, 0.9543209876543209, 0.9578204771187228, 0.9613292490485472, 0.9543117051888982, 0.9543117051888982, 0.9578297595841455, 0.959574863083635, 0.9560753736192332, 0.9596027104799035, 0.9525666016894087, 0.9578390420495685, 0.9666202543395525, 0.9613385315139701, 0.9578390420495685, 0.9543117051888982, 0.9560753736192332, 0.9613478139793928, 0.9595934280144807, 0.9595934280144807, 0.9578204771187228, 0.9595841455490578, 0.9560660911538105, 0.9578297595841455, 0.9595934280144807, 0.9543117051888982, 0.9613478139793928, 0.9437853893994245, 0.9648658683746403, 0.9595841455490578, 0.9578204771187228, 0.9595934280144807, 0.9560660911538105, 0.9578297595841455, 0.9595841455490578, 0.9630929174788824, 0.959574863083635, 0.9595934280144807, 0.9578297595841455, 0.9560753736192332, 0.9595934280144807, 0.9630929174788824, 0.9543209876543209, 0.9525573192239859, 0.9578390420495685, 0.9595841455490578, 0.9595841455490578, 0.9508029332590736, 0.9543209876543209, 0.9613478139793928, 0.9578390420495685, 0.9560753736192332, 0.9595934280144807, 0.9613292490485472, 0.9578297595841455, 0.9578297595841455, 0.9613385315139701, 0.9560753736192332, 0.9613385315139701, 0.9578390420495685, 0.9578390420495685, 0.9525573192239859, 0.9525573192239859], \"yaxis\": \"y\"}, {\"marker\": {\"color\": [2, 6, 9, 10, 11, 12, 13, 14, 15, 16, 17, 18, 19, 20, 21, 22, 23, 24, 25, 26, 27, 28, 29, 30, 31, 32, 33, 34, 35, 36, 38, 40, 41, 42, 43, 44, 45, 47, 48, 49, 50, 51, 52, 53, 54, 55, 56, 57, 58, 60, 61, 62, 63, 64, 65, 66, 67, 68, 69, 70, 71, 72, 73, 74, 75, 76, 77, 78, 79, 80, 81, 82, 83, 84, 85, 86, 87, 89, 90, 91, 92, 93, 94, 95, 96, 97, 98, 99], \"colorbar\": {\"title\": {\"text\": \"#Trials\"}, \"x\": 1.0, \"xpad\": 40}, \"colorscale\": [[0.0, \"rgb(247,251,255)\"], [0.125, \"rgb(222,235,247)\"], [0.25, \"rgb(198,219,239)\"], [0.375, \"rgb(158,202,225)\"], [0.5, \"rgb(107,174,214)\"], [0.625, \"rgb(66,146,198)\"], [0.75, \"rgb(33,113,181)\"], [0.875, \"rgb(8,81,156)\"], [1.0, \"rgb(8,48,107)\"]], \"line\": {\"color\": \"Grey\", \"width\": 0.5}, \"showscale\": false}, \"mode\": \"markers\", \"showlegend\": false, \"type\": \"scatter\", \"x\": [661, 219, 416, 163, 902, 990, 51, 31, 225, 25, 32, 19, 418, 611, 196, 148, 314, 355, 354, 313, 549, 780, 484, 320, 97, 838, 273, 98, 99, 386, 500, 262, 628, 722, 98, 113, 179, 75, 422, 433, 467, 364, 543, 575, 550, 440, 678, 253, 385, 548, 15, 61, 56, 312, 231, 332, 142, 393, 280, 302, 55, 456, 199, 54, 345, 505, 142, 140, 71, 219, 167, 413, 23, 298, 122, 141, 77, 119, 40, 365, 71, 181, 179, 117, 228, 42, 120, 10], \"xaxis\": \"x2\", \"y\": [0.9578204771187228, 0.9595841455490578, 0.945530492898914, 0.9560753736192332, 0.9578297595841455, 0.9560753736192332, 0.9613385315139701, 0.9578297595841455, 0.9578483245149911, 0.9595934280144807, 0.9525573192239859, 0.9472663139329806, 0.9472755963984034, 0.9578297595841455, 0.9595841455490578, 0.9543117051888982, 0.9648565859092174, 0.9613385315139701, 0.9595841455490578, 0.9560660911538105, 0.959574863083635, 0.9595934280144807, 0.9543302701197439, 0.9560660911538105, 0.9578297595841455, 0.9560660911538105, 0.9543209876543209, 0.9578204771187228, 0.9613292490485472, 0.9543117051888982, 0.9543117051888982, 0.9578297595841455, 0.959574863083635, 0.9560753736192332, 0.9596027104799035, 0.9525666016894087, 0.9578390420495685, 0.9666202543395525, 0.9613385315139701, 0.9578390420495685, 0.9543117051888982, 0.9560753736192332, 0.9613478139793928, 0.9595934280144807, 0.9595934280144807, 0.9578204771187228, 0.9595841455490578, 0.9560660911538105, 0.9578297595841455, 0.9595934280144807, 0.9543117051888982, 0.9613478139793928, 0.9437853893994245, 0.9648658683746403, 0.9595841455490578, 0.9578204771187228, 0.9595934280144807, 0.9560660911538105, 0.9578297595841455, 0.9595841455490578, 0.9630929174788824, 0.959574863083635, 0.9595934280144807, 0.9578297595841455, 0.9560753736192332, 0.9595934280144807, 0.9630929174788824, 0.9543209876543209, 0.9525573192239859, 0.9578390420495685, 0.9595841455490578, 0.9595841455490578, 0.9508029332590736, 0.9543209876543209, 0.9613478139793928, 0.9578390420495685, 0.9560753736192332, 0.9595934280144807, 0.9613292490485472, 0.9578297595841455, 0.9578297595841455, 0.9613385315139701, 0.9560753736192332, 0.9613385315139701, 0.9578390420495685, 0.9578390420495685, 0.9525573192239859, 0.9525573192239859], \"yaxis\": \"y2\"}],                        {\"template\": {\"data\": {\"bar\": [{\"error_x\": {\"color\": \"#2a3f5f\"}, \"error_y\": {\"color\": \"#2a3f5f\"}, \"marker\": {\"line\": {\"color\": \"#E5ECF6\", \"width\": 0.5}}, \"type\": \"bar\"}], \"barpolar\": [{\"marker\": {\"line\": {\"color\": \"#E5ECF6\", \"width\": 0.5}}, \"type\": \"barpolar\"}], \"carpet\": [{\"aaxis\": {\"endlinecolor\": \"#2a3f5f\", \"gridcolor\": \"white\", \"linecolor\": \"white\", \"minorgridcolor\": \"white\", \"startlinecolor\": \"#2a3f5f\"}, \"baxis\": {\"endlinecolor\": \"#2a3f5f\", \"gridcolor\": \"white\", \"linecolor\": \"white\", \"minorgridcolor\": \"white\", \"startlinecolor\": \"#2a3f5f\"}, \"type\": \"carpet\"}], \"choropleth\": [{\"colorbar\": {\"outlinewidth\": 0, \"ticks\": \"\"}, \"type\": \"choropleth\"}], \"contour\": [{\"colorbar\": {\"outlinewidth\": 0, \"ticks\": \"\"}, \"colorscale\": [[0.0, \"#0d0887\"], [0.1111111111111111, \"#46039f\"], [0.2222222222222222, \"#7201a8\"], [0.3333333333333333, \"#9c179e\"], [0.4444444444444444, \"#bd3786\"], [0.5555555555555556, \"#d8576b\"], [0.6666666666666666, \"#ed7953\"], [0.7777777777777778, \"#fb9f3a\"], [0.8888888888888888, \"#fdca26\"], [1.0, \"#f0f921\"]], \"type\": \"contour\"}], \"contourcarpet\": [{\"colorbar\": {\"outlinewidth\": 0, \"ticks\": \"\"}, \"type\": \"contourcarpet\"}], \"heatmap\": [{\"colorbar\": {\"outlinewidth\": 0, \"ticks\": \"\"}, \"colorscale\": [[0.0, \"#0d0887\"], [0.1111111111111111, \"#46039f\"], [0.2222222222222222, \"#7201a8\"], [0.3333333333333333, \"#9c179e\"], [0.4444444444444444, \"#bd3786\"], [0.5555555555555556, \"#d8576b\"], [0.6666666666666666, \"#ed7953\"], [0.7777777777777778, \"#fb9f3a\"], [0.8888888888888888, \"#fdca26\"], [1.0, \"#f0f921\"]], \"type\": \"heatmap\"}], \"heatmapgl\": [{\"colorbar\": {\"outlinewidth\": 0, \"ticks\": \"\"}, \"colorscale\": [[0.0, \"#0d0887\"], [0.1111111111111111, \"#46039f\"], [0.2222222222222222, \"#7201a8\"], [0.3333333333333333, \"#9c179e\"], [0.4444444444444444, \"#bd3786\"], [0.5555555555555556, \"#d8576b\"], [0.6666666666666666, \"#ed7953\"], [0.7777777777777778, \"#fb9f3a\"], [0.8888888888888888, \"#fdca26\"], [1.0, \"#f0f921\"]], \"type\": \"heatmapgl\"}], \"histogram\": [{\"marker\": {\"colorbar\": {\"outlinewidth\": 0, \"ticks\": \"\"}}, \"type\": \"histogram\"}], \"histogram2d\": [{\"colorbar\": {\"outlinewidth\": 0, \"ticks\": \"\"}, \"colorscale\": [[0.0, \"#0d0887\"], [0.1111111111111111, \"#46039f\"], [0.2222222222222222, \"#7201a8\"], [0.3333333333333333, \"#9c179e\"], [0.4444444444444444, \"#bd3786\"], [0.5555555555555556, \"#d8576b\"], [0.6666666666666666, \"#ed7953\"], [0.7777777777777778, \"#fb9f3a\"], [0.8888888888888888, \"#fdca26\"], [1.0, \"#f0f921\"]], \"type\": \"histogram2d\"}], \"histogram2dcontour\": [{\"colorbar\": {\"outlinewidth\": 0, \"ticks\": \"\"}, \"colorscale\": [[0.0, \"#0d0887\"], [0.1111111111111111, \"#46039f\"], [0.2222222222222222, \"#7201a8\"], [0.3333333333333333, \"#9c179e\"], [0.4444444444444444, \"#bd3786\"], [0.5555555555555556, \"#d8576b\"], [0.6666666666666666, \"#ed7953\"], [0.7777777777777778, \"#fb9f3a\"], [0.8888888888888888, \"#fdca26\"], [1.0, \"#f0f921\"]], \"type\": \"histogram2dcontour\"}], \"mesh3d\": [{\"colorbar\": {\"outlinewidth\": 0, \"ticks\": \"\"}, \"type\": \"mesh3d\"}], \"parcoords\": [{\"line\": {\"colorbar\": {\"outlinewidth\": 0, \"ticks\": \"\"}}, \"type\": \"parcoords\"}], \"pie\": [{\"automargin\": true, \"type\": \"pie\"}], \"scatter\": [{\"marker\": {\"colorbar\": {\"outlinewidth\": 0, \"ticks\": \"\"}}, \"type\": \"scatter\"}], \"scatter3d\": [{\"line\": {\"colorbar\": {\"outlinewidth\": 0, \"ticks\": \"\"}}, \"marker\": {\"colorbar\": {\"outlinewidth\": 0, \"ticks\": \"\"}}, \"type\": \"scatter3d\"}], \"scattercarpet\": [{\"marker\": {\"colorbar\": {\"outlinewidth\": 0, \"ticks\": \"\"}}, \"type\": \"scattercarpet\"}], \"scattergeo\": [{\"marker\": {\"colorbar\": {\"outlinewidth\": 0, \"ticks\": \"\"}}, \"type\": \"scattergeo\"}], \"scattergl\": [{\"marker\": {\"colorbar\": {\"outlinewidth\": 0, \"ticks\": \"\"}}, \"type\": \"scattergl\"}], \"scattermapbox\": [{\"marker\": {\"colorbar\": {\"outlinewidth\": 0, \"ticks\": \"\"}}, \"type\": \"scattermapbox\"}], \"scatterpolar\": [{\"marker\": {\"colorbar\": {\"outlinewidth\": 0, \"ticks\": \"\"}}, \"type\": \"scatterpolar\"}], \"scatterpolargl\": [{\"marker\": {\"colorbar\": {\"outlinewidth\": 0, \"ticks\": \"\"}}, \"type\": \"scatterpolargl\"}], \"scatterternary\": [{\"marker\": {\"colorbar\": {\"outlinewidth\": 0, \"ticks\": \"\"}}, \"type\": \"scatterternary\"}], \"surface\": [{\"colorbar\": {\"outlinewidth\": 0, \"ticks\": \"\"}, \"colorscale\": [[0.0, \"#0d0887\"], [0.1111111111111111, \"#46039f\"], [0.2222222222222222, \"#7201a8\"], [0.3333333333333333, \"#9c179e\"], [0.4444444444444444, \"#bd3786\"], [0.5555555555555556, \"#d8576b\"], [0.6666666666666666, \"#ed7953\"], [0.7777777777777778, \"#fb9f3a\"], [0.8888888888888888, \"#fdca26\"], [1.0, \"#f0f921\"]], \"type\": \"surface\"}], \"table\": [{\"cells\": {\"fill\": {\"color\": \"#EBF0F8\"}, \"line\": {\"color\": \"white\"}}, \"header\": {\"fill\": {\"color\": \"#C8D4E3\"}, \"line\": {\"color\": \"white\"}}, \"type\": \"table\"}]}, \"layout\": {\"annotationdefaults\": {\"arrowcolor\": \"#2a3f5f\", \"arrowhead\": 0, \"arrowwidth\": 1}, \"autotypenumbers\": \"strict\", \"coloraxis\": {\"colorbar\": {\"outlinewidth\": 0, \"ticks\": \"\"}}, \"colorscale\": {\"diverging\": [[0, \"#8e0152\"], [0.1, \"#c51b7d\"], [0.2, \"#de77ae\"], [0.3, \"#f1b6da\"], [0.4, \"#fde0ef\"], [0.5, \"#f7f7f7\"], [0.6, \"#e6f5d0\"], [0.7, \"#b8e186\"], [0.8, \"#7fbc41\"], [0.9, \"#4d9221\"], [1, \"#276419\"]], \"sequential\": [[0.0, \"#0d0887\"], [0.1111111111111111, \"#46039f\"], [0.2222222222222222, \"#7201a8\"], [0.3333333333333333, \"#9c179e\"], [0.4444444444444444, \"#bd3786\"], [0.5555555555555556, \"#d8576b\"], [0.6666666666666666, \"#ed7953\"], [0.7777777777777778, \"#fb9f3a\"], [0.8888888888888888, \"#fdca26\"], [1.0, \"#f0f921\"]], \"sequentialminus\": [[0.0, \"#0d0887\"], [0.1111111111111111, \"#46039f\"], [0.2222222222222222, \"#7201a8\"], [0.3333333333333333, \"#9c179e\"], [0.4444444444444444, \"#bd3786\"], [0.5555555555555556, \"#d8576b\"], [0.6666666666666666, \"#ed7953\"], [0.7777777777777778, \"#fb9f3a\"], [0.8888888888888888, \"#fdca26\"], [1.0, \"#f0f921\"]]}, \"colorway\": [\"#636efa\", \"#EF553B\", \"#00cc96\", \"#ab63fa\", \"#FFA15A\", \"#19d3f3\", \"#FF6692\", \"#B6E880\", \"#FF97FF\", \"#FECB52\"], \"font\": {\"color\": \"#2a3f5f\"}, \"geo\": {\"bgcolor\": \"white\", \"lakecolor\": \"white\", \"landcolor\": \"#E5ECF6\", \"showlakes\": true, \"showland\": true, \"subunitcolor\": \"white\"}, \"hoverlabel\": {\"align\": \"left\"}, \"hovermode\": \"closest\", \"mapbox\": {\"style\": \"light\"}, \"paper_bgcolor\": \"white\", \"plot_bgcolor\": \"#E5ECF6\", \"polar\": {\"angularaxis\": {\"gridcolor\": \"white\", \"linecolor\": \"white\", \"ticks\": \"\"}, \"bgcolor\": \"#E5ECF6\", \"radialaxis\": {\"gridcolor\": \"white\", \"linecolor\": \"white\", \"ticks\": \"\"}}, \"scene\": {\"xaxis\": {\"backgroundcolor\": \"#E5ECF6\", \"gridcolor\": \"white\", \"gridwidth\": 2, \"linecolor\": \"white\", \"showbackground\": true, \"ticks\": \"\", \"zerolinecolor\": \"white\"}, \"yaxis\": {\"backgroundcolor\": \"#E5ECF6\", \"gridcolor\": \"white\", \"gridwidth\": 2, \"linecolor\": \"white\", \"showbackground\": true, \"ticks\": \"\", \"zerolinecolor\": \"white\"}, \"zaxis\": {\"backgroundcolor\": \"#E5ECF6\", \"gridcolor\": \"white\", \"gridwidth\": 2, \"linecolor\": \"white\", \"showbackground\": true, \"ticks\": \"\", \"zerolinecolor\": \"white\"}}, \"shapedefaults\": {\"line\": {\"color\": \"#2a3f5f\"}}, \"ternary\": {\"aaxis\": {\"gridcolor\": \"white\", \"linecolor\": \"white\", \"ticks\": \"\"}, \"baxis\": {\"gridcolor\": \"white\", \"linecolor\": \"white\", \"ticks\": \"\"}, \"bgcolor\": \"#E5ECF6\", \"caxis\": {\"gridcolor\": \"white\", \"linecolor\": \"white\", \"ticks\": \"\"}}, \"title\": {\"x\": 0.05}, \"xaxis\": {\"automargin\": true, \"gridcolor\": \"white\", \"linecolor\": \"white\", \"ticks\": \"\", \"title\": {\"standoff\": 15}, \"zerolinecolor\": \"white\", \"zerolinewidth\": 2}, \"yaxis\": {\"automargin\": true, \"gridcolor\": \"white\", \"linecolor\": \"white\", \"ticks\": \"\", \"title\": {\"standoff\": 15}, \"zerolinecolor\": \"white\", \"zerolinewidth\": 2}}}, \"title\": {\"text\": \"Slice Plot\"}, \"xaxis\": {\"anchor\": \"y\", \"domain\": [0.0, 0.45], \"title\": {\"text\": \"rf_max_depth\"}}, \"xaxis2\": {\"anchor\": \"y2\", \"domain\": [0.55, 1.0], \"title\": {\"text\": \"rf_n_estimators\"}}, \"yaxis\": {\"anchor\": \"x\", \"domain\": [0.0, 1.0], \"title\": {\"text\": \"Objective Value\"}}, \"yaxis2\": {\"anchor\": \"x2\", \"domain\": [0.0, 1.0], \"matches\": \"y\", \"showticklabels\": false}},                        {\"responsive\": true}                    ).then(function(){\n",
       "                            \n",
       "var gd = document.getElementById('46b4f705-c296-4aa0-840d-9be24e76f777');\n",
       "var x = new MutationObserver(function (mutations, observer) {{\n",
       "        var display = window.getComputedStyle(gd).display;\n",
       "        if (!display || display === 'none') {{\n",
       "            console.log([gd, 'removed!']);\n",
       "            Plotly.purge(gd);\n",
       "            observer.disconnect();\n",
       "        }}\n",
       "}});\n",
       "\n",
       "// Listen for the removal of the full notebook cells\n",
       "var notebookContainer = gd.closest('#notebook-container');\n",
       "if (notebookContainer) {{\n",
       "    x.observe(notebookContainer, {childList: true});\n",
       "}}\n",
       "\n",
       "// Listen for the clearing of the current output cell\n",
       "var outputEl = gd.closest('.output');\n",
       "if (outputEl) {{\n",
       "    x.observe(outputEl, {childList: true});\n",
       "}}\n",
       "\n",
       "                        })                };                });            </script>        </div>"
      ]
     },
     "metadata": {},
     "output_type": "display_data"
    }
   ],
   "source": [
    "# Visualize the slice plot\n",
    "optuna.visualization.plot_slice(study, params = ['rf_n_estimators', 'rf_max_depth'])"
   ]
  },
  {
   "cell_type": "code",
   "execution_count": null,
   "metadata": {},
   "outputs": [],
   "source": []
  },
  {
   "cell_type": "code",
   "execution_count": null,
   "metadata": {},
   "outputs": [],
   "source": []
  },
  {
   "cell_type": "code",
   "execution_count": null,
   "metadata": {},
   "outputs": [],
   "source": []
  },
  {
   "cell_type": "code",
   "execution_count": null,
   "metadata": {},
   "outputs": [],
   "source": []
  },
  {
   "cell_type": "code",
   "execution_count": null,
   "metadata": {},
   "outputs": [],
   "source": []
  },
  {
   "cell_type": "code",
   "execution_count": null,
   "metadata": {},
   "outputs": [],
   "source": []
  },
  {
   "cell_type": "markdown",
   "metadata": {},
   "source": [
    "## Defining parameter spaces\n",
    "### Optuna supports five ways to define parameters"
   ]
  },
  {
   "cell_type": "code",
   "execution_count": null,
   "metadata": {
    "ExecuteTime": {
     "end_time": "2021-04-20T01:48:15.456380Z",
     "start_time": "2021-04-20T01:48:15.452092Z"
    }
   },
   "outputs": [],
   "source": [
    "def objective(trial):\n",
    "    # Categorical paramter\n",
    "    rf_criterion = trial.suggest_categorical('rf_criterion', ['gini', 'entropy'])\n",
    "    \n",
    "    # Int paramter\n",
    "    rf_n_estimators = trial.suggest_int(\"rf_n_estimators\", 10, 1000)\n",
    "    \n",
    "    rf_max_depth = trial.suggest_int(\"rf_max_depth\", 2, 32, log=True)\n",
    "    \n",
    "    # Uniform parameter\n",
    "    rf_min_weight_fraction_leaf = trial.suggest_uniform('rf_min_weight_fraction_leaf', 0.0, 1.0)\n",
    "    \n",
    "    # Loguniform parameter\n",
    "#     learning_rate = trial.suggest_loguniform('rf_parameter_x', 1e-5, 1e-2)\n",
    "    \n",
    "    # Discrete-uniform parameter\n",
    "#     drop_path_rate = trial.suggest_discrete_uniform('rf_parameter_y', 0.0, 1.0, 0.1)\n",
    "    \n",
    "    classifier_obj = ensemble.RandomForestClassifier(\n",
    "             n_estimators=rf_n_estimators, criterion=rf_criterion, max_depth=rf_max_depth\n",
    "            ,min_weight_fraction_leaf = rf_min_weight_fraction_leaf)\n",
    "    \n",
    "    score = model_selection.cross_val_score(classifier_obj, X, y, n_jobs=-1, cv=3)\n",
    "    accuracy = score.mean()\n",
    "    return accuracy"
   ]
  },
  {
   "cell_type": "code",
   "execution_count": null,
   "metadata": {
    "ExecuteTime": {
     "end_time": "2021-04-20T02:10:59.341853Z",
     "start_time": "2021-04-20T01:50:30.989433Z"
    }
   },
   "outputs": [],
   "source": [
    "%%timeit\n",
    "study = optuna.create_study(direction=\"maximize\")\n",
    "\n",
    "\n",
    "study.optimize(objective, n_trials=1000)"
   ]
  },
  {
   "cell_type": "code",
   "execution_count": null,
   "metadata": {
    "ExecuteTime": {
     "end_time": "2021-04-20T01:49:41.387796Z",
     "start_time": "2021-04-20T01:49:41.381539Z"
    }
   },
   "outputs": [],
   "source": [
    "study.best_params"
   ]
  },
  {
   "cell_type": "code",
   "execution_count": null,
   "metadata": {
    "ExecuteTime": {
     "end_time": "2021-04-20T01:49:46.571821Z",
     "start_time": "2021-04-20T01:49:46.567857Z"
    }
   },
   "outputs": [],
   "source": [
    "study.best_value"
   ]
  },
  {
   "cell_type": "code",
   "execution_count": null,
   "metadata": {},
   "outputs": [],
   "source": []
  }
 ],
 "metadata": {
  "kernelspec": {
   "display_name": "Python 3",
   "language": "python",
   "name": "python3"
  },
  "language_info": {
   "codemirror_mode": {
    "name": "ipython",
    "version": 3
   },
   "file_extension": ".py",
   "mimetype": "text/x-python",
   "name": "python",
   "nbconvert_exporter": "python",
   "pygments_lexer": "ipython3",
   "version": "3.8.5"
  }
 },
 "nbformat": 4,
 "nbformat_minor": 4
}
